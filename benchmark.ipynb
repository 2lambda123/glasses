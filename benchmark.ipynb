{
 "cells": [
  {
   "cell_type": "code",
   "execution_count": 1,
   "metadata": {},
   "outputs": [],
   "source": [
    "import pandas as pd\n",
    "import pickle\n",
    "\n",
    "df = pickle.load(open('./benchmark.pkl', 'rb'))"
   ]
  },
  {
   "cell_type": "code",
   "execution_count": 2,
   "metadata": {},
   "outputs": [
    {
     "name": "stdout",
     "output_type": "stream",
     "text": [
      "|                 |    top1 |    top5 |   time (s) |\n",
      "|:----------------|--------:|--------:|-----------:|\n",
      "| efficientnet-b0 | 0.7465  | 0.91932 |    78.2806 |\n",
      "| efficientnet-b1 | 0.7461  | 0.91616 |   120.922  |\n",
      "| efficientnet-b2 | 0.79394 | 0.9459  |   159.07   |\n",
      "| efficientnet-b3 | 0.81212 | 0.95526 |   253.05   |\n",
      "| efficientnet-b4 | 0.82788 | 0.96234 |   542.88   |\n",
      "| efficientnet-b5 | 0.8345  | 0.9663  |  1049.4    |\n",
      "| efficientnet-b6 | 0.84024 | 0.96908 |  1853.14   |\n",
      "| efficientnet-b7 | 0.84106 | 0.9692  |  3245.83   |\n"
     ]
    }
   ],
   "source": [
    "tmp = df[['original_top1', 'original_top5', 'original_time']]\n",
    "\n",
    "tmp.columns = ['top1', 'top5', 'time (s)']\n",
    "\n",
    "mk = tmp.to_markdown()\n",
    "\n",
    "print(mk)"
   ]
  },
  {
   "cell_type": "code",
   "execution_count": null,
   "metadata": {},
   "outputs": [],
   "source": []
  }
 ],
 "metadata": {
  "kernelspec": {
   "display_name": "Python 3",
   "language": "python",
   "name": "python3"
  },
  "language_info": {
   "codemirror_mode": {
    "name": "ipython",
    "version": 3
   },
   "file_extension": ".py",
   "mimetype": "text/x-python",
   "name": "python",
   "nbconvert_exporter": "python",
   "pygments_lexer": "ipython3",
   "version": "3.8.2"
  }
 },
 "nbformat": 4,
 "nbformat_minor": 4
}
