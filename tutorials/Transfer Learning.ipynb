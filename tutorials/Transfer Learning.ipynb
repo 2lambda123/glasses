{
 "cells": [
  {
   "cell_type": "markdown",
   "metadata": {},
   "source": [
    "# Transfer Learning"
   ]
  },
  {
   "cell_type": "markdown",
   "metadata": {},
   "source": [
    "### Preambula\n",
    "To get started you need to install glasses, this can be done through `pip`\n",
    "\n",
    "```bash\n",
    "pip install git+https://github.com/FrancescoSaverioZuppichini/glasses\n",
    "```"
   ]
  },
  {
   "cell_type": "markdown",
   "metadata": {},
   "source": [
    "## Transfer Learning\n",
    "\n",
    "Train a deep convolutional neural network may take a lot of time, **transfer learning**, as the name suggests, uses models already trained on a huge image dataset, such as ImageNet, to speed up the learning procedure. \n",
    "\n",
    "Even if your dataset may be different than ImageNet, the pre-trained models have learned useful weights that can be easily adapt to your new dataset."
   ]
  },
  {
   "cell_type": "markdown",
   "metadata": {},
   "source": [
    "### Loading a Model\n",
    "\n",
    "You can use `AutoModel` and `AutoTransform` to load your model and your preprocessing function. In this tutorial, we are going to use `resnet34`."
   ]
  },
  {
   "cell_type": "code",
   "execution_count": 1,
   "metadata": {
    "scrolled": true
   },
   "outputs": [
    {
     "name": "stderr",
     "output_type": "stream",
     "text": [
      "INFO:root:Loaded resnet34 pretrained weights.\n"
     ]
    }
   ],
   "source": [
    "from glasses.models import AutoModel, AutoTransform\n",
    "\n",
    "resnet34 = AutoModel.from_pretrained('resnet34') \n",
    "cfg = AutoTransform.from_name('resnet34')"
   ]
  },
  {
   "cell_type": "markdown",
   "metadata": {},
   "source": [
    "You can also call `.summary()` to see your models parameters"
   ]
  },
  {
   "cell_type": "code",
   "execution_count": 2,
   "metadata": {},
   "outputs": [
    {
     "name": "stdout",
     "output_type": "stream",
     "text": [
      "----------------------------------------------------------------\n",
      "        Layer (type)               Output Shape         Param #\n",
      "================================================================\n",
      "         Conv2dPad-1         [-1, 64, 112, 112]           9,408\n",
      "       BatchNorm2d-2         [-1, 64, 112, 112]             128\n",
      "              ReLU-3         [-1, 64, 112, 112]               0\n",
      "         MaxPool2d-4           [-1, 64, 56, 56]               0\n",
      "         Conv2dPad-5           [-1, 64, 56, 56]          36,864\n",
      "       BatchNorm2d-6           [-1, 64, 56, 56]             128\n",
      "              ReLU-7           [-1, 64, 56, 56]               0\n",
      "         Conv2dPad-8           [-1, 64, 56, 56]          36,864\n",
      "       BatchNorm2d-9           [-1, 64, 56, 56]             128\n",
      "         Identity-10           [-1, 64, 56, 56]               0\n",
      "             ReLU-11           [-1, 64, 56, 56]               0\n",
      " ResNetBasicBlock-12           [-1, 64, 56, 56]               0\n",
      "        Conv2dPad-13           [-1, 64, 56, 56]          36,864\n",
      "      BatchNorm2d-14           [-1, 64, 56, 56]             128\n",
      "             ReLU-15           [-1, 64, 56, 56]               0\n",
      "        Conv2dPad-16           [-1, 64, 56, 56]          36,864\n",
      "      BatchNorm2d-17           [-1, 64, 56, 56]             128\n",
      "         Identity-18           [-1, 64, 56, 56]               0\n",
      "             ReLU-19           [-1, 64, 56, 56]               0\n",
      " ResNetBasicBlock-20           [-1, 64, 56, 56]               0\n",
      "        Conv2dPad-21           [-1, 64, 56, 56]          36,864\n",
      "      BatchNorm2d-22           [-1, 64, 56, 56]             128\n",
      "             ReLU-23           [-1, 64, 56, 56]               0\n",
      "        Conv2dPad-24           [-1, 64, 56, 56]          36,864\n",
      "      BatchNorm2d-25           [-1, 64, 56, 56]             128\n",
      "         Identity-26           [-1, 64, 56, 56]               0\n",
      "             ReLU-27           [-1, 64, 56, 56]               0\n",
      " ResNetBasicBlock-28           [-1, 64, 56, 56]               0\n",
      "      ResNetLayer-29           [-1, 64, 56, 56]               0\n",
      "        Conv2dPad-30          [-1, 128, 28, 28]          73,728\n",
      "      BatchNorm2d-31          [-1, 128, 28, 28]             256\n",
      "             ReLU-32          [-1, 128, 28, 28]               0\n",
      "        Conv2dPad-33          [-1, 128, 28, 28]         147,456\n",
      "      BatchNorm2d-34          [-1, 128, 28, 28]             256\n",
      "        Conv2dPad-35          [-1, 128, 28, 28]           8,192\n",
      "      BatchNorm2d-36          [-1, 128, 28, 28]             256\n",
      "    ResNetShorcut-37          [-1, 128, 28, 28]               0\n",
      "             ReLU-38          [-1, 128, 28, 28]               0\n",
      " ResNetBasicBlock-39          [-1, 128, 28, 28]               0\n",
      "        Conv2dPad-40          [-1, 128, 28, 28]         147,456\n",
      "      BatchNorm2d-41          [-1, 128, 28, 28]             256\n",
      "             ReLU-42          [-1, 128, 28, 28]               0\n",
      "        Conv2dPad-43          [-1, 128, 28, 28]         147,456\n",
      "      BatchNorm2d-44          [-1, 128, 28, 28]             256\n",
      "         Identity-45          [-1, 128, 28, 28]               0\n",
      "             ReLU-46          [-1, 128, 28, 28]               0\n",
      " ResNetBasicBlock-47          [-1, 128, 28, 28]               0\n",
      "        Conv2dPad-48          [-1, 128, 28, 28]         147,456\n",
      "      BatchNorm2d-49          [-1, 128, 28, 28]             256\n",
      "             ReLU-50          [-1, 128, 28, 28]               0\n",
      "        Conv2dPad-51          [-1, 128, 28, 28]         147,456\n",
      "      BatchNorm2d-52          [-1, 128, 28, 28]             256\n",
      "         Identity-53          [-1, 128, 28, 28]               0\n",
      "             ReLU-54          [-1, 128, 28, 28]               0\n",
      " ResNetBasicBlock-55          [-1, 128, 28, 28]               0\n",
      "        Conv2dPad-56          [-1, 128, 28, 28]         147,456\n",
      "      BatchNorm2d-57          [-1, 128, 28, 28]             256\n",
      "             ReLU-58          [-1, 128, 28, 28]               0\n",
      "        Conv2dPad-59          [-1, 128, 28, 28]         147,456\n",
      "      BatchNorm2d-60          [-1, 128, 28, 28]             256\n",
      "         Identity-61          [-1, 128, 28, 28]               0\n",
      "             ReLU-62          [-1, 128, 28, 28]               0\n",
      " ResNetBasicBlock-63          [-1, 128, 28, 28]               0\n",
      "      ResNetLayer-64          [-1, 128, 28, 28]               0\n",
      "        Conv2dPad-65          [-1, 256, 14, 14]         294,912\n",
      "      BatchNorm2d-66          [-1, 256, 14, 14]             512\n",
      "             ReLU-67          [-1, 256, 14, 14]               0\n",
      "        Conv2dPad-68          [-1, 256, 14, 14]         589,824\n",
      "      BatchNorm2d-69          [-1, 256, 14, 14]             512\n",
      "        Conv2dPad-70          [-1, 256, 14, 14]          32,768\n",
      "      BatchNorm2d-71          [-1, 256, 14, 14]             512\n",
      "    ResNetShorcut-72          [-1, 256, 14, 14]               0\n",
      "             ReLU-73          [-1, 256, 14, 14]               0\n",
      " ResNetBasicBlock-74          [-1, 256, 14, 14]               0\n",
      "        Conv2dPad-75          [-1, 256, 14, 14]         589,824\n",
      "      BatchNorm2d-76          [-1, 256, 14, 14]             512\n",
      "             ReLU-77          [-1, 256, 14, 14]               0\n",
      "        Conv2dPad-78          [-1, 256, 14, 14]         589,824\n",
      "      BatchNorm2d-79          [-1, 256, 14, 14]             512\n",
      "         Identity-80          [-1, 256, 14, 14]               0\n",
      "             ReLU-81          [-1, 256, 14, 14]               0\n",
      " ResNetBasicBlock-82          [-1, 256, 14, 14]               0\n",
      "        Conv2dPad-83          [-1, 256, 14, 14]         589,824\n",
      "      BatchNorm2d-84          [-1, 256, 14, 14]             512\n",
      "             ReLU-85          [-1, 256, 14, 14]               0\n",
      "        Conv2dPad-86          [-1, 256, 14, 14]         589,824\n",
      "      BatchNorm2d-87          [-1, 256, 14, 14]             512\n",
      "         Identity-88          [-1, 256, 14, 14]               0\n",
      "             ReLU-89          [-1, 256, 14, 14]               0\n",
      " ResNetBasicBlock-90          [-1, 256, 14, 14]               0\n",
      "        Conv2dPad-91          [-1, 256, 14, 14]         589,824\n",
      "      BatchNorm2d-92          [-1, 256, 14, 14]             512\n",
      "             ReLU-93          [-1, 256, 14, 14]               0\n",
      "        Conv2dPad-94          [-1, 256, 14, 14]         589,824\n",
      "      BatchNorm2d-95          [-1, 256, 14, 14]             512\n",
      "         Identity-96          [-1, 256, 14, 14]               0\n",
      "             ReLU-97          [-1, 256, 14, 14]               0\n",
      " ResNetBasicBlock-98          [-1, 256, 14, 14]               0\n",
      "        Conv2dPad-99          [-1, 256, 14, 14]         589,824\n",
      "     BatchNorm2d-100          [-1, 256, 14, 14]             512\n",
      "            ReLU-101          [-1, 256, 14, 14]               0\n",
      "       Conv2dPad-102          [-1, 256, 14, 14]         589,824\n",
      "     BatchNorm2d-103          [-1, 256, 14, 14]             512\n",
      "        Identity-104          [-1, 256, 14, 14]               0\n",
      "            ReLU-105          [-1, 256, 14, 14]               0\n",
      "ResNetBasicBlock-106          [-1, 256, 14, 14]               0\n",
      "       Conv2dPad-107          [-1, 256, 14, 14]         589,824\n",
      "     BatchNorm2d-108          [-1, 256, 14, 14]             512\n",
      "            ReLU-109          [-1, 256, 14, 14]               0\n",
      "       Conv2dPad-110          [-1, 256, 14, 14]         589,824\n",
      "     BatchNorm2d-111          [-1, 256, 14, 14]             512\n",
      "        Identity-112          [-1, 256, 14, 14]               0\n",
      "            ReLU-113          [-1, 256, 14, 14]               0\n",
      "ResNetBasicBlock-114          [-1, 256, 14, 14]               0\n",
      "     ResNetLayer-115          [-1, 256, 14, 14]               0\n",
      "       Conv2dPad-116            [-1, 512, 7, 7]       1,179,648\n",
      "     BatchNorm2d-117            [-1, 512, 7, 7]           1,024\n",
      "            ReLU-118            [-1, 512, 7, 7]               0\n",
      "       Conv2dPad-119            [-1, 512, 7, 7]       2,359,296\n",
      "     BatchNorm2d-120            [-1, 512, 7, 7]           1,024\n",
      "       Conv2dPad-121            [-1, 512, 7, 7]         131,072\n",
      "     BatchNorm2d-122            [-1, 512, 7, 7]           1,024\n",
      "   ResNetShorcut-123            [-1, 512, 7, 7]               0\n",
      "            ReLU-124            [-1, 512, 7, 7]               0\n",
      "ResNetBasicBlock-125            [-1, 512, 7, 7]               0\n",
      "       Conv2dPad-126            [-1, 512, 7, 7]       2,359,296\n",
      "     BatchNorm2d-127            [-1, 512, 7, 7]           1,024\n",
      "            ReLU-128            [-1, 512, 7, 7]               0\n",
      "       Conv2dPad-129            [-1, 512, 7, 7]       2,359,296\n",
      "     BatchNorm2d-130            [-1, 512, 7, 7]           1,024\n",
      "        Identity-131            [-1, 512, 7, 7]               0\n",
      "            ReLU-132            [-1, 512, 7, 7]               0\n",
      "ResNetBasicBlock-133            [-1, 512, 7, 7]               0\n",
      "       Conv2dPad-134            [-1, 512, 7, 7]       2,359,296\n",
      "     BatchNorm2d-135            [-1, 512, 7, 7]           1,024\n",
      "            ReLU-136            [-1, 512, 7, 7]               0\n",
      "       Conv2dPad-137            [-1, 512, 7, 7]       2,359,296\n",
      "     BatchNorm2d-138            [-1, 512, 7, 7]           1,024\n",
      "        Identity-139            [-1, 512, 7, 7]               0\n",
      "            ReLU-140            [-1, 512, 7, 7]               0\n",
      "ResNetBasicBlock-141            [-1, 512, 7, 7]               0\n",
      "     ResNetLayer-142            [-1, 512, 7, 7]               0\n",
      "   ResNetEncoder-143            [-1, 512, 7, 7]               0\n",
      "AdaptiveAvgPool2d-144            [-1, 512, 1, 1]               0\n",
      "         Flatten-145                  [-1, 512]               0\n",
      "          Linear-146                 [-1, 1000]         513,000\n",
      "          ResNet-147                 [-1, 1000]               0\n",
      "================================================================\n",
      "Total params: 21,797,672\n",
      "Trainable params: 21,797,672\n",
      "Non-trainable params: 0\n",
      "----------------------------------------------------------------\n",
      "Input size (MB): 0.57\n",
      "Forward/backward pass size (MB): 109.89\n",
      "Params size (MB): 83.15\n",
      "Estimated Total Size (MB): 193.62\n",
      "----------------------------------------------------------------\n",
      "\n"
     ]
    },
    {
     "data": {
      "text/plain": [
       "(tensor(21797672), tensor(21797672))"
      ]
     },
     "execution_count": 2,
     "metadata": {},
     "output_type": "execute_result"
    }
   ],
   "source": [
    "resnet34.summary()"
   ]
  },
  {
   "cell_type": "markdown",
   "metadata": {},
   "source": [
    "`AutoTransform` returns the correct configuration for a specific model. This is crucial because you need to properly preprocess your input in the same way it was done when the model was originally trained. `cfg` returns a `Config` object that contains the correct PyTorch transformation. "
   ]
  },
  {
   "cell_type": "code",
   "execution_count": 3,
   "metadata": {},
   "outputs": [
    {
     "data": {
      "text/plain": [
       "Compose(\n",
       "    Resize(size=256, interpolation=PIL.Image.BILINEAR)\n",
       "    CenterCrop(size=(224, 224))\n",
       "    ToTensor()\n",
       "    Normalize(mean=tensor([0.4850, 0.4560, 0.4060]), std=tensor([0.2290, 0.2240, 0.2250]))\n",
       ")"
      ]
     },
     "execution_count": 3,
     "metadata": {},
     "output_type": "execute_result"
    }
   ],
   "source": [
    "tr = cfg.transform\n",
    "tr"
   ]
  },
  {
   "cell_type": "markdown",
   "metadata": {},
   "source": [
    "A list of available models can be obtained using `AutoModel.models()`"
   ]
  },
  {
   "cell_type": "markdown",
   "metadata": {},
   "source": [
    "### Freeze model layers and replace the classification head\n",
    "\n",
    "Cool, we have our model. Now we need to **freeze** the convolution layers and change the classification head. In glasses, each classification model is composed by a `Encoder` (where the convs are) and a `Head` (usually a linear layer) that performs the final classification. Each `Encoder` has the `.widths` field that tells the number of output features at each layer."
   ]
  },
  {
   "cell_type": "code",
   "execution_count": 4,
   "metadata": {
    "scrolled": true
   },
   "outputs": [
    {
     "data": {
      "text/plain": [
       "[64, 128, 256, 512]"
      ]
     },
     "execution_count": 4,
     "metadata": {},
     "output_type": "execute_result"
    }
   ],
   "source": [
    "from glasses.models.classification.resnet import ResNetHead\n",
    "\n",
    "resnet34.freeze()\n",
    "# you can also freeze a specific layer e.g. resnet34.freeze(who=resnet34.encoder.layers[0])\n",
    "# head will need to know how many features we are passing into\n",
    "resnet34.head = ResNetHead(in_features=resnet34.encoder.widths[-1], n_classes=2)\n",
    "# just to show you\n",
    "resnet34.encoder.widths"
   ]
  },
  {
   "cell_type": "markdown",
   "metadata": {},
   "source": [
    "Just to be sure :)"
   ]
  },
  {
   "cell_type": "code",
   "execution_count": 5,
   "metadata": {},
   "outputs": [],
   "source": [
    "# no grad in the encoder\n",
    "for param in resnet34.encoder.parameters():\n",
    "    assert not param.requires_grad\n",
    "# grad in the head\n",
    "for param in resnet34.head.parameters():\n",
    "    assert param.requires_grad"
   ]
  },
  {
   "cell_type": "markdown",
   "metadata": {},
   "source": [
    "Now your model is ready to train it!"
   ]
  }
 ],
 "metadata": {
  "kernelspec": {
   "display_name": "Python 3",
   "language": "python",
   "name": "python3"
  },
  "language_info": {
   "codemirror_mode": {
    "name": "ipython",
    "version": 3
   },
   "file_extension": ".py",
   "mimetype": "text/x-python",
   "name": "python",
   "nbconvert_exporter": "python",
   "pygments_lexer": "ipython3",
   "version": "3.8.5"
  }
 },
 "nbformat": 4,
 "nbformat_minor": 4
}
