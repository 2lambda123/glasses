{
 "cells": [
  {
   "cell_type": "code",
   "execution_count": 1,
   "metadata": {
    "scrolled": true
   },
   "outputs": [],
   "source": [
    "%load_ext autoreload\n",
    "%autoreload 2"
   ]
  },
  {
   "cell_type": "markdown",
   "metadata": {},
   "source": [
    "# AutoModel"
   ]
  },
  {
   "cell_type": "code",
   "execution_count": 2,
   "metadata": {},
   "outputs": [],
   "source": [
    "from glasses.models.AutoModel import AutoModel\n",
    "from glasses.models.AutoConfig import AutoConfig\n",
    "import torch"
   ]
  },
  {
   "cell_type": "code",
   "execution_count": 3,
   "metadata": {
    "scrolled": true
   },
   "outputs": [
    {
     "name": "stderr",
     "output_type": "stream",
     "text": [
      "INFO:root:Loaded cse_resnet50 pretrained weights.\n"
     ]
    },
    {
     "name": "stdout",
     "output_type": "stream",
     "text": [
      "----------------------------------------------------------------\n",
      "        Layer (type)               Output Shape         Param #\n",
      "================================================================\n",
      "         Conv2dPad-1         [-1, 64, 112, 112]           9,408\n",
      "       BatchNorm2d-2         [-1, 64, 112, 112]             128\n",
      "              ReLU-3         [-1, 64, 112, 112]               0\n",
      "         MaxPool2d-4           [-1, 64, 56, 56]               0\n",
      "         Conv2dPad-5           [-1, 64, 56, 56]           4,096\n",
      "       BatchNorm2d-6           [-1, 64, 56, 56]             128\n",
      "              ReLU-7           [-1, 64, 56, 56]               0\n",
      "         Conv2dPad-8           [-1, 64, 56, 56]          36,864\n",
      "       BatchNorm2d-9           [-1, 64, 56, 56]             128\n",
      "             ReLU-10           [-1, 64, 56, 56]               0\n",
      "        Conv2dPad-11          [-1, 256, 56, 56]          16,384\n",
      "      BatchNorm2d-12          [-1, 256, 56, 56]             512\n",
      "AdaptiveAvgPool2d-13            [-1, 256, 1, 1]               0\n",
      "           Conv2d-14             [-1, 16, 1, 1]           4,112\n",
      "             ReLU-15             [-1, 16, 1, 1]               0\n",
      "           Conv2d-16            [-1, 256, 1, 1]           4,352\n",
      "          Sigmoid-17            [-1, 256, 1, 1]               0\n",
      "        ChannelSE-18          [-1, 256, 56, 56]               0\n",
      "        Conv2dPad-19          [-1, 256, 56, 56]          16,384\n",
      "      BatchNorm2d-20          [-1, 256, 56, 56]             512\n",
      "    ResNetShorcut-21          [-1, 256, 56, 56]               0\n",
      "             ReLU-22          [-1, 256, 56, 56]               0\n",
      "ResNetBottleneckBlock-23          [-1, 256, 56, 56]               0\n",
      "        Conv2dPad-24           [-1, 64, 56, 56]          16,384\n",
      "      BatchNorm2d-25           [-1, 64, 56, 56]             128\n",
      "             ReLU-26           [-1, 64, 56, 56]               0\n",
      "        Conv2dPad-27           [-1, 64, 56, 56]          36,864\n",
      "      BatchNorm2d-28           [-1, 64, 56, 56]             128\n",
      "             ReLU-29           [-1, 64, 56, 56]               0\n",
      "        Conv2dPad-30          [-1, 256, 56, 56]          16,384\n",
      "      BatchNorm2d-31          [-1, 256, 56, 56]             512\n",
      "AdaptiveAvgPool2d-32            [-1, 256, 1, 1]               0\n",
      "           Conv2d-33             [-1, 16, 1, 1]           4,112\n",
      "             ReLU-34             [-1, 16, 1, 1]               0\n",
      "           Conv2d-35            [-1, 256, 1, 1]           4,352\n",
      "          Sigmoid-36            [-1, 256, 1, 1]               0\n",
      "        ChannelSE-37          [-1, 256, 56, 56]               0\n",
      "         Identity-38          [-1, 256, 56, 56]               0\n",
      "             ReLU-39          [-1, 256, 56, 56]               0\n",
      "ResNetBottleneckBlock-40          [-1, 256, 56, 56]               0\n",
      "        Conv2dPad-41           [-1, 64, 56, 56]          16,384\n",
      "      BatchNorm2d-42           [-1, 64, 56, 56]             128\n",
      "             ReLU-43           [-1, 64, 56, 56]               0\n",
      "        Conv2dPad-44           [-1, 64, 56, 56]          36,864\n",
      "      BatchNorm2d-45           [-1, 64, 56, 56]             128\n",
      "             ReLU-46           [-1, 64, 56, 56]               0\n",
      "        Conv2dPad-47          [-1, 256, 56, 56]          16,384\n",
      "      BatchNorm2d-48          [-1, 256, 56, 56]             512\n",
      "AdaptiveAvgPool2d-49            [-1, 256, 1, 1]               0\n",
      "           Conv2d-50             [-1, 16, 1, 1]           4,112\n",
      "             ReLU-51             [-1, 16, 1, 1]               0\n",
      "           Conv2d-52            [-1, 256, 1, 1]           4,352\n",
      "          Sigmoid-53            [-1, 256, 1, 1]               0\n",
      "        ChannelSE-54          [-1, 256, 56, 56]               0\n",
      "         Identity-55          [-1, 256, 56, 56]               0\n",
      "             ReLU-56          [-1, 256, 56, 56]               0\n",
      "ResNetBottleneckBlock-57          [-1, 256, 56, 56]               0\n",
      "      ResNetLayer-58          [-1, 256, 56, 56]               0\n",
      "        Conv2dPad-59          [-1, 128, 56, 56]          32,768\n",
      "      BatchNorm2d-60          [-1, 128, 56, 56]             256\n",
      "             ReLU-61          [-1, 128, 56, 56]               0\n",
      "        Conv2dPad-62          [-1, 128, 28, 28]         147,456\n",
      "      BatchNorm2d-63          [-1, 128, 28, 28]             256\n",
      "             ReLU-64          [-1, 128, 28, 28]               0\n",
      "        Conv2dPad-65          [-1, 512, 28, 28]          65,536\n",
      "      BatchNorm2d-66          [-1, 512, 28, 28]           1,024\n",
      "AdaptiveAvgPool2d-67            [-1, 512, 1, 1]               0\n",
      "           Conv2d-68             [-1, 32, 1, 1]          16,416\n",
      "             ReLU-69             [-1, 32, 1, 1]               0\n",
      "           Conv2d-70            [-1, 512, 1, 1]          16,896\n",
      "          Sigmoid-71            [-1, 512, 1, 1]               0\n",
      "        ChannelSE-72          [-1, 512, 28, 28]               0\n",
      "        Conv2dPad-73          [-1, 512, 28, 28]         131,072\n",
      "      BatchNorm2d-74          [-1, 512, 28, 28]           1,024\n",
      "    ResNetShorcut-75          [-1, 512, 28, 28]               0\n",
      "             ReLU-76          [-1, 512, 28, 28]               0\n",
      "ResNetBottleneckBlock-77          [-1, 512, 28, 28]               0\n",
      "        Conv2dPad-78          [-1, 128, 28, 28]          65,536\n",
      "      BatchNorm2d-79          [-1, 128, 28, 28]             256\n",
      "             ReLU-80          [-1, 128, 28, 28]               0\n",
      "        Conv2dPad-81          [-1, 128, 28, 28]         147,456\n",
      "      BatchNorm2d-82          [-1, 128, 28, 28]             256\n",
      "             ReLU-83          [-1, 128, 28, 28]               0\n",
      "        Conv2dPad-84          [-1, 512, 28, 28]          65,536\n",
      "      BatchNorm2d-85          [-1, 512, 28, 28]           1,024\n",
      "AdaptiveAvgPool2d-86            [-1, 512, 1, 1]               0\n",
      "           Conv2d-87             [-1, 32, 1, 1]          16,416\n",
      "             ReLU-88             [-1, 32, 1, 1]               0\n",
      "           Conv2d-89            [-1, 512, 1, 1]          16,896\n",
      "          Sigmoid-90            [-1, 512, 1, 1]               0\n",
      "        ChannelSE-91          [-1, 512, 28, 28]               0\n",
      "         Identity-92          [-1, 512, 28, 28]               0\n",
      "             ReLU-93          [-1, 512, 28, 28]               0\n",
      "ResNetBottleneckBlock-94          [-1, 512, 28, 28]               0\n",
      "        Conv2dPad-95          [-1, 128, 28, 28]          65,536\n",
      "      BatchNorm2d-96          [-1, 128, 28, 28]             256\n",
      "             ReLU-97          [-1, 128, 28, 28]               0\n",
      "        Conv2dPad-98          [-1, 128, 28, 28]         147,456\n",
      "      BatchNorm2d-99          [-1, 128, 28, 28]             256\n",
      "            ReLU-100          [-1, 128, 28, 28]               0\n",
      "       Conv2dPad-101          [-1, 512, 28, 28]          65,536\n",
      "     BatchNorm2d-102          [-1, 512, 28, 28]           1,024\n",
      "AdaptiveAvgPool2d-103            [-1, 512, 1, 1]               0\n",
      "          Conv2d-104             [-1, 32, 1, 1]          16,416\n",
      "            ReLU-105             [-1, 32, 1, 1]               0\n",
      "          Conv2d-106            [-1, 512, 1, 1]          16,896\n",
      "         Sigmoid-107            [-1, 512, 1, 1]               0\n",
      "       ChannelSE-108          [-1, 512, 28, 28]               0\n",
      "        Identity-109          [-1, 512, 28, 28]               0\n",
      "            ReLU-110          [-1, 512, 28, 28]               0\n",
      "ResNetBottleneckBlock-111          [-1, 512, 28, 28]               0\n",
      "       Conv2dPad-112          [-1, 128, 28, 28]          65,536\n",
      "     BatchNorm2d-113          [-1, 128, 28, 28]             256\n",
      "            ReLU-114          [-1, 128, 28, 28]               0\n",
      "       Conv2dPad-115          [-1, 128, 28, 28]         147,456\n",
      "     BatchNorm2d-116          [-1, 128, 28, 28]             256\n",
      "            ReLU-117          [-1, 128, 28, 28]               0\n",
      "       Conv2dPad-118          [-1, 512, 28, 28]          65,536\n",
      "     BatchNorm2d-119          [-1, 512, 28, 28]           1,024\n",
      "AdaptiveAvgPool2d-120            [-1, 512, 1, 1]               0\n",
      "          Conv2d-121             [-1, 32, 1, 1]          16,416\n",
      "            ReLU-122             [-1, 32, 1, 1]               0\n",
      "          Conv2d-123            [-1, 512, 1, 1]          16,896\n",
      "         Sigmoid-124            [-1, 512, 1, 1]               0\n",
      "       ChannelSE-125          [-1, 512, 28, 28]               0\n",
      "        Identity-126          [-1, 512, 28, 28]               0\n",
      "            ReLU-127          [-1, 512, 28, 28]               0\n",
      "ResNetBottleneckBlock-128          [-1, 512, 28, 28]               0\n",
      "     ResNetLayer-129          [-1, 512, 28, 28]               0\n",
      "       Conv2dPad-130          [-1, 256, 28, 28]         131,072\n",
      "     BatchNorm2d-131          [-1, 256, 28, 28]             512\n",
      "            ReLU-132          [-1, 256, 28, 28]               0\n",
      "       Conv2dPad-133          [-1, 256, 14, 14]         589,824\n",
      "     BatchNorm2d-134          [-1, 256, 14, 14]             512\n",
      "            ReLU-135          [-1, 256, 14, 14]               0\n",
      "       Conv2dPad-136         [-1, 1024, 14, 14]         262,144\n",
      "     BatchNorm2d-137         [-1, 1024, 14, 14]           2,048\n",
      "AdaptiveAvgPool2d-138           [-1, 1024, 1, 1]               0\n",
      "          Conv2d-139             [-1, 64, 1, 1]          65,600\n",
      "            ReLU-140             [-1, 64, 1, 1]               0\n",
      "          Conv2d-141           [-1, 1024, 1, 1]          66,560\n",
      "         Sigmoid-142           [-1, 1024, 1, 1]               0\n",
      "       ChannelSE-143         [-1, 1024, 14, 14]               0\n",
      "       Conv2dPad-144         [-1, 1024, 14, 14]         524,288\n",
      "     BatchNorm2d-145         [-1, 1024, 14, 14]           2,048\n",
      "   ResNetShorcut-146         [-1, 1024, 14, 14]               0\n",
      "            ReLU-147         [-1, 1024, 14, 14]               0\n",
      "ResNetBottleneckBlock-148         [-1, 1024, 14, 14]               0\n",
      "       Conv2dPad-149          [-1, 256, 14, 14]         262,144\n",
      "     BatchNorm2d-150          [-1, 256, 14, 14]             512\n",
      "            ReLU-151          [-1, 256, 14, 14]               0\n",
      "       Conv2dPad-152          [-1, 256, 14, 14]         589,824\n",
      "     BatchNorm2d-153          [-1, 256, 14, 14]             512\n",
      "            ReLU-154          [-1, 256, 14, 14]               0\n",
      "       Conv2dPad-155         [-1, 1024, 14, 14]         262,144\n",
      "     BatchNorm2d-156         [-1, 1024, 14, 14]           2,048\n",
      "AdaptiveAvgPool2d-157           [-1, 1024, 1, 1]               0\n",
      "          Conv2d-158             [-1, 64, 1, 1]          65,600\n",
      "            ReLU-159             [-1, 64, 1, 1]               0\n",
      "          Conv2d-160           [-1, 1024, 1, 1]          66,560\n",
      "         Sigmoid-161           [-1, 1024, 1, 1]               0\n",
      "       ChannelSE-162         [-1, 1024, 14, 14]               0\n",
      "        Identity-163         [-1, 1024, 14, 14]               0\n",
      "            ReLU-164         [-1, 1024, 14, 14]               0\n",
      "ResNetBottleneckBlock-165         [-1, 1024, 14, 14]               0\n",
      "       Conv2dPad-166          [-1, 256, 14, 14]         262,144\n",
      "     BatchNorm2d-167          [-1, 256, 14, 14]             512\n",
      "            ReLU-168          [-1, 256, 14, 14]               0\n",
      "       Conv2dPad-169          [-1, 256, 14, 14]         589,824\n",
      "     BatchNorm2d-170          [-1, 256, 14, 14]             512\n",
      "            ReLU-171          [-1, 256, 14, 14]               0\n",
      "       Conv2dPad-172         [-1, 1024, 14, 14]         262,144\n",
      "     BatchNorm2d-173         [-1, 1024, 14, 14]           2,048\n",
      "AdaptiveAvgPool2d-174           [-1, 1024, 1, 1]               0\n",
      "          Conv2d-175             [-1, 64, 1, 1]          65,600\n",
      "            ReLU-176             [-1, 64, 1, 1]               0\n",
      "          Conv2d-177           [-1, 1024, 1, 1]          66,560\n",
      "         Sigmoid-178           [-1, 1024, 1, 1]               0\n",
      "       ChannelSE-179         [-1, 1024, 14, 14]               0\n",
      "        Identity-180         [-1, 1024, 14, 14]               0\n",
      "            ReLU-181         [-1, 1024, 14, 14]               0\n",
      "ResNetBottleneckBlock-182         [-1, 1024, 14, 14]               0\n",
      "       Conv2dPad-183          [-1, 256, 14, 14]         262,144\n",
      "     BatchNorm2d-184          [-1, 256, 14, 14]             512\n",
      "            ReLU-185          [-1, 256, 14, 14]               0\n",
      "       Conv2dPad-186          [-1, 256, 14, 14]         589,824\n",
      "     BatchNorm2d-187          [-1, 256, 14, 14]             512\n",
      "            ReLU-188          [-1, 256, 14, 14]               0\n",
      "       Conv2dPad-189         [-1, 1024, 14, 14]         262,144\n",
      "     BatchNorm2d-190         [-1, 1024, 14, 14]           2,048\n",
      "AdaptiveAvgPool2d-191           [-1, 1024, 1, 1]               0\n",
      "          Conv2d-192             [-1, 64, 1, 1]          65,600\n",
      "            ReLU-193             [-1, 64, 1, 1]               0\n",
      "          Conv2d-194           [-1, 1024, 1, 1]          66,560\n",
      "         Sigmoid-195           [-1, 1024, 1, 1]               0\n",
      "       ChannelSE-196         [-1, 1024, 14, 14]               0\n",
      "        Identity-197         [-1, 1024, 14, 14]               0\n",
      "            ReLU-198         [-1, 1024, 14, 14]               0\n",
      "ResNetBottleneckBlock-199         [-1, 1024, 14, 14]               0\n",
      "       Conv2dPad-200          [-1, 256, 14, 14]         262,144\n",
      "     BatchNorm2d-201          [-1, 256, 14, 14]             512\n",
      "            ReLU-202          [-1, 256, 14, 14]               0\n",
      "       Conv2dPad-203          [-1, 256, 14, 14]         589,824\n",
      "     BatchNorm2d-204          [-1, 256, 14, 14]             512\n",
      "            ReLU-205          [-1, 256, 14, 14]               0\n",
      "       Conv2dPad-206         [-1, 1024, 14, 14]         262,144\n",
      "     BatchNorm2d-207         [-1, 1024, 14, 14]           2,048\n",
      "AdaptiveAvgPool2d-208           [-1, 1024, 1, 1]               0\n",
      "          Conv2d-209             [-1, 64, 1, 1]          65,600\n",
      "            ReLU-210             [-1, 64, 1, 1]               0\n",
      "          Conv2d-211           [-1, 1024, 1, 1]          66,560\n",
      "         Sigmoid-212           [-1, 1024, 1, 1]               0\n",
      "       ChannelSE-213         [-1, 1024, 14, 14]               0\n",
      "        Identity-214         [-1, 1024, 14, 14]               0\n",
      "            ReLU-215         [-1, 1024, 14, 14]               0\n",
      "ResNetBottleneckBlock-216         [-1, 1024, 14, 14]               0\n",
      "       Conv2dPad-217          [-1, 256, 14, 14]         262,144\n",
      "     BatchNorm2d-218          [-1, 256, 14, 14]             512\n",
      "            ReLU-219          [-1, 256, 14, 14]               0\n",
      "       Conv2dPad-220          [-1, 256, 14, 14]         589,824\n",
      "     BatchNorm2d-221          [-1, 256, 14, 14]             512\n",
      "            ReLU-222          [-1, 256, 14, 14]               0\n",
      "       Conv2dPad-223         [-1, 1024, 14, 14]         262,144\n",
      "     BatchNorm2d-224         [-1, 1024, 14, 14]           2,048\n",
      "AdaptiveAvgPool2d-225           [-1, 1024, 1, 1]               0\n",
      "          Conv2d-226             [-1, 64, 1, 1]          65,600\n",
      "            ReLU-227             [-1, 64, 1, 1]               0\n",
      "          Conv2d-228           [-1, 1024, 1, 1]          66,560\n",
      "         Sigmoid-229           [-1, 1024, 1, 1]               0\n",
      "       ChannelSE-230         [-1, 1024, 14, 14]               0\n",
      "        Identity-231         [-1, 1024, 14, 14]               0\n",
      "            ReLU-232         [-1, 1024, 14, 14]               0\n",
      "ResNetBottleneckBlock-233         [-1, 1024, 14, 14]               0\n",
      "     ResNetLayer-234         [-1, 1024, 14, 14]               0\n",
      "       Conv2dPad-235          [-1, 512, 14, 14]         524,288\n",
      "     BatchNorm2d-236          [-1, 512, 14, 14]           1,024\n",
      "            ReLU-237          [-1, 512, 14, 14]               0\n",
      "       Conv2dPad-238            [-1, 512, 7, 7]       2,359,296\n",
      "     BatchNorm2d-239            [-1, 512, 7, 7]           1,024\n",
      "            ReLU-240            [-1, 512, 7, 7]               0\n",
      "       Conv2dPad-241           [-1, 2048, 7, 7]       1,048,576\n",
      "     BatchNorm2d-242           [-1, 2048, 7, 7]           4,096\n",
      "AdaptiveAvgPool2d-243           [-1, 2048, 1, 1]               0\n",
      "          Conv2d-244            [-1, 128, 1, 1]         262,272\n",
      "            ReLU-245            [-1, 128, 1, 1]               0\n",
      "          Conv2d-246           [-1, 2048, 1, 1]         264,192\n",
      "         Sigmoid-247           [-1, 2048, 1, 1]               0\n",
      "       ChannelSE-248           [-1, 2048, 7, 7]               0\n",
      "       Conv2dPad-249           [-1, 2048, 7, 7]       2,097,152\n",
      "     BatchNorm2d-250           [-1, 2048, 7, 7]           4,096\n",
      "   ResNetShorcut-251           [-1, 2048, 7, 7]               0\n",
      "            ReLU-252           [-1, 2048, 7, 7]               0\n",
      "ResNetBottleneckBlock-253           [-1, 2048, 7, 7]               0\n",
      "       Conv2dPad-254            [-1, 512, 7, 7]       1,048,576\n",
      "     BatchNorm2d-255            [-1, 512, 7, 7]           1,024\n",
      "            ReLU-256            [-1, 512, 7, 7]               0\n",
      "       Conv2dPad-257            [-1, 512, 7, 7]       2,359,296\n",
      "     BatchNorm2d-258            [-1, 512, 7, 7]           1,024\n",
      "            ReLU-259            [-1, 512, 7, 7]               0\n",
      "       Conv2dPad-260           [-1, 2048, 7, 7]       1,048,576\n",
      "     BatchNorm2d-261           [-1, 2048, 7, 7]           4,096\n",
      "AdaptiveAvgPool2d-262           [-1, 2048, 1, 1]               0\n",
      "          Conv2d-263            [-1, 128, 1, 1]         262,272\n",
      "            ReLU-264            [-1, 128, 1, 1]               0\n",
      "          Conv2d-265           [-1, 2048, 1, 1]         264,192\n",
      "         Sigmoid-266           [-1, 2048, 1, 1]               0\n",
      "       ChannelSE-267           [-1, 2048, 7, 7]               0\n",
      "        Identity-268           [-1, 2048, 7, 7]               0\n",
      "            ReLU-269           [-1, 2048, 7, 7]               0\n",
      "ResNetBottleneckBlock-270           [-1, 2048, 7, 7]               0\n",
      "       Conv2dPad-271            [-1, 512, 7, 7]       1,048,576\n",
      "     BatchNorm2d-272            [-1, 512, 7, 7]           1,024\n",
      "            ReLU-273            [-1, 512, 7, 7]               0\n",
      "       Conv2dPad-274            [-1, 512, 7, 7]       2,359,296\n",
      "     BatchNorm2d-275            [-1, 512, 7, 7]           1,024\n",
      "            ReLU-276            [-1, 512, 7, 7]               0\n",
      "       Conv2dPad-277           [-1, 2048, 7, 7]       1,048,576\n",
      "     BatchNorm2d-278           [-1, 2048, 7, 7]           4,096\n",
      "AdaptiveAvgPool2d-279           [-1, 2048, 1, 1]               0\n",
      "          Conv2d-280            [-1, 128, 1, 1]         262,272\n",
      "            ReLU-281            [-1, 128, 1, 1]               0\n",
      "          Conv2d-282           [-1, 2048, 1, 1]         264,192\n",
      "         Sigmoid-283           [-1, 2048, 1, 1]               0\n",
      "       ChannelSE-284           [-1, 2048, 7, 7]               0\n",
      "        Identity-285           [-1, 2048, 7, 7]               0\n",
      "            ReLU-286           [-1, 2048, 7, 7]               0\n",
      "ResNetBottleneckBlock-287           [-1, 2048, 7, 7]               0\n",
      "     ResNetLayer-288           [-1, 2048, 7, 7]               0\n",
      "   ResNetEncoder-289           [-1, 2048, 7, 7]               0\n",
      "AdaptiveAvgPool2d-290           [-1, 2048, 1, 1]               0\n",
      "         Flatten-291                 [-1, 2048]               0\n",
      "          Linear-292                 [-1, 1000]       2,049,000\n",
      "          ResNet-293                 [-1, 1000]               0\n",
      "================================================================\n",
      "Total params: 28,088,024\n",
      "Trainable params: 28,088,024\n",
      "Non-trainable params: 0\n",
      "----------------------------------------------------------------\n",
      "Input size (MB): 0.57\n",
      "Forward/backward pass size (MB): 383.41\n",
      "Params size (MB): 107.15\n",
      "Estimated Total Size (MB): 491.13\n",
      "----------------------------------------------------------------\n",
      "\n"
     ]
    },
    {
     "data": {
      "text/plain": [
       "(tensor(28088024), tensor(28088024), tensor(107.1473), tensor(491.1320))"
      ]
     },
     "execution_count": 3,
     "metadata": {},
     "output_type": "execute_result"
    }
   ],
   "source": [
    "AutoModel.from_pretrained('cse_resnet50').summary()"
   ]
  },
  {
   "cell_type": "code",
   "execution_count": 14,
   "metadata": {},
   "outputs": [],
   "source": [
    "??pd.DataFrame.sort_values"
   ]
  },
  {
   "cell_type": "code",
   "execution_count": 21,
   "metadata": {},
   "outputs": [
    {
     "name": "stdout",
     "output_type": "stream",
     "text": [
      "Index(['top1', 'top5', 'time', 'batch_size'], dtype='object')\n"
     ]
    },
    {
     "ename": "KeyError",
     "evalue": "\"['batch_size'] not found in axis\"",
     "output_type": "error",
     "traceback": [
      "\u001b[0;31m---------------------------------------------------------------------------\u001b[0m",
      "\u001b[0;31mKeyError\u001b[0m                                  Traceback (most recent call last)",
      "\u001b[0;32m<ipython-input-21-9c5283b959cf>\u001b[0m in \u001b[0;36m<module>\u001b[0;34m\u001b[0m\n\u001b[1;32m      3\u001b[0m \u001b[0mdf\u001b[0m \u001b[0;34m=\u001b[0m \u001b[0mpd\u001b[0m\u001b[0;34m.\u001b[0m\u001b[0mread_csv\u001b[0m\u001b[0;34m(\u001b[0m\u001b[0;34m'./benchmark.csv'\u001b[0m\u001b[0;34m,\u001b[0m \u001b[0mindex_col\u001b[0m\u001b[0;34m=\u001b[0m\u001b[0;36m0\u001b[0m\u001b[0;34m)\u001b[0m\u001b[0;34m\u001b[0m\u001b[0;34m\u001b[0m\u001b[0m\n\u001b[1;32m      4\u001b[0m \u001b[0mprint\u001b[0m\u001b[0;34m(\u001b[0m\u001b[0mdf\u001b[0m\u001b[0;34m.\u001b[0m\u001b[0mcolumns\u001b[0m\u001b[0;34m)\u001b[0m\u001b[0;34m\u001b[0m\u001b[0;34m\u001b[0m\u001b[0m\n\u001b[0;32m----> 5\u001b[0;31m \u001b[0mdf\u001b[0m \u001b[0;34m=\u001b[0m \u001b[0mdf\u001b[0m\u001b[0;34m.\u001b[0m\u001b[0mdrop\u001b[0m\u001b[0;34m(\u001b[0m\u001b[0;34m'batch_size'\u001b[0m\u001b[0;34m)\u001b[0m\u001b[0;34m\u001b[0m\u001b[0;34m\u001b[0m\u001b[0m\n\u001b[0m\u001b[1;32m      6\u001b[0m \u001b[0mdf\u001b[0m\u001b[0;34m.\u001b[0m\u001b[0msort_values\u001b[0m\u001b[0;34m(\u001b[0m\u001b[0mby\u001b[0m\u001b[0;34m=\u001b[0m\u001b[0;34m'top1'\u001b[0m\u001b[0;34m,\u001b[0m \u001b[0mascending\u001b[0m\u001b[0;34m=\u001b[0m\u001b[0;32mFalse\u001b[0m\u001b[0;34m)\u001b[0m\u001b[0;34m\u001b[0m\u001b[0;34m\u001b[0m\u001b[0m\n",
      "\u001b[0;32m~/anaconda3/envs/dl/lib/python3.8/site-packages/pandas/core/frame.py\u001b[0m in \u001b[0;36mdrop\u001b[0;34m(self, labels, axis, index, columns, level, inplace, errors)\u001b[0m\n\u001b[1;32m   3988\u001b[0m                 \u001b[0mweight\u001b[0m  \u001b[0;36m1.0\u001b[0m     \u001b[0;36m0.8\u001b[0m\u001b[0;34m\u001b[0m\u001b[0;34m\u001b[0m\u001b[0m\n\u001b[1;32m   3989\u001b[0m         \"\"\"\n\u001b[0;32m-> 3990\u001b[0;31m         return super().drop(\n\u001b[0m\u001b[1;32m   3991\u001b[0m             \u001b[0mlabels\u001b[0m\u001b[0;34m=\u001b[0m\u001b[0mlabels\u001b[0m\u001b[0;34m,\u001b[0m\u001b[0;34m\u001b[0m\u001b[0;34m\u001b[0m\u001b[0m\n\u001b[1;32m   3992\u001b[0m             \u001b[0maxis\u001b[0m\u001b[0;34m=\u001b[0m\u001b[0maxis\u001b[0m\u001b[0;34m,\u001b[0m\u001b[0;34m\u001b[0m\u001b[0;34m\u001b[0m\u001b[0m\n",
      "\u001b[0;32m~/anaconda3/envs/dl/lib/python3.8/site-packages/pandas/core/generic.py\u001b[0m in \u001b[0;36mdrop\u001b[0;34m(self, labels, axis, index, columns, level, inplace, errors)\u001b[0m\n\u001b[1;32m   3934\u001b[0m         \u001b[0;32mfor\u001b[0m \u001b[0maxis\u001b[0m\u001b[0;34m,\u001b[0m \u001b[0mlabels\u001b[0m \u001b[0;32min\u001b[0m \u001b[0maxes\u001b[0m\u001b[0;34m.\u001b[0m\u001b[0mitems\u001b[0m\u001b[0;34m(\u001b[0m\u001b[0;34m)\u001b[0m\u001b[0;34m:\u001b[0m\u001b[0;34m\u001b[0m\u001b[0;34m\u001b[0m\u001b[0m\n\u001b[1;32m   3935\u001b[0m             \u001b[0;32mif\u001b[0m \u001b[0mlabels\u001b[0m \u001b[0;32mis\u001b[0m \u001b[0;32mnot\u001b[0m \u001b[0;32mNone\u001b[0m\u001b[0;34m:\u001b[0m\u001b[0;34m\u001b[0m\u001b[0;34m\u001b[0m\u001b[0m\n\u001b[0;32m-> 3936\u001b[0;31m                 \u001b[0mobj\u001b[0m \u001b[0;34m=\u001b[0m \u001b[0mobj\u001b[0m\u001b[0;34m.\u001b[0m\u001b[0m_drop_axis\u001b[0m\u001b[0;34m(\u001b[0m\u001b[0mlabels\u001b[0m\u001b[0;34m,\u001b[0m \u001b[0maxis\u001b[0m\u001b[0;34m,\u001b[0m \u001b[0mlevel\u001b[0m\u001b[0;34m=\u001b[0m\u001b[0mlevel\u001b[0m\u001b[0;34m,\u001b[0m \u001b[0merrors\u001b[0m\u001b[0;34m=\u001b[0m\u001b[0merrors\u001b[0m\u001b[0;34m)\u001b[0m\u001b[0;34m\u001b[0m\u001b[0;34m\u001b[0m\u001b[0m\n\u001b[0m\u001b[1;32m   3937\u001b[0m \u001b[0;34m\u001b[0m\u001b[0m\n\u001b[1;32m   3938\u001b[0m         \u001b[0;32mif\u001b[0m \u001b[0minplace\u001b[0m\u001b[0;34m:\u001b[0m\u001b[0;34m\u001b[0m\u001b[0;34m\u001b[0m\u001b[0m\n",
      "\u001b[0;32m~/anaconda3/envs/dl/lib/python3.8/site-packages/pandas/core/generic.py\u001b[0m in \u001b[0;36m_drop_axis\u001b[0;34m(self, labels, axis, level, errors)\u001b[0m\n\u001b[1;32m   3968\u001b[0m                 \u001b[0mnew_axis\u001b[0m \u001b[0;34m=\u001b[0m \u001b[0maxis\u001b[0m\u001b[0;34m.\u001b[0m\u001b[0mdrop\u001b[0m\u001b[0;34m(\u001b[0m\u001b[0mlabels\u001b[0m\u001b[0;34m,\u001b[0m \u001b[0mlevel\u001b[0m\u001b[0;34m=\u001b[0m\u001b[0mlevel\u001b[0m\u001b[0;34m,\u001b[0m \u001b[0merrors\u001b[0m\u001b[0;34m=\u001b[0m\u001b[0merrors\u001b[0m\u001b[0;34m)\u001b[0m\u001b[0;34m\u001b[0m\u001b[0;34m\u001b[0m\u001b[0m\n\u001b[1;32m   3969\u001b[0m             \u001b[0;32melse\u001b[0m\u001b[0;34m:\u001b[0m\u001b[0;34m\u001b[0m\u001b[0;34m\u001b[0m\u001b[0m\n\u001b[0;32m-> 3970\u001b[0;31m                 \u001b[0mnew_axis\u001b[0m \u001b[0;34m=\u001b[0m \u001b[0maxis\u001b[0m\u001b[0;34m.\u001b[0m\u001b[0mdrop\u001b[0m\u001b[0;34m(\u001b[0m\u001b[0mlabels\u001b[0m\u001b[0;34m,\u001b[0m \u001b[0merrors\u001b[0m\u001b[0;34m=\u001b[0m\u001b[0merrors\u001b[0m\u001b[0;34m)\u001b[0m\u001b[0;34m\u001b[0m\u001b[0;34m\u001b[0m\u001b[0m\n\u001b[0m\u001b[1;32m   3971\u001b[0m             \u001b[0mresult\u001b[0m \u001b[0;34m=\u001b[0m \u001b[0mself\u001b[0m\u001b[0;34m.\u001b[0m\u001b[0mreindex\u001b[0m\u001b[0;34m(\u001b[0m\u001b[0;34m**\u001b[0m\u001b[0;34m{\u001b[0m\u001b[0maxis_name\u001b[0m\u001b[0;34m:\u001b[0m \u001b[0mnew_axis\u001b[0m\u001b[0;34m}\u001b[0m\u001b[0;34m)\u001b[0m\u001b[0;34m\u001b[0m\u001b[0;34m\u001b[0m\u001b[0m\n\u001b[1;32m   3972\u001b[0m \u001b[0;34m\u001b[0m\u001b[0m\n",
      "\u001b[0;32m~/anaconda3/envs/dl/lib/python3.8/site-packages/pandas/core/indexes/base.py\u001b[0m in \u001b[0;36mdrop\u001b[0;34m(self, labels, errors)\u001b[0m\n\u001b[1;32m   5015\u001b[0m         \u001b[0;32mif\u001b[0m \u001b[0mmask\u001b[0m\u001b[0;34m.\u001b[0m\u001b[0many\u001b[0m\u001b[0;34m(\u001b[0m\u001b[0;34m)\u001b[0m\u001b[0;34m:\u001b[0m\u001b[0;34m\u001b[0m\u001b[0;34m\u001b[0m\u001b[0m\n\u001b[1;32m   5016\u001b[0m             \u001b[0;32mif\u001b[0m \u001b[0merrors\u001b[0m \u001b[0;34m!=\u001b[0m \u001b[0;34m\"ignore\"\u001b[0m\u001b[0;34m:\u001b[0m\u001b[0;34m\u001b[0m\u001b[0;34m\u001b[0m\u001b[0m\n\u001b[0;32m-> 5017\u001b[0;31m                 \u001b[0;32mraise\u001b[0m \u001b[0mKeyError\u001b[0m\u001b[0;34m(\u001b[0m\u001b[0;34mf\"{labels[mask]} not found in axis\"\u001b[0m\u001b[0;34m)\u001b[0m\u001b[0;34m\u001b[0m\u001b[0;34m\u001b[0m\u001b[0m\n\u001b[0m\u001b[1;32m   5018\u001b[0m             \u001b[0mindexer\u001b[0m \u001b[0;34m=\u001b[0m \u001b[0mindexer\u001b[0m\u001b[0;34m[\u001b[0m\u001b[0;34m~\u001b[0m\u001b[0mmask\u001b[0m\u001b[0;34m]\u001b[0m\u001b[0;34m\u001b[0m\u001b[0;34m\u001b[0m\u001b[0m\n\u001b[1;32m   5019\u001b[0m         \u001b[0;32mreturn\u001b[0m \u001b[0mself\u001b[0m\u001b[0;34m.\u001b[0m\u001b[0mdelete\u001b[0m\u001b[0;34m(\u001b[0m\u001b[0mindexer\u001b[0m\u001b[0;34m)\u001b[0m\u001b[0;34m\u001b[0m\u001b[0;34m\u001b[0m\u001b[0m\n",
      "\u001b[0;31mKeyError\u001b[0m: \"['batch_size'] not found in axis\""
     ]
    }
   ],
   "source": [
    "import pandas as pd\n",
    "\n",
    "df = pd.read_csv('./benchmark.csv', index_col=0)\n",
    "df = df.drop('batch_size')\n",
    "df.sort_values(by='top1', ascending=False)"
   ]
  },
  {
   "cell_type": "markdown",
   "metadata": {},
   "source": [
    "# RegNet"
   ]
  },
  {
   "cell_type": "code",
   "execution_count": 8,
   "metadata": {},
   "outputs": [
    {
     "data": {
      "text/plain": [
       "1000000.0"
      ]
     },
     "execution_count": 8,
     "metadata": {},
     "output_type": "execute_result"
    }
   ],
   "source": [
    "1e6"
   ]
  },
  {
   "cell_type": "code",
   "execution_count": 2,
   "metadata": {},
   "outputs": [
    {
     "name": "stdout",
     "output_type": "stream",
     "text": [
      "'densenet121': BasicUrlHandler('https://github.com/FrancescoSaverioZuppichini/glasses-weights/blob/main/densenet121.pth?raw=true'),\n",
      "'densenet169': BasicUrlHandler('https://github.com/FrancescoSaverioZuppichini/glasses-weights/blob/main/densenet169.pth?raw=true'),\n",
      "'densenet201': BasicUrlHandler('https://github.com/FrancescoSaverioZuppichini/glasses-weights/blob/main/densenet201.pth?raw=true'),\n",
      "'dummy': BasicUrlHandler('https://github.com/FrancescoSaverioZuppichini/glasses-weights/blob/main/dummy.pth?raw=true'),\n",
      "'efficientnet_b0': BasicUrlHandler('https://github.com/FrancescoSaverioZuppichini/glasses-weights/blob/main/efficientnet_b0.pth?raw=true'),\n",
      "'efficientnet_b1': BasicUrlHandler('https://github.com/FrancescoSaverioZuppichini/glasses-weights/blob/main/efficientnet_b1.pth?raw=true'),\n",
      "'efficientnet_b2': BasicUrlHandler('https://github.com/FrancescoSaverioZuppichini/glasses-weights/blob/main/efficientnet_b2.pth?raw=true'),\n",
      "'efficientnet_b3': BasicUrlHandler('https://github.com/FrancescoSaverioZuppichini/glasses-weights/blob/main/efficientnet_b3.pth?raw=true'),\n",
      "'regnetx_002': BasicUrlHandler('https://github.com/FrancescoSaverioZuppichini/glasses-weights/blob/main/regnetx_002.pth?raw=true'),\n",
      "'regnetx_004': BasicUrlHandler('https://github.com/FrancescoSaverioZuppichini/glasses-weights/blob/main/regnetx_004.pth?raw=true'),\n",
      "'regnetx_006': BasicUrlHandler('https://github.com/FrancescoSaverioZuppichini/glasses-weights/blob/main/regnetx_006.pth?raw=true'),\n",
      "'regnetx_008': BasicUrlHandler('https://github.com/FrancescoSaverioZuppichini/glasses-weights/blob/main/regnetx_008.pth?raw=true'),\n",
      "'regnetx_016': BasicUrlHandler('https://github.com/FrancescoSaverioZuppichini/glasses-weights/blob/main/regnetx_016.pth?raw=true'),\n",
      "'regnetx_032': BasicUrlHandler('https://github.com/FrancescoSaverioZuppichini/glasses-weights/blob/main/regnetx_032.pth?raw=true'),\n",
      "'regnety_002': BasicUrlHandler('https://github.com/FrancescoSaverioZuppichini/glasses-weights/blob/main/regnety_002.pth?raw=true'),\n",
      "'regnety_004': BasicUrlHandler('https://github.com/FrancescoSaverioZuppichini/glasses-weights/blob/main/regnety_004.pth?raw=true'),\n",
      "'regnety_006': BasicUrlHandler('https://github.com/FrancescoSaverioZuppichini/glasses-weights/blob/main/regnety_006.pth?raw=true'),\n",
      "'regnety_008': BasicUrlHandler('https://github.com/FrancescoSaverioZuppichini/glasses-weights/blob/main/regnety_008.pth?raw=true'),\n",
      "'regnety_016': BasicUrlHandler('https://github.com/FrancescoSaverioZuppichini/glasses-weights/blob/main/regnety_016.pth?raw=true'),\n",
      "'regnety_032': BasicUrlHandler('https://github.com/FrancescoSaverioZuppichini/glasses-weights/blob/main/regnety_032.pth?raw=true'),\n",
      "'resnet18': BasicUrlHandler('https://github.com/FrancescoSaverioZuppichini/glasses-weights/blob/main/resnet18.pth?raw=true'),\n",
      "'resnet26': BasicUrlHandler('https://github.com/FrancescoSaverioZuppichini/glasses-weights/blob/main/resnet26.pth?raw=true'),\n",
      "'resnet26d': BasicUrlHandler('https://github.com/FrancescoSaverioZuppichini/glasses-weights/blob/main/resnet26d.pth?raw=true'),\n",
      "'resnet34': BasicUrlHandler('https://github.com/FrancescoSaverioZuppichini/glasses-weights/blob/main/resnet34.pth?raw=true'),\n",
      "'resnet34d': BasicUrlHandler('https://github.com/FrancescoSaverioZuppichini/glasses-weights/blob/main/resnet34d.pth?raw=true'),\n"
     ]
    }
   ],
   "source": [
    "from pathlib import Path\n",
    "\n",
    "root = Path('/home/zuppif/Documents/glasses-weights/')\n",
    "\n",
    "models = sorted(map(lambda x: x.stem, root.glob('*.pth')))\n",
    "\n",
    "\n",
    "for model in models:\n",
    "    print(f\"'{model}': BasicUrlHandler('https://github.com/FrancescoSaverioZuppichini/glasses-weights/blob/main/{model}.pth?raw=true'),\")"
   ]
  },
  {
   "cell_type": "code",
   "execution_count": 18,
   "metadata": {},
   "outputs": [
    {
     "name": "stdout",
     "output_type": "stream",
     "text": [
      "'cse_resnet50': BasicUrlHandler('https://glasses-weights.s3.eu-central-1.amazonaws.com/cse_resnet50.pth'),\n",
      "'densenet161': BasicUrlHandler('https://glasses-weights.s3.eu-central-1.amazonaws.com/densenet161.pth'),\n",
      "'resnet101': BasicUrlHandler('https://glasses-weights.s3.eu-central-1.amazonaws.com/resnet101.pth'),\n",
      "'resnet152': BasicUrlHandler('https://glasses-weights.s3.eu-central-1.amazonaws.com/resnet152.pth'),\n",
      "'resnet50': BasicUrlHandler('https://glasses-weights.s3.eu-central-1.amazonaws.com/resnet50.pth'),\n",
      "'resnet50d': BasicUrlHandler('https://glasses-weights.s3.eu-central-1.amazonaws.com/resnet50d.pth'),\n",
      "'resnext101_32x8d': BasicUrlHandler('https://glasses-weights.s3.eu-central-1.amazonaws.com/resnext101_32x8d.pth'),\n",
      "'resnext50_32x4d': BasicUrlHandler('https://glasses-weights.s3.eu-central-1.amazonaws.com/resnext50_32x4d.pth'),\n",
      "'vgg11': BasicUrlHandler('https://glasses-weights.s3.eu-central-1.amazonaws.com/vgg11.pth'),\n",
      "'vgg11_bn': BasicUrlHandler('https://glasses-weights.s3.eu-central-1.amazonaws.com/vgg11_bn.pth'),\n",
      "'vgg13': BasicUrlHandler('https://glasses-weights.s3.eu-central-1.amazonaws.com/vgg13.pth'),\n",
      "'vgg13_bn': BasicUrlHandler('https://glasses-weights.s3.eu-central-1.amazonaws.com/vgg13_bn.pth'),\n",
      "'vgg16': BasicUrlHandler('https://glasses-weights.s3.eu-central-1.amazonaws.com/vgg16.pth'),\n",
      "'vgg16_bn': BasicUrlHandler('https://glasses-weights.s3.eu-central-1.amazonaws.com/vgg16_bn.pth'),\n",
      "'vgg19': BasicUrlHandler('https://glasses-weights.s3.eu-central-1.amazonaws.com/vgg19.pth'),\n",
      "'vgg19_bn': BasicUrlHandler('https://glasses-weights.s3.eu-central-1.amazonaws.com/vgg19_bn.pth'),\n",
      "'wide_resnet101_2': BasicUrlHandler('https://glasses-weights.s3.eu-central-1.amazonaws.com/wide_resnet101_2.pth'),\n",
      "'wide_resnet50_2': BasicUrlHandler('https://glasses-weights.s3.eu-central-1.amazonaws.com/wide_resnet50_2.pth'),\n"
     ]
    }
   ],
   "source": [
    "from glasses.utils.PretrainedWeightsProvider import PretrainedWeightsProvider\n",
    "\n",
    "stage = filter(lambda x: x.stat().st_size > 100 * 1e6,  PretrainedWeightsProvider().save_dir.glob('*.pth'))\n",
    "models = sorted(map(lambda x: x.stem, stage))\n",
    "\n",
    "\n",
    "for model in models:\n",
    "    print(f\"'{model}': BasicUrlHandler('https://glasses-weights.s3.eu-central-1.amazonaws.com/{model}.pth'),\")"
   ]
  },
  {
   "cell_type": "code",
   "execution_count": 15,
   "metadata": {},
   "outputs": [
    {
     "data": {
      "text/plain": [
       "PosixPath('/home/zuppif/.cache/torch/hub/glasses')"
      ]
     },
     "execution_count": 15,
     "metadata": {},
     "output_type": "execute_result"
    }
   ],
   "source": [
    "PretrainedWeightsProvider().save_dir"
   ]
  },
  {
   "cell_type": "markdown",
   "metadata": {},
   "source": [
    "# UNet"
   ]
  },
  {
   "cell_type": "code",
   "execution_count": null,
   "metadata": {},
   "outputs": [],
   "source": [
    "import torch\n",
    "from glasses.nn.models.classification import *\n",
    "from glasses.utils.Storage import ForwardModuleStorage\n",
    "from glasses.nn.models.segmentation.unet import *\n",
    "from glasses.nn.models.classification.resnet import ResNetEncoder, ResNet, ResNetBottleneckBlock\n",
    "from glasses.nn.models.classification.efficientnet import *\n",
    "from glasses.nn.models.classification import *\n",
    "from torch import nn"
   ]
  },
  {
   "cell_type": "code",
   "execution_count": null,
   "metadata": {},
   "outputs": [],
   "source": [
    "unet = UNet.from_encoder(lambda *args, **kwargs: ResNet.resnet18(*args, **kwargs))\n",
    "\n",
    "unet"
   ]
  },
  {
   "cell_type": "code",
   "execution_count": null,
   "metadata": {},
   "outputs": [],
   "source": [
    "\n",
    "unet = UNet.from_encoder(partial(AutoModel.from_name, 'resnet18'))\n",
    "model.summary(input_shape=(1,384,384))"
   ]
  },
  {
   "cell_type": "markdown",
   "metadata": {},
   "source": [
    "# Benchmark"
   ]
  },
  {
   "cell_type": "code",
   "execution_count": 3,
   "metadata": {},
   "outputs": [
    {
     "data": {
      "text/plain": [
       "True"
      ]
     },
     "execution_count": 3,
     "metadata": {},
     "output_type": "execute_result"
    }
   ],
   "source": [
    "a = [1,2,3]\n",
    "b = [1,2,3]\n",
    "\n",
    "a == b"
   ]
  },
  {
   "cell_type": "code",
   "execution_count": 10,
   "metadata": {},
   "outputs": [],
   "source": [
    "cfg =     {'regnetx_002' : RegNetScaler()(w_0 = 24, w_a = 36.44, w_m = 2.49, group_w = 8, depth = 13 ),\n",
    "    'regnetx_004' : RegNetScaler()(w_0 = 24, w_a = 24.48, w_m = 2.54, group_w = 16, depth = 22 ),\n",
    "    'regnetx_006' : RegNetScaler()(w_0 = 48, w_a = 36.97, w_m = 2.24, group_w = 24, depth = 16 ),\n",
    "    'regnetx_008' : RegNetScaler()(w_0 = 56, w_a = 35.73, w_m = 2.28, group_w = 16, depth = 16 ),\n",
    "    'regnetx_016' : RegNetScaler()(w_0 = 80, w_a = 34.01, w_m = 2.25, group_w = 24, depth = 18 ),\n",
    "    'regnetx_032' : RegNetScaler()(w_0 = 88, w_a = 26.31, w_m = 2.25, group_w = 48, depth = 25 ),\n",
    "    'regnetx_040' : RegNetScaler()(w_0 = 96, w_a = 38.65, w_m = 2.43, group_w = 40, depth = 23 ),\n",
    "    'regnetx_064' : RegNetScaler()(w_0 = 184, w_a = 60.83, w_m = 2.07, group_w = 56, depth = 17 ),\n",
    "    'regnetx_080' : RegNetScaler()(w_0 = 80, w_a = 49.56, w_m = 2.88, group_w = 120, depth = 23 ),\n",
    "    'regnetx_120' : RegNetScaler()(w_0 = 168, w_a = 73.36, w_m = 2.37, group_w = 112, depth = 19 ),\n",
    "    'regnetx_160' : RegNetScaler()(w_0 = 216, w_a = 55.59, w_m = 2.1, group_w = 128, depth = 22 ),\n",
    "    'regnetx_320' : RegNetScaler()(w_0 = 320, w_a = 69.86, w_m = 2.0, group_w = 168, depth = 23 ),\n",
    "    'regnety_002' : RegNetScaler()(w_0 = 24, w_a = 36.44, w_m = 2.49, group_w = 8, depth = 13 ),\n",
    "    'regnety_004' : RegNetScaler()(w_0 = 48, w_a = 27.89, w_m = 2.09, group_w = 8, depth = 16 ),\n",
    "    'regnety_006' : RegNetScaler()(w_0 = 48, w_a = 32.54, w_m = 2.32, group_w = 16, depth = 15 ),\n",
    "    'regnety_008' : RegNetScaler()(w_0 = 56, w_a = 38.84, w_m = 2.4, group_w = 16, depth = 14 ),\n",
    "    'regnety_016' : RegNetScaler()(w_0 = 48, w_a = 20.71, w_m = 2.65, group_w = 24, depth = 27 ),\n",
    "    'regnety_032' : RegNetScaler()(w_0 = 80, w_a = 42.63, w_m = 2.66, group_w = 24, depth = 21 ),\n",
    "    'regnety_040' : RegNetScaler()(w_0 = 96, w_a = 31.41, w_m = 2.24, group_w = 64, depth = 22 ),\n",
    "    'regnety_064' : RegNetScaler()(w_0 = 112, w_a = 33.22, w_m = 2.27, group_w = 72, depth = 25 ),\n",
    "    'regnety_080' : RegNetScaler()(w_0 = 192, w_a = 76.82, w_m = 2.19, group_w = 56, depth = 17 ),\n",
    "    'regnety_120' : RegNetScaler()(w_0 = 168, w_a = 73.36, w_m = 2.37, group_w = 112, depth = 19 ),\n",
    "    'regnety_160' : RegNetScaler()(w_0 = 200, w_a = 106.23, w_m = 2.48, group_w = 112, depth = 18 ),\n",
    "    'regnety_320' : RegNetScaler()(w_0 = 232, w_a = 115.89, w_m = 2.53, group_w = 232, depth = 20)}"
   ]
  },
  {
   "cell_type": "markdown",
   "metadata": {},
   "source": [
    "# Clone"
   ]
  },
  {
   "cell_type": "code",
   "execution_count": 26,
   "metadata": {},
   "outputs": [],
   "source": [
    "from glasses.models import AutoModel, AutoConfig, EfficientNetLite\n",
    "import timm\n",
    "from transfer_weights import clone_model\n",
    "from benchmark import benchmark\n",
    "\n",
    "src = timm.create_model('tf_efficientnet_lite1', pretrained='True')\n",
    "# dst = AutoModel.from_name('resnet34d')\n",
    "dst = EfficientNetLite.efficientnet_lite1(mode='same')"
   ]
  },
  {
   "cell_type": "code",
   "execution_count": 27,
   "metadata": {},
   "outputs": [],
   "source": [
    "dst = clone_model(src, dst).eval()"
   ]
  },
  {
   "cell_type": "code",
   "execution_count": 15,
   "metadata": {},
   "outputs": [
    {
     "data": {
      "text/plain": [
       "['adv_inception_v3',\n",
       " 'cspdarknet53',\n",
       " 'cspdarknet53_iabn',\n",
       " 'cspresnet50',\n",
       " 'cspresnet50d',\n",
       " 'cspresnet50w',\n",
       " 'cspresnext50',\n",
       " 'cspresnext50_iabn',\n",
       " 'darknet53',\n",
       " 'densenet121',\n",
       " 'densenet121d',\n",
       " 'densenet161',\n",
       " 'densenet169',\n",
       " 'densenet201',\n",
       " 'densenet264',\n",
       " 'densenet264d_iabn',\n",
       " 'densenetblur121d',\n",
       " 'dla34',\n",
       " 'dla46_c',\n",
       " 'dla46x_c',\n",
       " 'dla60',\n",
       " 'dla60_res2net',\n",
       " 'dla60_res2next',\n",
       " 'dla60x',\n",
       " 'dla60x_c',\n",
       " 'dla102',\n",
       " 'dla102x',\n",
       " 'dla102x2',\n",
       " 'dla169',\n",
       " 'dpn68',\n",
       " 'dpn68b',\n",
       " 'dpn92',\n",
       " 'dpn98',\n",
       " 'dpn107',\n",
       " 'dpn131',\n",
       " 'eca_vovnet39b',\n",
       " 'ecaresnet18',\n",
       " 'ecaresnet50',\n",
       " 'ecaresnet50d',\n",
       " 'ecaresnet50d_pruned',\n",
       " 'ecaresnet101d',\n",
       " 'ecaresnet101d_pruned',\n",
       " 'ecaresnetlight',\n",
       " 'ecaresnext26tn_32x4d',\n",
       " 'efficientnet_b0',\n",
       " 'efficientnet_b1',\n",
       " 'efficientnet_b1_pruned',\n",
       " 'efficientnet_b2',\n",
       " 'efficientnet_b2_pruned',\n",
       " 'efficientnet_b2a',\n",
       " 'efficientnet_b3',\n",
       " 'efficientnet_b3_pruned',\n",
       " 'efficientnet_b3a',\n",
       " 'efficientnet_b4',\n",
       " 'efficientnet_b5',\n",
       " 'efficientnet_b6',\n",
       " 'efficientnet_b7',\n",
       " 'efficientnet_b8',\n",
       " 'efficientnet_cc_b0_4e',\n",
       " 'efficientnet_cc_b0_8e',\n",
       " 'efficientnet_cc_b1_8e',\n",
       " 'efficientnet_el',\n",
       " 'efficientnet_em',\n",
       " 'efficientnet_es',\n",
       " 'efficientnet_l2',\n",
       " 'efficientnet_lite0',\n",
       " 'efficientnet_lite1',\n",
       " 'efficientnet_lite2',\n",
       " 'efficientnet_lite3',\n",
       " 'efficientnet_lite4',\n",
       " 'ens_adv_inception_resnet_v2',\n",
       " 'ese_vovnet19b_dw',\n",
       " 'ese_vovnet19b_slim',\n",
       " 'ese_vovnet19b_slim_dw',\n",
       " 'ese_vovnet39b',\n",
       " 'ese_vovnet39b_evos',\n",
       " 'ese_vovnet57b',\n",
       " 'ese_vovnet99b',\n",
       " 'ese_vovnet99b_iabn',\n",
       " 'fbnetc_100',\n",
       " 'gluon_inception_v3',\n",
       " 'gluon_resnet18_v1b',\n",
       " 'gluon_resnet34_v1b',\n",
       " 'gluon_resnet50_v1b',\n",
       " 'gluon_resnet50_v1c',\n",
       " 'gluon_resnet50_v1d',\n",
       " 'gluon_resnet50_v1s',\n",
       " 'gluon_resnet101_v1b',\n",
       " 'gluon_resnet101_v1c',\n",
       " 'gluon_resnet101_v1d',\n",
       " 'gluon_resnet101_v1s',\n",
       " 'gluon_resnet152_v1b',\n",
       " 'gluon_resnet152_v1c',\n",
       " 'gluon_resnet152_v1d',\n",
       " 'gluon_resnet152_v1s',\n",
       " 'gluon_resnext50_32x4d',\n",
       " 'gluon_resnext101_32x4d',\n",
       " 'gluon_resnext101_64x4d',\n",
       " 'gluon_senet154',\n",
       " 'gluon_seresnext50_32x4d',\n",
       " 'gluon_seresnext101_32x4d',\n",
       " 'gluon_seresnext101_64x4d',\n",
       " 'gluon_xception65',\n",
       " 'hrnet_w18',\n",
       " 'hrnet_w18_small',\n",
       " 'hrnet_w18_small_v2',\n",
       " 'hrnet_w30',\n",
       " 'hrnet_w32',\n",
       " 'hrnet_w40',\n",
       " 'hrnet_w44',\n",
       " 'hrnet_w48',\n",
       " 'hrnet_w64',\n",
       " 'ig_resnext101_32x8d',\n",
       " 'ig_resnext101_32x16d',\n",
       " 'ig_resnext101_32x32d',\n",
       " 'ig_resnext101_32x48d',\n",
       " 'inception_resnet_v2',\n",
       " 'inception_v3',\n",
       " 'inception_v4',\n",
       " 'legacy_senet154',\n",
       " 'legacy_seresnet18',\n",
       " 'legacy_seresnet34',\n",
       " 'legacy_seresnet50',\n",
       " 'legacy_seresnet101',\n",
       " 'legacy_seresnet152',\n",
       " 'legacy_seresnext26_32x4d',\n",
       " 'legacy_seresnext50_32x4d',\n",
       " 'legacy_seresnext101_32x4d',\n",
       " 'mixnet_l',\n",
       " 'mixnet_m',\n",
       " 'mixnet_s',\n",
       " 'mixnet_xl',\n",
       " 'mixnet_xxl',\n",
       " 'mnasnet_050',\n",
       " 'mnasnet_075',\n",
       " 'mnasnet_100',\n",
       " 'mnasnet_140',\n",
       " 'mnasnet_a1',\n",
       " 'mnasnet_b1',\n",
       " 'mnasnet_small',\n",
       " 'mobilenetv2_100',\n",
       " 'mobilenetv2_110d',\n",
       " 'mobilenetv2_120d',\n",
       " 'mobilenetv2_140',\n",
       " 'mobilenetv3_large_075',\n",
       " 'mobilenetv3_large_100',\n",
       " 'mobilenetv3_rw',\n",
       " 'mobilenetv3_small_075',\n",
       " 'mobilenetv3_small_100',\n",
       " 'nasnetalarge',\n",
       " 'pnasnet5large',\n",
       " 'regnetx_002',\n",
       " 'regnetx_004',\n",
       " 'regnetx_006',\n",
       " 'regnetx_008',\n",
       " 'regnetx_016',\n",
       " 'regnetx_032',\n",
       " 'regnetx_040',\n",
       " 'regnetx_064',\n",
       " 'regnetx_080',\n",
       " 'regnetx_120',\n",
       " 'regnetx_160',\n",
       " 'regnetx_320',\n",
       " 'regnety_002',\n",
       " 'regnety_004',\n",
       " 'regnety_006',\n",
       " 'regnety_008',\n",
       " 'regnety_016',\n",
       " 'regnety_032',\n",
       " 'regnety_040',\n",
       " 'regnety_064',\n",
       " 'regnety_080',\n",
       " 'regnety_120',\n",
       " 'regnety_160',\n",
       " 'regnety_320',\n",
       " 'res2net50_14w_8s',\n",
       " 'res2net50_26w_4s',\n",
       " 'res2net50_26w_6s',\n",
       " 'res2net50_26w_8s',\n",
       " 'res2net50_48w_2s',\n",
       " 'res2net101_26w_4s',\n",
       " 'res2next50',\n",
       " 'resnest14d',\n",
       " 'resnest26d',\n",
       " 'resnest50d',\n",
       " 'resnest50d_1s4x24d',\n",
       " 'resnest50d_4s2x40d',\n",
       " 'resnest101e',\n",
       " 'resnest200e',\n",
       " 'resnest269e',\n",
       " 'resnet18',\n",
       " 'resnet18d',\n",
       " 'resnet26',\n",
       " 'resnet26d',\n",
       " 'resnet34',\n",
       " 'resnet34d',\n",
       " 'resnet50',\n",
       " 'resnet50d',\n",
       " 'resnet66d',\n",
       " 'resnet101',\n",
       " 'resnet101d',\n",
       " 'resnet152',\n",
       " 'resnet152d',\n",
       " 'resnet200',\n",
       " 'resnet200d',\n",
       " 'resnetblur18',\n",
       " 'resnetblur50',\n",
       " 'resnext50_32x4d',\n",
       " 'resnext50d_32x4d',\n",
       " 'resnext101_32x4d',\n",
       " 'resnext101_32x8d',\n",
       " 'resnext101_64x4d',\n",
       " 'rexnet_100',\n",
       " 'rexnet_130',\n",
       " 'rexnet_150',\n",
       " 'rexnet_200',\n",
       " 'rexnetr_100',\n",
       " 'rexnetr_130',\n",
       " 'rexnetr_150',\n",
       " 'rexnetr_200',\n",
       " 'selecsls42',\n",
       " 'selecsls42b',\n",
       " 'selecsls60',\n",
       " 'selecsls60b',\n",
       " 'selecsls84',\n",
       " 'semnasnet_050',\n",
       " 'semnasnet_075',\n",
       " 'semnasnet_100',\n",
       " 'semnasnet_140',\n",
       " 'senet154',\n",
       " 'seresnet18',\n",
       " 'seresnet34',\n",
       " 'seresnet50',\n",
       " 'seresnet50tn',\n",
       " 'seresnet101',\n",
       " 'seresnet152',\n",
       " 'seresnext26_32x4d',\n",
       " 'seresnext26d_32x4d',\n",
       " 'seresnext26t_32x4d',\n",
       " 'seresnext26tn_32x4d',\n",
       " 'seresnext50_32x4d',\n",
       " 'seresnext101_32x4d',\n",
       " 'seresnext101_32x8d',\n",
       " 'skresnet18',\n",
       " 'skresnet34',\n",
       " 'skresnet50',\n",
       " 'skresnet50d',\n",
       " 'skresnext50_32x4d',\n",
       " 'spnasnet_100',\n",
       " 'ssl_resnet18',\n",
       " 'ssl_resnet50',\n",
       " 'ssl_resnext50_32x4d',\n",
       " 'ssl_resnext101_32x4d',\n",
       " 'ssl_resnext101_32x8d',\n",
       " 'ssl_resnext101_32x16d',\n",
       " 'swsl_resnet18',\n",
       " 'swsl_resnet50',\n",
       " 'swsl_resnext50_32x4d',\n",
       " 'swsl_resnext101_32x4d',\n",
       " 'swsl_resnext101_32x8d',\n",
       " 'swsl_resnext101_32x16d',\n",
       " 'tf_efficientnet_b0',\n",
       " 'tf_efficientnet_b0_ap',\n",
       " 'tf_efficientnet_b0_ns',\n",
       " 'tf_efficientnet_b1',\n",
       " 'tf_efficientnet_b1_ap',\n",
       " 'tf_efficientnet_b1_ns',\n",
       " 'tf_efficientnet_b2',\n",
       " 'tf_efficientnet_b2_ap',\n",
       " 'tf_efficientnet_b2_ns',\n",
       " 'tf_efficientnet_b3',\n",
       " 'tf_efficientnet_b3_ap',\n",
       " 'tf_efficientnet_b3_ns',\n",
       " 'tf_efficientnet_b4',\n",
       " 'tf_efficientnet_b4_ap',\n",
       " 'tf_efficientnet_b4_ns',\n",
       " 'tf_efficientnet_b5',\n",
       " 'tf_efficientnet_b5_ap',\n",
       " 'tf_efficientnet_b5_ns',\n",
       " 'tf_efficientnet_b6',\n",
       " 'tf_efficientnet_b6_ap',\n",
       " 'tf_efficientnet_b6_ns',\n",
       " 'tf_efficientnet_b7',\n",
       " 'tf_efficientnet_b7_ap',\n",
       " 'tf_efficientnet_b7_ns',\n",
       " 'tf_efficientnet_b8',\n",
       " 'tf_efficientnet_b8_ap',\n",
       " 'tf_efficientnet_cc_b0_4e',\n",
       " 'tf_efficientnet_cc_b0_8e',\n",
       " 'tf_efficientnet_cc_b1_8e',\n",
       " 'tf_efficientnet_el',\n",
       " 'tf_efficientnet_em',\n",
       " 'tf_efficientnet_es',\n",
       " 'tf_efficientnet_l2_ns',\n",
       " 'tf_efficientnet_l2_ns_475',\n",
       " 'tf_efficientnet_lite0',\n",
       " 'tf_efficientnet_lite1',\n",
       " 'tf_efficientnet_lite2',\n",
       " 'tf_efficientnet_lite3',\n",
       " 'tf_efficientnet_lite4',\n",
       " 'tf_inception_v3',\n",
       " 'tf_mixnet_l',\n",
       " 'tf_mixnet_m',\n",
       " 'tf_mixnet_s',\n",
       " 'tf_mobilenetv3_large_075',\n",
       " 'tf_mobilenetv3_large_100',\n",
       " 'tf_mobilenetv3_large_minimal_100',\n",
       " 'tf_mobilenetv3_small_075',\n",
       " 'tf_mobilenetv3_small_100',\n",
       " 'tf_mobilenetv3_small_minimal_100',\n",
       " 'tresnet_l',\n",
       " 'tresnet_l_448',\n",
       " 'tresnet_m',\n",
       " 'tresnet_m_448',\n",
       " 'tresnet_xl',\n",
       " 'tresnet_xl_448',\n",
       " 'tv_densenet121',\n",
       " 'tv_resnet34',\n",
       " 'tv_resnet50',\n",
       " 'tv_resnet101',\n",
       " 'tv_resnet152',\n",
       " 'tv_resnext50_32x4d',\n",
       " 'vit_base_patch16_224',\n",
       " 'vit_base_patch16_384',\n",
       " 'vit_base_patch32_384',\n",
       " 'vit_base_resnet26d_224',\n",
       " 'vit_base_resnet50d_224',\n",
       " 'vit_huge_patch16_224',\n",
       " 'vit_huge_patch32_384',\n",
       " 'vit_large_patch16_224',\n",
       " 'vit_large_patch16_384',\n",
       " 'vit_large_patch32_384',\n",
       " 'vit_small_patch16_224',\n",
       " 'vit_small_resnet26d_224',\n",
       " 'vit_small_resnet50d_s3_224',\n",
       " 'vovnet39a',\n",
       " 'vovnet57a',\n",
       " 'wide_resnet50_2',\n",
       " 'wide_resnet101_2',\n",
       " 'xception',\n",
       " 'xception41',\n",
       " 'xception65',\n",
       " 'xception71']"
      ]
     },
     "execution_count": 15,
     "metadata": {},
     "output_type": "execute_result"
    }
   ],
   "source": [
    "timm.list_models()"
   ]
  },
  {
   "cell_type": "markdown",
   "metadata": {},
   "source": [
    "**SE features are in_features / reduction not out_features / reduction**"
   ]
  },
  {
   "cell_type": "code",
   "execution_count": 4,
   "metadata": {
    "scrolled": true
   },
   "outputs": [],
   "source": [
    "dst = clone_model(src, dst).eval()"
   ]
  },
  {
   "cell_type": "code",
   "execution_count": 29,
   "metadata": {
    "scrolled": false
   },
   "outputs": [
    {
     "name": "stdout",
     "output_type": "stream",
     "text": [
      "Using downloaded and verified file: ./imagenet_val_targets.pkl\n"
     ]
    },
    {
     "data": {
      "application/vnd.jupyter.widget-view+json": {
       "model_id": "",
       "version_major": 2,
       "version_minor": 0
      },
      "text/plain": [
       "HBox(children=(FloatProgress(value=0.0, max=391.0), HTML(value='')))"
      ]
     },
     "metadata": {},
     "output_type": "display_data"
    },
    {
     "data": {
      "application/vnd.jupyter.widget-view+json": {
       "model_id": "ca05dc3775f64462bfb308f0e606b116",
       "version_major": 2,
       "version_minor": 0
      },
      "text/plain": [
       "HBox(children=(FloatProgress(value=0.0, max=50000.0), HTML(value='')))"
      ]
     },
     "metadata": {},
     "output_type": "display_data"
    },
    {
     "name": "stdout",
     "output_type": "stream",
     "text": [
      "\n"
     ]
    },
    {
     "data": {
      "text/plain": [
       "(0.69948, 0.89662, 76.25272679328918)"
      ]
     },
     "execution_count": 29,
     "metadata": {},
     "output_type": "execute_result"
    }
   ],
   "source": [
    "import torch\n",
    "\n",
    "transform = AutoConfig.from_name('efficientnet_b0').transform\n",
    "\n",
    "benchmark(src.cuda(), transform, batch_size=128)"
   ]
  },
  {
   "cell_type": "code",
   "execution_count": 19,
   "metadata": {},
   "outputs": [
    {
     "name": "stdout",
     "output_type": "stream",
     "text": [
      "Using downloaded and verified file: ./imagenet_val_targets.pkl\n"
     ]
    },
    {
     "data": {
      "application/vnd.jupyter.widget-view+json": {
       "model_id": "f5cf57c2d3b3422c9528b8fde671eed7",
       "version_major": 2,
       "version_minor": 0
      },
      "text/plain": [
       "HBox(children=(FloatProgress(value=0.0, max=391.0), HTML(value='')))"
      ]
     },
     "metadata": {},
     "output_type": "display_data"
    },
    {
     "ename": "KeyboardInterrupt",
     "evalue": "",
     "output_type": "error",
     "traceback": [
      "\u001b[0;31m---------------------------------------------------------------------------\u001b[0m",
      "\u001b[0;31mKeyboardInterrupt\u001b[0m                         Traceback (most recent call last)",
      "\u001b[0;32m<ipython-input-19-ecabb994fd27>\u001b[0m in \u001b[0;36m<module>\u001b[0;34m\u001b[0m\n\u001b[1;32m      1\u001b[0m \u001b[0mtransform\u001b[0m \u001b[0;34m=\u001b[0m \u001b[0mAutoConfig\u001b[0m\u001b[0;34m.\u001b[0m\u001b[0mfrom_name\u001b[0m\u001b[0;34m(\u001b[0m\u001b[0;34m'resnet18'\u001b[0m\u001b[0;34m)\u001b[0m\u001b[0;34m.\u001b[0m\u001b[0mtransform\u001b[0m\u001b[0;34m\u001b[0m\u001b[0;34m\u001b[0m\u001b[0m\n\u001b[1;32m      2\u001b[0m \u001b[0;34m\u001b[0m\u001b[0m\n\u001b[0;32m----> 3\u001b[0;31m \u001b[0mbenchmark\u001b[0m\u001b[0;34m(\u001b[0m\u001b[0msrc\u001b[0m\u001b[0;34m.\u001b[0m\u001b[0mcuda\u001b[0m\u001b[0;34m(\u001b[0m\u001b[0;34m)\u001b[0m\u001b[0;34m,\u001b[0m \u001b[0mtransform\u001b[0m\u001b[0;34m,\u001b[0m \u001b[0mbatch_size\u001b[0m\u001b[0;34m=\u001b[0m\u001b[0;36m128\u001b[0m\u001b[0;34m)\u001b[0m\u001b[0;34m\u001b[0m\u001b[0;34m\u001b[0m\u001b[0m\n\u001b[0m",
      "\u001b[0;32m~/Documents/torcheyes/benchmark.py\u001b[0m in \u001b[0;36mbenchmark\u001b[0;34m(model, transform, batch_size, device)\u001b[0m\n\u001b[1;32m    104\u001b[0m \u001b[0;34m\u001b[0m\u001b[0m\n\u001b[1;32m    105\u001b[0m             \u001b[0mimage_ids\u001b[0m \u001b[0;34m=\u001b[0m \u001b[0;34m[\u001b[0m\u001b[0mget_img_id\u001b[0m\u001b[0;34m(\u001b[0m\u001b[0mimg\u001b[0m\u001b[0;34m[\u001b[0m\u001b[0;36m0\u001b[0m\u001b[0;34m]\u001b[0m\u001b[0;34m)\u001b[0m \u001b[0;32mfor\u001b[0m \u001b[0mimg\u001b[0m \u001b[0;32min\u001b[0m \u001b[0mvalid_loader\u001b[0m\u001b[0;34m.\u001b[0m\u001b[0mdataset\u001b[0m\u001b[0;34m.\u001b[0m\u001b[0mimgs\u001b[0m\u001b[0;34m[\u001b[0m\u001b[0mi_val\u001b[0m\u001b[0;34m*\u001b[0m\u001b[0mvalid_loader\u001b[0m\u001b[0;34m.\u001b[0m\u001b[0mbatch_size\u001b[0m\u001b[0;34m:\u001b[0m\u001b[0;34m(\u001b[0m\u001b[0mi_val\u001b[0m\u001b[0;34m+\u001b[0m\u001b[0;36m1\u001b[0m\u001b[0;34m)\u001b[0m\u001b[0;34m*\u001b[0m\u001b[0mvalid_loader\u001b[0m\u001b[0;34m.\u001b[0m\u001b[0mbatch_size\u001b[0m\u001b[0;34m]\u001b[0m\u001b[0;34m]\u001b[0m\u001b[0;34m\u001b[0m\u001b[0;34m\u001b[0m\u001b[0m\n\u001b[0;32m--> 106\u001b[0;31m             \u001b[0mevaluator\u001b[0m\u001b[0;34m.\u001b[0m\u001b[0madd\u001b[0m\u001b[0;34m(\u001b[0m\u001b[0mdict\u001b[0m\u001b[0;34m(\u001b[0m\u001b[0mzip\u001b[0m\u001b[0;34m(\u001b[0m\u001b[0mimage_ids\u001b[0m\u001b[0;34m,\u001b[0m \u001b[0mlist\u001b[0m\u001b[0;34m(\u001b[0m\u001b[0mnet_out\u001b[0m\u001b[0;34m.\u001b[0m\u001b[0mcpu\u001b[0m\u001b[0;34m(\u001b[0m\u001b[0;34m)\u001b[0m\u001b[0;34m.\u001b[0m\u001b[0mnumpy\u001b[0m\u001b[0;34m(\u001b[0m\u001b[0;34m)\u001b[0m\u001b[0;34m)\u001b[0m\u001b[0;34m)\u001b[0m\u001b[0;34m)\u001b[0m\u001b[0;34m)\u001b[0m\u001b[0;34m\u001b[0m\u001b[0;34m\u001b[0m\u001b[0m\n\u001b[0m\u001b[1;32m    107\u001b[0m \u001b[0;34m\u001b[0m\u001b[0m\n\u001b[1;32m    108\u001b[0m             \u001b[0mpbar\u001b[0m\u001b[0;34m.\u001b[0m\u001b[0mupdate\u001b[0m\u001b[0;34m(\u001b[0m\u001b[0;36m1\u001b[0m\u001b[0;34m)\u001b[0m\u001b[0;34m\u001b[0m\u001b[0;34m\u001b[0m\u001b[0m\n",
      "\u001b[0;31mKeyboardInterrupt\u001b[0m: "
     ]
    }
   ],
   "source": [
    "\n",
    "transform = AutoConfig.from_name('resnet18').transform\n",
    "\n",
    "benchmark(src.cuda(), transform, batch_size=128)"
   ]
  },
  {
   "cell_type": "markdown",
   "metadata": {},
   "source": [
    "# Pretrained weights"
   ]
  },
  {
   "cell_type": "code",
   "execution_count": 7,
   "metadata": {},
   "outputs": [
    {
     "name": "stdout",
     "output_type": "stream",
     "text": [
      "'densenet201': BasicUrlHandler('https://github.com/FrancescoSaverioZuppichini/glasses-weights/blob/main/densenet201.pth?raw=true'),\n",
      "'resnet26d': BasicUrlHandler('https://github.com/FrancescoSaverioZuppichini/glasses-weights/blob/main/resnet26d.pth?raw=true'),\n",
      "'resnet18': BasicUrlHandler('https://github.com/FrancescoSaverioZuppichini/glasses-weights/blob/main/resnet18.pth?raw=true'),\n",
      "'regnety_032': BasicUrlHandler('https://github.com/FrancescoSaverioZuppichini/glasses-weights/blob/main/regnety_032.pth?raw=true'),\n",
      "'densenet169': BasicUrlHandler('https://github.com/FrancescoSaverioZuppichini/glasses-weights/blob/main/densenet169.pth?raw=true'),\n",
      "'regnetx_004': BasicUrlHandler('https://github.com/FrancescoSaverioZuppichini/glasses-weights/blob/main/regnetx_004.pth?raw=true'),\n",
      "'resnet34d': BasicUrlHandler('https://github.com/FrancescoSaverioZuppichini/glasses-weights/blob/main/resnet34d.pth?raw=true'),\n",
      "'regnetx_016': BasicUrlHandler('https://github.com/FrancescoSaverioZuppichini/glasses-weights/blob/main/regnetx_016.pth?raw=true'),\n",
      "'regnety_004': BasicUrlHandler('https://github.com/FrancescoSaverioZuppichini/glasses-weights/blob/main/regnety_004.pth?raw=true'),\n",
      "'dummy': BasicUrlHandler('https://github.com/FrancescoSaverioZuppichini/glasses-weights/blob/main/dummy.pth?raw=true'),\n",
      "'densenet121': BasicUrlHandler('https://github.com/FrancescoSaverioZuppichini/glasses-weights/blob/main/densenet121.pth?raw=true'),\n",
      "'resnet26': BasicUrlHandler('https://github.com/FrancescoSaverioZuppichini/glasses-weights/blob/main/resnet26.pth?raw=true'),\n",
      "'efficientnet_b1': BasicUrlHandler('https://github.com/FrancescoSaverioZuppichini/glasses-weights/blob/main/efficientnet_b1.pth?raw=true'),\n",
      "'efficientnet_b0': BasicUrlHandler('https://github.com/FrancescoSaverioZuppichini/glasses-weights/blob/main/efficientnet_b0.pth?raw=true'),\n",
      "'efficientnet_b4_tf': BasicUrlHandler('https://github.com/FrancescoSaverioZuppichini/glasses-weights/blob/main/efficientnet_b4_tf.pth?raw=true'),\n",
      "'resnet34': BasicUrlHandler('https://github.com/FrancescoSaverioZuppichini/glasses-weights/blob/main/resnet34.pth?raw=true'),\n",
      "'efficientnet_b3': BasicUrlHandler('https://github.com/FrancescoSaverioZuppichini/glasses-weights/blob/main/efficientnet_b3.pth?raw=true'),\n",
      "'regnety_008': BasicUrlHandler('https://github.com/FrancescoSaverioZuppichini/glasses-weights/blob/main/regnety_008.pth?raw=true'),\n",
      "'regnety_002': BasicUrlHandler('https://github.com/FrancescoSaverioZuppichini/glasses-weights/blob/main/regnety_002.pth?raw=true'),\n",
      "'regnety_006': BasicUrlHandler('https://github.com/FrancescoSaverioZuppichini/glasses-weights/blob/main/regnety_006.pth?raw=true'),\n",
      "'efficientnet_b4': BasicUrlHandler('https://github.com/FrancescoSaverioZuppichini/glasses-weights/blob/main/efficientnet_b4.pth?raw=true'),\n",
      "'regnetx_032': BasicUrlHandler('https://github.com/FrancescoSaverioZuppichini/glasses-weights/blob/main/regnetx_032.pth?raw=true'),\n",
      "'regnety_016': BasicUrlHandler('https://github.com/FrancescoSaverioZuppichini/glasses-weights/blob/main/regnety_016.pth?raw=true'),\n",
      "'regnetx_006': BasicUrlHandler('https://github.com/FrancescoSaverioZuppichini/glasses-weights/blob/main/regnetx_006.pth?raw=true'),\n",
      "'regnetx_002': BasicUrlHandler('https://github.com/FrancescoSaverioZuppichini/glasses-weights/blob/main/regnetx_002.pth?raw=true'),\n",
      "'efficientnet_b2': BasicUrlHandler('https://github.com/FrancescoSaverioZuppichini/glasses-weights/blob/main/efficientnet_b2.pth?raw=true'),\n",
      "'regnetx_008': BasicUrlHandler('https://github.com/FrancescoSaverioZuppichini/glasses-weights/blob/main/regnetx_008.pth?raw=true'),\n"
     ]
    }
   ],
   "source": [
    "from pathlib import Path\n",
    "\n",
    "root = Path('/home/zuppif/Documents/glasses-weights/')\n",
    "\n",
    "models = map(lambda x: x.stem, root.glob('*.pth'))\n",
    "\n",
    "for model in models:\n",
    "    print(f\"'{model}': BasicUrlHandler('https://github.com/FrancescoSaverioZuppichini/glasses-weights/blob/main/{model}.pth?raw=true'),\")"
   ]
  },
  {
   "cell_type": "code",
   "execution_count": null,
   "metadata": {},
   "outputs": [],
   "source": []
  }
 ],
 "metadata": {
  "kernelspec": {
   "display_name": "Python 3",
   "language": "python",
   "name": "python3"
  },
  "language_info": {
   "codemirror_mode": {
    "name": "ipython",
    "version": 3
   },
   "file_extension": ".py",
   "mimetype": "text/x-python",
   "name": "python",
   "nbconvert_exporter": "python",
   "pygments_lexer": "ipython3",
   "version": "3.8.2"
  }
 },
 "nbformat": 4,
 "nbformat_minor": 4
}
