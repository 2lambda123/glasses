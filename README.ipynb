{
 "cells": [
  {
   "cell_type": "markdown",
   "metadata": {},
   "source": [
    "# Glasses 😎\n",
    "\n",
    "![alt](https://github.com/FrancescoSaverioZuppichini/glasses/blob/develop/docs/_static/images/background.png?raw=true)\n",
    "\n",
    "[![codecov](https://codecov.io/gh/FrancescoSaverioZuppichini/glasses/branch/develop/graph/badge.svg)](https://codecov.io/gh/FrancescoSaverioZuppichini/glasses)\n",
    "\n",
    "Compact, concise and customizable \n",
    "deep learning computer vision library \n",
    "\n",
    "**This is an early beta, code will change and pretrained weights are not available (I need to find a place to store them online, any advice?)**\n",
    "\n",
    "Doc is [here](https://francescosaveriozuppichini.github.io/glasses/index.html)"
   ]
  },
  {
   "cell_type": "markdown",
   "metadata": {},
   "source": [
    "## Installation\n",
    "\n",
    "You can install `glasses` using pip by running\n",
    "\n",
    "```\n",
    "pip install git+https://github.com/FrancescoSaverioZuppichini/glasses\n",
    "```"
   ]
  },
  {
   "cell_type": "markdown",
   "metadata": {},
   "source": [
    "### Motivation\n",
    "\n",
    "All the existing implementation of the most famous model are written with very bad coding practices, what today is called *research code*. I struggled myself to understand some of the implementation that in the end were just few lines of code. \n",
    "\n",
    "Most of them are missing a global structure, they used tons of code repetition, they are not easily customizable and not tested. Since I do computer vision for living, so I needed a way to make my life easier."
   ]
  },
  {
   "cell_type": "markdown",
   "metadata": {},
   "source": [
    "## Getting started"
   ]
  },
  {
   "cell_type": "code",
   "execution_count": null,
   "metadata": {
    "scrolled": true
   },
   "outputs": [],
   "source": [
    "import torch\n",
    "from glasses.nn.models import *\n",
    "from torch import nn\n",
    "\n",
    "model = ResNet.resnet18(pretrained=True)\n",
    "model.summary() #thanks to torchsummary"
   ]
  },
  {
   "cell_type": "code",
   "execution_count": null,
   "metadata": {},
   "outputs": [],
   "source": [
    "# change activation\n",
    "ResNet.resnet18(activation = nn.SELU)\n",
    "# change number of classes\n",
    "ResNet.resnet18(n_classes=100)\n",
    "# freeze only the convolution weights\n",
    "model = ResNet.resnet18(pretrained=True)\n",
    "for param in model.decoder.parameters():\n",
    "     param.requires_grad = False"
   ]
  },
  {
   "cell_type": "code",
   "execution_count": null,
   "metadata": {},
   "outputs": [],
   "source": [
    "# change the decoder part\n",
    "model = ResNet.resnet18(pretrained=True)\n",
    "my_decoder = nn.Sequential(\n",
    "    nn.AdaptiveAvgPool2d((1,1)),\n",
    "    nn.Flatten(),\n",
    "    nn.Linear(model.encoder.widths[-1], 512),\n",
    "    nn.Dropout(0.2),\n",
    "    nn.ReLU(),\n",
    "    nn.Linear(512, 1000))\n",
    "\n",
    "model.decoder = my_decoder\n",
    "\n",
    "x = torch.rand((1,3,224,224))\n",
    "model(x).shape #torch.Size([1, 1000])"
   ]
  },
  {
   "cell_type": "markdown",
   "metadata": {},
   "source": [
    "## Deep Customization\n",
    "\n",
    "All models is composed by 4 parts:\n",
    "- `Block`\n",
    "- `Layer`\n",
    "- `Decoder`\n",
    "- `Encoder`\n",
    "\n",
    "### Block\n",
    "\n",
    "Each model has its building block, they are noted by `*Block`. In each block, all the weights are in the `.block` field. This makes it very easy to customize one specific model. "
   ]
  },
  {
   "cell_type": "code",
   "execution_count": null,
   "metadata": {},
   "outputs": [],
   "source": [
    "from glasses.nn.models.classification.vgg import VGGBasicBlock\n",
    "from glasses.nn.models.classification.resnet import ResNetBasicBlock, ResNetBottleneckBlock, ResNetBasicPreActBlock, ResNetBottleneckPreActBlock\n",
    "from glasses.nn.models.classification.senet import SENetBasicBlock, SENetBottleneckBlock\n",
    "from glasses.nn.models.classification.resnetxt import ResNetXtBottleNeckBlock\n",
    "from glasses.nn.models.classification.densenet import DenseBottleNeckBlock\n",
    "from glasses.nn.models.classification.wide_resnet import WideResNetBottleNeckBlock\n",
    "from glasses.nn.models.classification.mobilenet import MobileNetBasicBlock\n",
    "from glasses.nn.models.classification.efficientnet import EfficientNetBasicBlock"
   ]
  },
  {
   "cell_type": "markdown",
   "metadata": {},
   "source": [
    "For example, if we want to add Squeeze and Excitation to the resnet bottleneck block, we can just"
   ]
  },
  {
   "cell_type": "code",
   "execution_count": null,
   "metadata": {
    "scrolled": false
   },
   "outputs": [],
   "source": [
    "from glasses.nn.models.classification.se import SpatialSE\n",
    "from  glasses.nn.models.classification.resnet import ResNetBottleneckBlock\n",
    "\n",
    "class SEResNetBottleneckBlock(ResNetBottleneckBlock):\n",
    "    def __init__(self, in_features: int, out_features: int, squeeze: int = 16, *args, **kwargs):\n",
    "        super().__init__(in_features, out_features, *args, **kwargs)\n",
    "        # all the weights are in block, we want to apply se after the weights\n",
    "        self.block.add_module('se', SpatialSE(out_features, reduction=squeeze))\n",
    "        \n",
    "SEResNetBottleneckBlock(32, 64)"
   ]
  },
  {
   "cell_type": "markdown",
   "metadata": {},
   "source": [
    "Then, we can use the class methods to create the new models following the existing architecture blueprint, for example, to create `se_resnet50`"
   ]
  },
  {
   "cell_type": "code",
   "execution_count": null,
   "metadata": {
    "scrolled": true
   },
   "outputs": [],
   "source": [
    "ResNet.resnet50(block=ResNetBottleneckBlock)"
   ]
  },
  {
   "cell_type": "markdown",
   "metadata": {},
   "source": [
    "The cool thing is each model has the same api, if I want to create a vgg13 with the `ResNetBottleneckBlock` I can just"
   ]
  },
  {
   "cell_type": "code",
   "execution_count": null,
   "metadata": {
    "scrolled": true
   },
   "outputs": [],
   "source": [
    "model = VGG.vgg13(block=SEResNetBottleneckBlock)\n",
    "model.summary()"
   ]
  },
  {
   "cell_type": "markdown",
   "metadata": {},
   "source": [
    "Some specific model can require additional parameter to the block, for example `MobileNetV2` also required a `expansion` parameter so our `SEResNetBottleneckBlock` won't work. "
   ]
  },
  {
   "cell_type": "markdown",
   "metadata": {},
   "source": [
    "### Layer\n",
    "\n",
    "A `Layer` is a collection of blocks, it is used to stack multiple blocks together following some logic. For example, `ResNetLayer`"
   ]
  },
  {
   "cell_type": "code",
   "execution_count": null,
   "metadata": {
    "scrolled": true
   },
   "outputs": [],
   "source": [
    "from glasses.nn.models.classification.resnet import ResNetLayer\n",
    "\n",
    "ResNetLayer(64, 128, n=2)"
   ]
  },
  {
   "cell_type": "markdown",
   "metadata": {},
   "source": [
    "### Encoder\n",
    "\n",
    "The encoder is what encoders a vector, so the convolution layers. It has always two very important parameters.\n",
    "\n",
    "- widths\n",
    "- depths\n",
    "\n",
    "\n",
    "**widths** is the wide at each layer, so how much features there are\n",
    "**depths** is the depth at each layer, so how many blocks there are\n",
    "\n",
    "For example, `ResNetEncoder` will creates multiple `ResNetLayer` based on the len of `widths` and `depths`. Let's see some example."
   ]
  },
  {
   "cell_type": "code",
   "execution_count": null,
   "metadata": {
    "scrolled": true
   },
   "outputs": [],
   "source": [
    "from glasses.nn.models.classification.resnet import ResNetEncoder\n",
    "# 3 layers, with 32,64,128 features and 1,2,3 block each\n",
    "ResNetEncoder(\n",
    "    widths=[32,64,128],\n",
    "    depths=[1,2,3])\n"
   ]
  },
  {
   "cell_type": "markdown",
   "metadata": {},
   "source": [
    "**Remember** each model has always a `.decoder` field"
   ]
  },
  {
   "cell_type": "code",
   "execution_count": null,
   "metadata": {},
   "outputs": [],
   "source": [
    "from glasses.nn.models import ResNet\n",
    "\n",
    "model = ResNet.resnet18()\n",
    "model.encoder.widths[-1]"
   ]
  },
  {
   "cell_type": "markdown",
   "metadata": {},
   "source": [
    "The encoder knows the number of output features, you can access them by"
   ]
  },
  {
   "cell_type": "markdown",
   "metadata": {},
   "source": [
    "### Decoder\n",
    "\n",
    "The decoder takes the last feature from the `.encoder` and decode it. Usually it is just a linear layer. The `ResNetDecoder` looks like"
   ]
  },
  {
   "cell_type": "code",
   "execution_count": null,
   "metadata": {},
   "outputs": [],
   "source": [
    "from glasses.nn.models.classification.resnet import ResNetDecoder\n",
    "\n",
    "\n",
    "ResNetDecoder(512, n_classes=1000)"
   ]
  },
  {
   "cell_type": "markdown",
   "metadata": {},
   "source": [
    "**This object oriented structure allows to reuse most of the code across the models**"
   ]
  },
  {
   "cell_type": "markdown",
   "metadata": {},
   "source": [
    "### Models\n",
    "\n",
    "The models so far\n",
    "\n",
    "\n",
    "| name             | Parameters   |   Size (MB) |\n",
    "|:-----------------|:-------------|------------:|\n",
    "| resnet18         | 11,689,512   |       44.59 |\n",
    "| resnet26         | 15,995,176   |       61.02 |\n",
    "| resnet34         | 21,797,672   |       83.15 |\n",
    "| resnet50         | 25,557,032   |       97.49 |\n",
    "| resnet101        | 44,549,160   |      169.94 |\n",
    "| resnet152        | 60,192,808   |      229.62 |\n",
    "| resnet200        | 64,673,832   |      246.71 |\n",
    "| resnext50_32x4d  | 25,028,904   |       95.48 |\n",
    "| resnext101_32x8d | 88,791,336   |      338.71 |\n",
    "| wide_resnet50_2  | 68,883,240   |      262.77 |\n",
    "| wide_resnet101_2 | 126,886,696  |      484.03 |\n",
    "| se_resnet18      | 11,776,552   |       44.92 |\n",
    "| se_resnet34      | 21,954,856   |       83.75 |\n",
    "| se_resnet50      | 28,071,976   |      107.09 |\n",
    "| se_resnet101     | 49,292,328   |      188.04 |\n",
    "| se_resnet152     | 66,770,984   |      254.71 |\n",
    "| densenet121      | 7,978,856    |       30.44 |\n",
    "| densenet161      | 28,681,000   |      109.41 |\n",
    "| densenet169      | 14,149,480   |       53.98 |\n",
    "| densenet201      | 20,013,928   |       76.35 |\n",
    "| MobileNetV2      | 3,504,872    |       13.37 |\n",
    "| fishnet99        | 16,630,312   |       63.44 |\n",
    "| fishnet150       | 24,960,808   |       95.22 |\n",
    "| efficientnet_b0  | 5,288,548    |       20.17 |\n",
    "| efficientnet_b1  | 7,794,184    |       29.73 |\n",
    "| efficientnet_b2  | 9,109,994    |       34.75 |\n",
    "| efficientnet_b3  | 12,233,232   |       46.67 |\n",
    "| efficientnet_b4  | 19,341,616   |       73.78 |\n",
    "| efficientnet_b5  | 30,389,784   |      115.93 |\n",
    "| efficientnet_b6  | 43,040,704   |      164.19 |\n",
    "| efficientnet_b7  | 66,347,960   |      253.1  |\n",
    "| efficientnet_b8  | 87,413,142   |      333.45 |\n",
    "| efficientnet_l2  | 480,309,308  |     1832.23 |"
   ]
  },
  {
   "cell_type": "markdown",
   "metadata": {},
   "source": [
    "## Credits\n",
    "\n",
    "Most of the weights were trained by other people and adapted to glasses. It is worth cite\n",
    "\n",
    "- [pytorch-image-models](https://github.com/rwightman/pytorch-image-models)\n",
    "- [torchvision](hhttps://github.com/pytorch/vision)\n"
   ]
  }
 ],
 "metadata": {
  "kernelspec": {
   "display_name": "Python 3",
   "language": "python",
   "name": "python3"
  },
  "language_info": {
   "codemirror_mode": {
    "name": "ipython",
    "version": 3
   },
   "file_extension": ".py",
   "mimetype": "text/x-python",
   "name": "python",
   "nbconvert_exporter": "python",
   "pygments_lexer": "ipython3",
   "version": "3.8.2"
  }
 },
 "nbformat": 4,
 "nbformat_minor": 4
}
