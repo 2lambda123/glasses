{
 "cells": [
  {
   "cell_type": "code",
   "execution_count": 53,
   "metadata": {},
   "outputs": [
    {
     "name": "stdout",
     "output_type": "stream",
     "text": [
      "The autoreload extension is already loaded. To reload it, use:\n",
      "  %reload_ext autoreload\n"
     ]
    }
   ],
   "source": [
    "%load_ext autoreload\n",
    "%autoreload 2"
   ]
  },
  {
   "cell_type": "code",
   "execution_count": 54,
   "metadata": {},
   "outputs": [],
   "source": [
    "import torch\n",
    "import torch.nn as nn\n",
    "import cv2\n",
    "from glasses.nn.models import *\n",
    "import torch.nn.functional as F\n",
    "from torch.autograd import Variable\n",
    "import numpy as np\n",
    "from glasses.utils.Storage import ForwardModuleStorage, BackwardModuleStorage\n",
    "from PIL import Image\n",
    "from io import BytesIO\n",
    "import requests\n",
    "from torchvision.transforms import Normalize\n",
    "import timm\n",
    "\n",
    "r = requests.get('https://i.insider.com/5df126b679d7570ad2044f3e?width=700&format=jpeg&auto=webp')\n",
    "im = Image.open(BytesIO(r.content))"
   ]
  },
  {
   "cell_type": "code",
   "execution_count": 64,
   "metadata": {},
   "outputs": [
    {
     "name": "stdout",
     "output_type": "stream",
     "text": [
      "graph(%x : Float(32:150528, 3:50176, 224:224, 224:1, requires_grad=0, device=cuda:0),\n",
      "      %decoder.fc.weight : Float(1000:2048, 2048:1, requires_grad=1, device=cuda:0),\n",
      "      %decoder.fc.bias : Float(1000:1, requires_grad=1, device=cuda:0),\n",
      "      %497 : Float(64:147, 3:49, 7:7, 7:1, requires_grad=0, device=cuda:0),\n",
      "      %498 : Float(64:1, requires_grad=0, device=cuda:0),\n",
      "      %500 : Float(64:64, 64:1, 1:1, 1:1, requires_grad=0, device=cuda:0),\n",
      "      %501 : Float(64:1, requires_grad=0, device=cuda:0),\n",
      "      %503 : Float(64:576, 64:9, 3:3, 3:1, requires_grad=0, device=cuda:0),\n",
      "      %504 : Float(64:1, requires_grad=0, device=cuda:0),\n",
      "      %506 : Float(256:64, 64:1, 1:1, 1:1, requires_grad=0, device=cuda:0),\n",
      "      %507 : Float(256:1, requires_grad=0, device=cuda:0),\n",
      "      %509 : Float(256:64, 64:1, 1:1, 1:1, requires_grad=0, device=cuda:0),\n",
      "      %510 : Float(256:1, requires_grad=0, device=cuda:0),\n",
      "      %512 : Float(64:256, 256:1, 1:1, 1:1, requires_grad=0, device=cuda:0),\n",
      "      %513 : Float(64:1, requires_grad=0, device=cuda:0),\n",
      "      %515 : Float(64:576, 64:9, 3:3, 3:1, requires_grad=0, device=cuda:0),\n",
      "      %516 : Float(64:1, requires_grad=0, device=cuda:0),\n",
      "      %518 : Float(256:64, 64:1, 1:1, 1:1, requires_grad=0, device=cuda:0),\n",
      "      %519 : Float(256:1, requires_grad=0, device=cuda:0),\n",
      "      %521 : Float(64:256, 256:1, 1:1, 1:1, requires_grad=0, device=cuda:0),\n",
      "      %522 : Float(64:1, requires_grad=0, device=cuda:0),\n",
      "      %524 : Float(64:576, 64:9, 3:3, 3:1, requires_grad=0, device=cuda:0),\n",
      "      %525 : Float(64:1, requires_grad=0, device=cuda:0),\n",
      "      %527 : Float(256:64, 64:1, 1:1, 1:1, requires_grad=0, device=cuda:0),\n",
      "      %528 : Float(256:1, requires_grad=0, device=cuda:0),\n",
      "      %530 : Float(128:256, 256:1, 1:1, 1:1, requires_grad=0, device=cuda:0),\n",
      "      %531 : Float(128:1, requires_grad=0, device=cuda:0),\n",
      "      %533 : Float(128:1152, 128:9, 3:3, 3:1, requires_grad=0, device=cuda:0),\n",
      "      %534 : Float(128:1, requires_grad=0, device=cuda:0),\n",
      "      %536 : Float(512:128, 128:1, 1:1, 1:1, requires_grad=0, device=cuda:0),\n",
      "      %537 : Float(512:1, requires_grad=0, device=cuda:0),\n",
      "      %539 : Float(512:256, 256:1, 1:1, 1:1, requires_grad=0, device=cuda:0),\n",
      "      %540 : Float(512:1, requires_grad=0, device=cuda:0),\n",
      "      %542 : Float(128:512, 512:1, 1:1, 1:1, requires_grad=0, device=cuda:0),\n",
      "      %543 : Float(128:1, requires_grad=0, device=cuda:0),\n",
      "      %545 : Float(128:1152, 128:9, 3:3, 3:1, requires_grad=0, device=cuda:0),\n",
      "      %546 : Float(128:1, requires_grad=0, device=cuda:0),\n",
      "      %548 : Float(512:128, 128:1, 1:1, 1:1, requires_grad=0, device=cuda:0),\n",
      "      %549 : Float(512:1, requires_grad=0, device=cuda:0),\n",
      "      %551 : Float(128:512, 512:1, 1:1, 1:1, requires_grad=0, device=cuda:0),\n",
      "      %552 : Float(128:1, requires_grad=0, device=cuda:0),\n",
      "      %554 : Float(128:1152, 128:9, 3:3, 3:1, requires_grad=0, device=cuda:0),\n",
      "      %555 : Float(128:1, requires_grad=0, device=cuda:0),\n",
      "      %557 : Float(512:128, 128:1, 1:1, 1:1, requires_grad=0, device=cuda:0),\n",
      "      %558 : Float(512:1, requires_grad=0, device=cuda:0),\n",
      "      %560 : Float(128:512, 512:1, 1:1, 1:1, requires_grad=0, device=cuda:0),\n",
      "      %561 : Float(128:1, requires_grad=0, device=cuda:0),\n",
      "      %563 : Float(128:1152, 128:9, 3:3, 3:1, requires_grad=0, device=cuda:0),\n",
      "      %564 : Float(128:1, requires_grad=0, device=cuda:0),\n",
      "      %566 : Float(512:128, 128:1, 1:1, 1:1, requires_grad=0, device=cuda:0),\n",
      "      %567 : Float(512:1, requires_grad=0, device=cuda:0),\n",
      "      %569 : Float(256:512, 512:1, 1:1, 1:1, requires_grad=0, device=cuda:0),\n",
      "      %570 : Float(256:1, requires_grad=0, device=cuda:0),\n",
      "      %572 : Float(256:2304, 256:9, 3:3, 3:1, requires_grad=0, device=cuda:0),\n",
      "      %573 : Float(256:1, requires_grad=0, device=cuda:0),\n",
      "      %575 : Float(1024:256, 256:1, 1:1, 1:1, requires_grad=0, device=cuda:0),\n",
      "      %576 : Float(1024:1, requires_grad=0, device=cuda:0),\n",
      "      %578 : Float(1024:512, 512:1, 1:1, 1:1, requires_grad=0, device=cuda:0),\n",
      "      %579 : Float(1024:1, requires_grad=0, device=cuda:0),\n",
      "      %581 : Float(256:1024, 1024:1, 1:1, 1:1, requires_grad=0, device=cuda:0),\n",
      "      %582 : Float(256:1, requires_grad=0, device=cuda:0),\n",
      "      %584 : Float(256:2304, 256:9, 3:3, 3:1, requires_grad=0, device=cuda:0),\n",
      "      %585 : Float(256:1, requires_grad=0, device=cuda:0),\n",
      "      %587 : Float(1024:256, 256:1, 1:1, 1:1, requires_grad=0, device=cuda:0),\n",
      "      %588 : Float(1024:1, requires_grad=0, device=cuda:0),\n",
      "      %590 : Float(256:1024, 1024:1, 1:1, 1:1, requires_grad=0, device=cuda:0),\n",
      "      %591 : Float(256:1, requires_grad=0, device=cuda:0),\n",
      "      %593 : Float(256:2304, 256:9, 3:3, 3:1, requires_grad=0, device=cuda:0),\n",
      "      %594 : Float(256:1, requires_grad=0, device=cuda:0),\n",
      "      %596 : Float(1024:256, 256:1, 1:1, 1:1, requires_grad=0, device=cuda:0),\n",
      "      %597 : Float(1024:1, requires_grad=0, device=cuda:0),\n",
      "      %599 : Float(256:1024, 1024:1, 1:1, 1:1, requires_grad=0, device=cuda:0),\n",
      "      %600 : Float(256:1, requires_grad=0, device=cuda:0),\n",
      "      %602 : Float(256:2304, 256:9, 3:3, 3:1, requires_grad=0, device=cuda:0),\n",
      "      %603 : Float(256:1, requires_grad=0, device=cuda:0),\n",
      "      %605 : Float(1024:256, 256:1, 1:1, 1:1, requires_grad=0, device=cuda:0),\n",
      "      %606 : Float(1024:1, requires_grad=0, device=cuda:0),\n",
      "      %608 : Float(256:1024, 1024:1, 1:1, 1:1, requires_grad=0, device=cuda:0),\n",
      "      %609 : Float(256:1, requires_grad=0, device=cuda:0),\n",
      "      %611 : Float(256:2304, 256:9, 3:3, 3:1, requires_grad=0, device=cuda:0),\n",
      "      %612 : Float(256:1, requires_grad=0, device=cuda:0),\n",
      "      %614 : Float(1024:256, 256:1, 1:1, 1:1, requires_grad=0, device=cuda:0),\n",
      "      %615 : Float(1024:1, requires_grad=0, device=cuda:0),\n",
      "      %617 : Float(256:1024, 1024:1, 1:1, 1:1, requires_grad=0, device=cuda:0),\n",
      "      %618 : Float(256:1, requires_grad=0, device=cuda:0),\n",
      "      %620 : Float(256:2304, 256:9, 3:3, 3:1, requires_grad=0, device=cuda:0),\n",
      "      %621 : Float(256:1, requires_grad=0, device=cuda:0),\n",
      "      %623 : Float(1024:256, 256:1, 1:1, 1:1, requires_grad=0, device=cuda:0),\n",
      "      %624 : Float(1024:1, requires_grad=0, device=cuda:0),\n",
      "      %626 : Float(512:1024, 1024:1, 1:1, 1:1, requires_grad=0, device=cuda:0),\n",
      "      %627 : Float(512:1, requires_grad=0, device=cuda:0),\n",
      "      %629 : Float(512:4608, 512:9, 3:3, 3:1, requires_grad=0, device=cuda:0),\n",
      "      %630 : Float(512:1, requires_grad=0, device=cuda:0),\n",
      "      %632 : Float(2048:512, 512:1, 1:1, 1:1, requires_grad=0, device=cuda:0),\n",
      "      %633 : Float(2048:1, requires_grad=0, device=cuda:0),\n",
      "      %635 : Float(2048:1024, 1024:1, 1:1, 1:1, requires_grad=0, device=cuda:0),\n",
      "      %636 : Float(2048:1, requires_grad=0, device=cuda:0),\n",
      "      %638 : Float(512:2048, 2048:1, 1:1, 1:1, requires_grad=0, device=cuda:0),\n",
      "      %639 : Float(512:1, requires_grad=0, device=cuda:0),\n",
      "      %641 : Float(512:4608, 512:9, 3:3, 3:1, requires_grad=0, device=cuda:0),\n",
      "      %642 : Float(512:1, requires_grad=0, device=cuda:0),\n",
      "      %644 : Float(2048:512, 512:1, 1:1, 1:1, requires_grad=0, device=cuda:0),\n",
      "      %645 : Float(2048:1, requires_grad=0, device=cuda:0),\n",
      "      %647 : Float(512:2048, 2048:1, 1:1, 1:1, requires_grad=0, device=cuda:0),\n",
      "      %648 : Float(512:1, requires_grad=0, device=cuda:0),\n",
      "      %650 : Float(512:4608, 512:9, 3:3, 3:1, requires_grad=0, device=cuda:0),\n",
      "      %651 : Float(512:1, requires_grad=0, device=cuda:0),\n",
      "      %653 : Float(2048:512, 512:1, 1:1, 1:1, requires_grad=0, device=cuda:0),\n",
      "      %654 : Float(2048:1, requires_grad=0, device=cuda:0)):\n",
      "  %496 : Float(32:802816, 64:12544, 112:112, 112:1, requires_grad=1, device=cuda:0) = onnx::Conv[dilations=[1, 1], group=1, kernel_shape=[7, 7], pads=[3, 3, 3, 3], strides=[2, 2]](%x, %497, %498)\n",
      "  %323 : Float(32:802816, 64:12544, 112:112, 112:1, requires_grad=1, device=cuda:0) = onnx::Relu(%496) # /home/zuppif/anaconda3/envs/dl/lib/python3.8/site-packages/torch/nn/functional.py:1134:0\n",
      "  %324 : Float(32:200704, 64:3136, 56:56, 56:1, requires_grad=1, device=cuda:0) = onnx::MaxPool[kernel_shape=[3, 3], pads=[1, 1, 1, 1], strides=[2, 2]](%323) # /home/zuppif/anaconda3/envs/dl/lib/python3.8/site-packages/torch/nn/functional.py:585:0\n",
      "  %499 : Float(32:200704, 64:3136, 56:56, 56:1, requires_grad=1, device=cuda:0) = onnx::Conv[dilations=[1, 1], group=1, kernel_shape=[1, 1], pads=[0, 0, 0, 0], strides=[1, 1]](%324, %500, %501)\n",
      "  %327 : Float(32:200704, 64:3136, 56:56, 56:1, requires_grad=1, device=cuda:0) = onnx::Relu(%499) # /home/zuppif/anaconda3/envs/dl/lib/python3.8/site-packages/torch/nn/functional.py:1134:0\n",
      "  %502 : Float(32:200704, 64:3136, 56:56, 56:1, requires_grad=1, device=cuda:0) = onnx::Conv[dilations=[1, 1], group=1, kernel_shape=[3, 3], pads=[1, 1, 1, 1], strides=[1, 1]](%327, %503, %504)\n",
      "  %330 : Float(32:200704, 64:3136, 56:56, 56:1, requires_grad=1, device=cuda:0) = onnx::Relu(%502) # /home/zuppif/anaconda3/envs/dl/lib/python3.8/site-packages/torch/nn/functional.py:1134:0\n",
      "  %505 : Float(32:802816, 256:3136, 56:56, 56:1, requires_grad=1, device=cuda:0) = onnx::Conv[dilations=[1, 1], group=1, kernel_shape=[1, 1], pads=[0, 0, 0, 0], strides=[1, 1]](%330, %506, %507)\n",
      "  %508 : Float(32:802816, 256:3136, 56:56, 56:1, requires_grad=1, device=cuda:0) = onnx::Conv[dilations=[1, 1], group=1, kernel_shape=[1, 1], pads=[0, 0, 0, 0], strides=[1, 1]](%324, %509, %510)\n",
      "  %335 : Float(32:802816, 256:3136, 56:56, 56:1, requires_grad=1, device=cuda:0) = onnx::Add(%505, %508)\n",
      "  %336 : Float(32:802816, 256:3136, 56:56, 56:1, requires_grad=1, device=cuda:0) = onnx::Relu(%335) # /home/zuppif/anaconda3/envs/dl/lib/python3.8/site-packages/torch/nn/functional.py:1134:0\n",
      "  %511 : Float(32:200704, 64:3136, 56:56, 56:1, requires_grad=1, device=cuda:0) = onnx::Conv[dilations=[1, 1], group=1, kernel_shape=[1, 1], pads=[0, 0, 0, 0], strides=[1, 1]](%336, %512, %513)\n",
      "  %339 : Float(32:200704, 64:3136, 56:56, 56:1, requires_grad=1, device=cuda:0) = onnx::Relu(%511) # /home/zuppif/anaconda3/envs/dl/lib/python3.8/site-packages/torch/nn/functional.py:1134:0\n",
      "  %514 : Float(32:200704, 64:3136, 56:56, 56:1, requires_grad=1, device=cuda:0) = onnx::Conv[dilations=[1, 1], group=1, kernel_shape=[3, 3], pads=[1, 1, 1, 1], strides=[1, 1]](%339, %515, %516)\n",
      "  %342 : Float(32:200704, 64:3136, 56:56, 56:1, requires_grad=1, device=cuda:0) = onnx::Relu(%514) # /home/zuppif/anaconda3/envs/dl/lib/python3.8/site-packages/torch/nn/functional.py:1134:0\n",
      "  %517 : Float(32:802816, 256:3136, 56:56, 56:1, requires_grad=1, device=cuda:0) = onnx::Conv[dilations=[1, 1], group=1, kernel_shape=[1, 1], pads=[0, 0, 0, 0], strides=[1, 1]](%342, %518, %519)\n",
      "  %345 : Float(32:802816, 256:3136, 56:56, 56:1, requires_grad=1, device=cuda:0) = onnx::Add(%517, %336)\n",
      "  %346 : Float(32:802816, 256:3136, 56:56, 56:1, requires_grad=1, device=cuda:0) = onnx::Relu(%345) # /home/zuppif/anaconda3/envs/dl/lib/python3.8/site-packages/torch/nn/functional.py:1134:0\n",
      "  %520 : Float(32:200704, 64:3136, 56:56, 56:1, requires_grad=1, device=cuda:0) = onnx::Conv[dilations=[1, 1], group=1, kernel_shape=[1, 1], pads=[0, 0, 0, 0], strides=[1, 1]](%346, %521, %522)\n",
      "  %349 : Float(32:200704, 64:3136, 56:56, 56:1, requires_grad=1, device=cuda:0) = onnx::Relu(%520) # /home/zuppif/anaconda3/envs/dl/lib/python3.8/site-packages/torch/nn/functional.py:1134:0\n",
      "  %523 : Float(32:200704, 64:3136, 56:56, 56:1, requires_grad=1, device=cuda:0) = onnx::Conv[dilations=[1, 1], group=1, kernel_shape=[3, 3], pads=[1, 1, 1, 1], strides=[1, 1]](%349, %524, %525)\n",
      "  %352 : Float(32:200704, 64:3136, 56:56, 56:1, requires_grad=1, device=cuda:0) = onnx::Relu(%523) # /home/zuppif/anaconda3/envs/dl/lib/python3.8/site-packages/torch/nn/functional.py:1134:0\n",
      "  %526 : Float(32:802816, 256:3136, 56:56, 56:1, requires_grad=1, device=cuda:0) = onnx::Conv[dilations=[1, 1], group=1, kernel_shape=[1, 1], pads=[0, 0, 0, 0], strides=[1, 1]](%352, %527, %528)\n",
      "  %355 : Float(32:802816, 256:3136, 56:56, 56:1, requires_grad=1, device=cuda:0) = onnx::Add(%526, %346)\n",
      "  %356 : Float(32:802816, 256:3136, 56:56, 56:1, requires_grad=1, device=cuda:0) = onnx::Relu(%355) # /home/zuppif/anaconda3/envs/dl/lib/python3.8/site-packages/torch/nn/functional.py:1134:0\n",
      "  %529 : Float(32:401408, 128:3136, 56:56, 56:1, requires_grad=1, device=cuda:0) = onnx::Conv[dilations=[1, 1], group=1, kernel_shape=[1, 1], pads=[0, 0, 0, 0], strides=[1, 1]](%356, %530, %531)\n",
      "  %359 : Float(32:401408, 128:3136, 56:56, 56:1, requires_grad=1, device=cuda:0) = onnx::Relu(%529) # /home/zuppif/anaconda3/envs/dl/lib/python3.8/site-packages/torch/nn/functional.py:1134:0\n",
      "  %532 : Float(32:100352, 128:784, 28:28, 28:1, requires_grad=1, device=cuda:0) = onnx::Conv[dilations=[1, 1], group=1, kernel_shape=[3, 3], pads=[1, 1, 1, 1], strides=[2, 2]](%359, %533, %534)\n",
      "  %362 : Float(32:100352, 128:784, 28:28, 28:1, requires_grad=1, device=cuda:0) = onnx::Relu(%532) # /home/zuppif/anaconda3/envs/dl/lib/python3.8/site-packages/torch/nn/functional.py:1134:0\n",
      "  %535 : Float(32:401408, 512:784, 28:28, 28:1, requires_grad=1, device=cuda:0) = onnx::Conv[dilations=[1, 1], group=1, kernel_shape=[1, 1], pads=[0, 0, 0, 0], strides=[1, 1]](%362, %536, %537)\n",
      "  %538 : Float(32:401408, 512:784, 28:28, 28:1, requires_grad=1, device=cuda:0) = onnx::Conv[dilations=[1, 1], group=1, kernel_shape=[1, 1], pads=[0, 0, 0, 0], strides=[2, 2]](%356, %539, %540)\n",
      "  %367 : Float(32:401408, 512:784, 28:28, 28:1, requires_grad=1, device=cuda:0) = onnx::Add(%535, %538)\n",
      "  %368 : Float(32:401408, 512:784, 28:28, 28:1, requires_grad=1, device=cuda:0) = onnx::Relu(%367) # /home/zuppif/anaconda3/envs/dl/lib/python3.8/site-packages/torch/nn/functional.py:1134:0\n",
      "  %541 : Float(32:100352, 128:784, 28:28, 28:1, requires_grad=1, device=cuda:0) = onnx::Conv[dilations=[1, 1], group=1, kernel_shape=[1, 1], pads=[0, 0, 0, 0], strides=[1, 1]](%368, %542, %543)\n",
      "  %371 : Float(32:100352, 128:784, 28:28, 28:1, requires_grad=1, device=cuda:0) = onnx::Relu(%541) # /home/zuppif/anaconda3/envs/dl/lib/python3.8/site-packages/torch/nn/functional.py:1134:0\n",
      "  %544 : Float(32:100352, 128:784, 28:28, 28:1, requires_grad=1, device=cuda:0) = onnx::Conv[dilations=[1, 1], group=1, kernel_shape=[3, 3], pads=[1, 1, 1, 1], strides=[1, 1]](%371, %545, %546)\n",
      "  %374 : Float(32:100352, 128:784, 28:28, 28:1, requires_grad=1, device=cuda:0) = onnx::Relu(%544) # /home/zuppif/anaconda3/envs/dl/lib/python3.8/site-packages/torch/nn/functional.py:1134:0\n",
      "  %547 : Float(32:401408, 512:784, 28:28, 28:1, requires_grad=1, device=cuda:0) = onnx::Conv[dilations=[1, 1], group=1, kernel_shape=[1, 1], pads=[0, 0, 0, 0], strides=[1, 1]](%374, %548, %549)\n",
      "  %377 : Float(32:401408, 512:784, 28:28, 28:1, requires_grad=1, device=cuda:0) = onnx::Add(%547, %368)\n",
      "  %378 : Float(32:401408, 512:784, 28:28, 28:1, requires_grad=1, device=cuda:0) = onnx::Relu(%377) # /home/zuppif/anaconda3/envs/dl/lib/python3.8/site-packages/torch/nn/functional.py:1134:0\n",
      "  %550 : Float(32:100352, 128:784, 28:28, 28:1, requires_grad=1, device=cuda:0) = onnx::Conv[dilations=[1, 1], group=1, kernel_shape=[1, 1], pads=[0, 0, 0, 0], strides=[1, 1]](%378, %551, %552)\n",
      "  %381 : Float(32:100352, 128:784, 28:28, 28:1, requires_grad=1, device=cuda:0) = onnx::Relu(%550) # /home/zuppif/anaconda3/envs/dl/lib/python3.8/site-packages/torch/nn/functional.py:1134:0\n",
      "  %553 : Float(32:100352, 128:784, 28:28, 28:1, requires_grad=1, device=cuda:0) = onnx::Conv[dilations=[1, 1], group=1, kernel_shape=[3, 3], pads=[1, 1, 1, 1], strides=[1, 1]](%381, %554, %555)\n",
      "  %384 : Float(32:100352, 128:784, 28:28, 28:1, requires_grad=1, device=cuda:0) = onnx::Relu(%553) # /home/zuppif/anaconda3/envs/dl/lib/python3.8/site-packages/torch/nn/functional.py:1134:0\n",
      "  %556 : Float(32:401408, 512:784, 28:28, 28:1, requires_grad=1, device=cuda:0) = onnx::Conv[dilations=[1, 1], group=1, kernel_shape=[1, 1], pads=[0, 0, 0, 0], strides=[1, 1]](%384, %557, %558)\n",
      "  %387 : Float(32:401408, 512:784, 28:28, 28:1, requires_grad=1, device=cuda:0) = onnx::Add(%556, %378)\n",
      "  %388 : Float(32:401408, 512:784, 28:28, 28:1, requires_grad=1, device=cuda:0) = onnx::Relu(%387) # /home/zuppif/anaconda3/envs/dl/lib/python3.8/site-packages/torch/nn/functional.py:1134:0\n",
      "  %559 : Float(32:100352, 128:784, 28:28, 28:1, requires_grad=1, device=cuda:0) = onnx::Conv[dilations=[1, 1], group=1, kernel_shape=[1, 1], pads=[0, 0, 0, 0], strides=[1, 1]](%388, %560, %561)\n",
      "  %391 : Float(32:100352, 128:784, 28:28, 28:1, requires_grad=1, device=cuda:0) = onnx::Relu(%559) # /home/zuppif/anaconda3/envs/dl/lib/python3.8/site-packages/torch/nn/functional.py:1134:0\n",
      "  %562 : Float(32:100352, 128:784, 28:28, 28:1, requires_grad=1, device=cuda:0) = onnx::Conv[dilations=[1, 1], group=1, kernel_shape=[3, 3], pads=[1, 1, 1, 1], strides=[1, 1]](%391, %563, %564)\n",
      "  %394 : Float(32:100352, 128:784, 28:28, 28:1, requires_grad=1, device=cuda:0) = onnx::Relu(%562) # /home/zuppif/anaconda3/envs/dl/lib/python3.8/site-packages/torch/nn/functional.py:1134:0\n",
      "  %565 : Float(32:401408, 512:784, 28:28, 28:1, requires_grad=1, device=cuda:0) = onnx::Conv[dilations=[1, 1], group=1, kernel_shape=[1, 1], pads=[0, 0, 0, 0], strides=[1, 1]](%394, %566, %567)\n",
      "  %397 : Float(32:401408, 512:784, 28:28, 28:1, requires_grad=1, device=cuda:0) = onnx::Add(%565, %388)\n",
      "  %398 : Float(32:401408, 512:784, 28:28, 28:1, requires_grad=1, device=cuda:0) = onnx::Relu(%397) # /home/zuppif/anaconda3/envs/dl/lib/python3.8/site-packages/torch/nn/functional.py:1134:0\n",
      "  %568 : Float(32:200704, 256:784, 28:28, 28:1, requires_grad=1, device=cuda:0) = onnx::Conv[dilations=[1, 1], group=1, kernel_shape=[1, 1], pads=[0, 0, 0, 0], strides=[1, 1]](%398, %569, %570)\n",
      "  %401 : Float(32:200704, 256:784, 28:28, 28:1, requires_grad=1, device=cuda:0) = onnx::Relu(%568) # /home/zuppif/anaconda3/envs/dl/lib/python3.8/site-packages/torch/nn/functional.py:1134:0\n",
      "  %571 : Float(32:50176, 256:196, 14:14, 14:1, requires_grad=1, device=cuda:0) = onnx::Conv[dilations=[1, 1], group=1, kernel_shape=[3, 3], pads=[1, 1, 1, 1], strides=[2, 2]](%401, %572, %573)\n",
      "  %404 : Float(32:50176, 256:196, 14:14, 14:1, requires_grad=1, device=cuda:0) = onnx::Relu(%571) # /home/zuppif/anaconda3/envs/dl/lib/python3.8/site-packages/torch/nn/functional.py:1134:0\n",
      "  %574 : Float(32:200704, 1024:196, 14:14, 14:1, requires_grad=1, device=cuda:0) = onnx::Conv[dilations=[1, 1], group=1, kernel_shape=[1, 1], pads=[0, 0, 0, 0], strides=[1, 1]](%404, %575, %576)\n",
      "  %577 : Float(32:200704, 1024:196, 14:14, 14:1, requires_grad=1, device=cuda:0) = onnx::Conv[dilations=[1, 1], group=1, kernel_shape=[1, 1], pads=[0, 0, 0, 0], strides=[2, 2]](%398, %578, %579)\n",
      "  %409 : Float(32:200704, 1024:196, 14:14, 14:1, requires_grad=1, device=cuda:0) = onnx::Add(%574, %577)\n",
      "  %410 : Float(32:200704, 1024:196, 14:14, 14:1, requires_grad=1, device=cuda:0) = onnx::Relu(%409) # /home/zuppif/anaconda3/envs/dl/lib/python3.8/site-packages/torch/nn/functional.py:1134:0\n",
      "  %580 : Float(32:50176, 256:196, 14:14, 14:1, requires_grad=1, device=cuda:0) = onnx::Conv[dilations=[1, 1], group=1, kernel_shape=[1, 1], pads=[0, 0, 0, 0], strides=[1, 1]](%410, %581, %582)\n",
      "  %413 : Float(32:50176, 256:196, 14:14, 14:1, requires_grad=1, device=cuda:0) = onnx::Relu(%580) # /home/zuppif/anaconda3/envs/dl/lib/python3.8/site-packages/torch/nn/functional.py:1134:0\n",
      "  %583 : Float(32:50176, 256:196, 14:14, 14:1, requires_grad=1, device=cuda:0) = onnx::Conv[dilations=[1, 1], group=1, kernel_shape=[3, 3], pads=[1, 1, 1, 1], strides=[1, 1]](%413, %584, %585)\n",
      "  %416 : Float(32:50176, 256:196, 14:14, 14:1, requires_grad=1, device=cuda:0) = onnx::Relu(%583) # /home/zuppif/anaconda3/envs/dl/lib/python3.8/site-packages/torch/nn/functional.py:1134:0\n",
      "  %586 : Float(32:200704, 1024:196, 14:14, 14:1, requires_grad=1, device=cuda:0) = onnx::Conv[dilations=[1, 1], group=1, kernel_shape=[1, 1], pads=[0, 0, 0, 0], strides=[1, 1]](%416, %587, %588)\n",
      "  %419 : Float(32:200704, 1024:196, 14:14, 14:1, requires_grad=1, device=cuda:0) = onnx::Add(%586, %410)\n",
      "  %420 : Float(32:200704, 1024:196, 14:14, 14:1, requires_grad=1, device=cuda:0) = onnx::Relu(%419) # /home/zuppif/anaconda3/envs/dl/lib/python3.8/site-packages/torch/nn/functional.py:1134:0\n",
      "  %589 : Float(32:50176, 256:196, 14:14, 14:1, requires_grad=1, device=cuda:0) = onnx::Conv[dilations=[1, 1], group=1, kernel_shape=[1, 1], pads=[0, 0, 0, 0], strides=[1, 1]](%420, %590, %591)\n",
      "  %423 : Float(32:50176, 256:196, 14:14, 14:1, requires_grad=1, device=cuda:0) = onnx::Relu(%589) # /home/zuppif/anaconda3/envs/dl/lib/python3.8/site-packages/torch/nn/functional.py:1134:0\n",
      "  %592 : Float(32:50176, 256:196, 14:14, 14:1, requires_grad=1, device=cuda:0) = onnx::Conv[dilations=[1, 1], group=1, kernel_shape=[3, 3], pads=[1, 1, 1, 1], strides=[1, 1]](%423, %593, %594)\n",
      "  %426 : Float(32:50176, 256:196, 14:14, 14:1, requires_grad=1, device=cuda:0) = onnx::Relu(%592) # /home/zuppif/anaconda3/envs/dl/lib/python3.8/site-packages/torch/nn/functional.py:1134:0\n",
      "  %595 : Float(32:200704, 1024:196, 14:14, 14:1, requires_grad=1, device=cuda:0) = onnx::Conv[dilations=[1, 1], group=1, kernel_shape=[1, 1], pads=[0, 0, 0, 0], strides=[1, 1]](%426, %596, %597)\n",
      "  %429 : Float(32:200704, 1024:196, 14:14, 14:1, requires_grad=1, device=cuda:0) = onnx::Add(%595, %420)\n",
      "  %430 : Float(32:200704, 1024:196, 14:14, 14:1, requires_grad=1, device=cuda:0) = onnx::Relu(%429) # /home/zuppif/anaconda3/envs/dl/lib/python3.8/site-packages/torch/nn/functional.py:1134:0\n",
      "  %598 : Float(32:50176, 256:196, 14:14, 14:1, requires_grad=1, device=cuda:0) = onnx::Conv[dilations=[1, 1], group=1, kernel_shape=[1, 1], pads=[0, 0, 0, 0], strides=[1, 1]](%430, %599, %600)\n",
      "  %433 : Float(32:50176, 256:196, 14:14, 14:1, requires_grad=1, device=cuda:0) = onnx::Relu(%598) # /home/zuppif/anaconda3/envs/dl/lib/python3.8/site-packages/torch/nn/functional.py:1134:0\n",
      "  %601 : Float(32:50176, 256:196, 14:14, 14:1, requires_grad=1, device=cuda:0) = onnx::Conv[dilations=[1, 1], group=1, kernel_shape=[3, 3], pads=[1, 1, 1, 1], strides=[1, 1]](%433, %602, %603)\n",
      "  %436 : Float(32:50176, 256:196, 14:14, 14:1, requires_grad=1, device=cuda:0) = onnx::Relu(%601) # /home/zuppif/anaconda3/envs/dl/lib/python3.8/site-packages/torch/nn/functional.py:1134:0\n",
      "  %604 : Float(32:200704, 1024:196, 14:14, 14:1, requires_grad=1, device=cuda:0) = onnx::Conv[dilations=[1, 1], group=1, kernel_shape=[1, 1], pads=[0, 0, 0, 0], strides=[1, 1]](%436, %605, %606)\n",
      "  %439 : Float(32:200704, 1024:196, 14:14, 14:1, requires_grad=1, device=cuda:0) = onnx::Add(%604, %430)\n",
      "  %440 : Float(32:200704, 1024:196, 14:14, 14:1, requires_grad=1, device=cuda:0) = onnx::Relu(%439) # /home/zuppif/anaconda3/envs/dl/lib/python3.8/site-packages/torch/nn/functional.py:1134:0\n",
      "  %607 : Float(32:50176, 256:196, 14:14, 14:1, requires_grad=1, device=cuda:0) = onnx::Conv[dilations=[1, 1], group=1, kernel_shape=[1, 1], pads=[0, 0, 0, 0], strides=[1, 1]](%440, %608, %609)\n",
      "  %443 : Float(32:50176, 256:196, 14:14, 14:1, requires_grad=1, device=cuda:0) = onnx::Relu(%607) # /home/zuppif/anaconda3/envs/dl/lib/python3.8/site-packages/torch/nn/functional.py:1134:0\n",
      "  %610 : Float(32:50176, 256:196, 14:14, 14:1, requires_grad=1, device=cuda:0) = onnx::Conv[dilations=[1, 1], group=1, kernel_shape=[3, 3], pads=[1, 1, 1, 1], strides=[1, 1]](%443, %611, %612)\n",
      "  %446 : Float(32:50176, 256:196, 14:14, 14:1, requires_grad=1, device=cuda:0) = onnx::Relu(%610) # /home/zuppif/anaconda3/envs/dl/lib/python3.8/site-packages/torch/nn/functional.py:1134:0\n",
      "  %613 : Float(32:200704, 1024:196, 14:14, 14:1, requires_grad=1, device=cuda:0) = onnx::Conv[dilations=[1, 1], group=1, kernel_shape=[1, 1], pads=[0, 0, 0, 0], strides=[1, 1]](%446, %614, %615)\n",
      "  %449 : Float(32:200704, 1024:196, 14:14, 14:1, requires_grad=1, device=cuda:0) = onnx::Add(%613, %440)\n",
      "  %450 : Float(32:200704, 1024:196, 14:14, 14:1, requires_grad=1, device=cuda:0) = onnx::Relu(%449) # /home/zuppif/anaconda3/envs/dl/lib/python3.8/site-packages/torch/nn/functional.py:1134:0\n",
      "  %616 : Float(32:50176, 256:196, 14:14, 14:1, requires_grad=1, device=cuda:0) = onnx::Conv[dilations=[1, 1], group=1, kernel_shape=[1, 1], pads=[0, 0, 0, 0], strides=[1, 1]](%450, %617, %618)\n",
      "  %453 : Float(32:50176, 256:196, 14:14, 14:1, requires_grad=1, device=cuda:0) = onnx::Relu(%616) # /home/zuppif/anaconda3/envs/dl/lib/python3.8/site-packages/torch/nn/functional.py:1134:0\n",
      "  %619 : Float(32:50176, 256:196, 14:14, 14:1, requires_grad=1, device=cuda:0) = onnx::Conv[dilations=[1, 1], group=1, kernel_shape=[3, 3], pads=[1, 1, 1, 1], strides=[1, 1]](%453, %620, %621)\n",
      "  %456 : Float(32:50176, 256:196, 14:14, 14:1, requires_grad=1, device=cuda:0) = onnx::Relu(%619) # /home/zuppif/anaconda3/envs/dl/lib/python3.8/site-packages/torch/nn/functional.py:1134:0\n",
      "  %622 : Float(32:200704, 1024:196, 14:14, 14:1, requires_grad=1, device=cuda:0) = onnx::Conv[dilations=[1, 1], group=1, kernel_shape=[1, 1], pads=[0, 0, 0, 0], strides=[1, 1]](%456, %623, %624)\n",
      "  %459 : Float(32:200704, 1024:196, 14:14, 14:1, requires_grad=1, device=cuda:0) = onnx::Add(%622, %450)\n",
      "  %460 : Float(32:200704, 1024:196, 14:14, 14:1, requires_grad=1, device=cuda:0) = onnx::Relu(%459) # /home/zuppif/anaconda3/envs/dl/lib/python3.8/site-packages/torch/nn/functional.py:1134:0\n",
      "  %625 : Float(32:100352, 512:196, 14:14, 14:1, requires_grad=1, device=cuda:0) = onnx::Conv[dilations=[1, 1], group=1, kernel_shape=[1, 1], pads=[0, 0, 0, 0], strides=[1, 1]](%460, %626, %627)\n",
      "  %463 : Float(32:100352, 512:196, 14:14, 14:1, requires_grad=1, device=cuda:0) = onnx::Relu(%625) # /home/zuppif/anaconda3/envs/dl/lib/python3.8/site-packages/torch/nn/functional.py:1134:0\n",
      "  %628 : Float(32:25088, 512:49, 7:7, 7:1, requires_grad=1, device=cuda:0) = onnx::Conv[dilations=[1, 1], group=1, kernel_shape=[3, 3], pads=[1, 1, 1, 1], strides=[2, 2]](%463, %629, %630)\n",
      "  %466 : Float(32:25088, 512:49, 7:7, 7:1, requires_grad=1, device=cuda:0) = onnx::Relu(%628) # /home/zuppif/anaconda3/envs/dl/lib/python3.8/site-packages/torch/nn/functional.py:1134:0\n",
      "  %631 : Float(32:100352, 2048:49, 7:7, 7:1, requires_grad=1, device=cuda:0) = onnx::Conv[dilations=[1, 1], group=1, kernel_shape=[1, 1], pads=[0, 0, 0, 0], strides=[1, 1]](%466, %632, %633)\n",
      "  %634 : Float(32:100352, 2048:49, 7:7, 7:1, requires_grad=1, device=cuda:0) = onnx::Conv[dilations=[1, 1], group=1, kernel_shape=[1, 1], pads=[0, 0, 0, 0], strides=[2, 2]](%460, %635, %636)\n",
      "  %471 : Float(32:100352, 2048:49, 7:7, 7:1, requires_grad=1, device=cuda:0) = onnx::Add(%631, %634)\n",
      "  %472 : Float(32:100352, 2048:49, 7:7, 7:1, requires_grad=1, device=cuda:0) = onnx::Relu(%471) # /home/zuppif/anaconda3/envs/dl/lib/python3.8/site-packages/torch/nn/functional.py:1134:0\n",
      "  %637 : Float(32:25088, 512:49, 7:7, 7:1, requires_grad=1, device=cuda:0) = onnx::Conv[dilations=[1, 1], group=1, kernel_shape=[1, 1], pads=[0, 0, 0, 0], strides=[1, 1]](%472, %638, %639)\n",
      "  %475 : Float(32:25088, 512:49, 7:7, 7:1, requires_grad=1, device=cuda:0) = onnx::Relu(%637) # /home/zuppif/anaconda3/envs/dl/lib/python3.8/site-packages/torch/nn/functional.py:1134:0\n",
      "  %640 : Float(32:25088, 512:49, 7:7, 7:1, requires_grad=1, device=cuda:0) = onnx::Conv[dilations=[1, 1], group=1, kernel_shape=[3, 3], pads=[1, 1, 1, 1], strides=[1, 1]](%475, %641, %642)\n",
      "  %478 : Float(32:25088, 512:49, 7:7, 7:1, requires_grad=1, device=cuda:0) = onnx::Relu(%640) # /home/zuppif/anaconda3/envs/dl/lib/python3.8/site-packages/torch/nn/functional.py:1134:0\n",
      "  %643 : Float(32:100352, 2048:49, 7:7, 7:1, requires_grad=1, device=cuda:0) = onnx::Conv[dilations=[1, 1], group=1, kernel_shape=[1, 1], pads=[0, 0, 0, 0], strides=[1, 1]](%478, %644, %645)\n",
      "  %481 : Float(32:100352, 2048:49, 7:7, 7:1, requires_grad=1, device=cuda:0) = onnx::Add(%643, %472)\n",
      "  %482 : Float(32:100352, 2048:49, 7:7, 7:1, requires_grad=1, device=cuda:0) = onnx::Relu(%481) # /home/zuppif/anaconda3/envs/dl/lib/python3.8/site-packages/torch/nn/functional.py:1134:0\n",
      "  %646 : Float(32:25088, 512:49, 7:7, 7:1, requires_grad=1, device=cuda:0) = onnx::Conv[dilations=[1, 1], group=1, kernel_shape=[1, 1], pads=[0, 0, 0, 0], strides=[1, 1]](%482, %647, %648)\n",
      "  %485 : Float(32:25088, 512:49, 7:7, 7:1, requires_grad=1, device=cuda:0) = onnx::Relu(%646) # /home/zuppif/anaconda3/envs/dl/lib/python3.8/site-packages/torch/nn/functional.py:1134:0\n",
      "  %649 : Float(32:25088, 512:49, 7:7, 7:1, requires_grad=1, device=cuda:0) = onnx::Conv[dilations=[1, 1], group=1, kernel_shape=[3, 3], pads=[1, 1, 1, 1], strides=[1, 1]](%485, %650, %651)\n",
      "  %488 : Float(32:25088, 512:49, 7:7, 7:1, requires_grad=1, device=cuda:0) = onnx::Relu(%649) # /home/zuppif/anaconda3/envs/dl/lib/python3.8/site-packages/torch/nn/functional.py:1134:0\n",
      "  %652 : Float(32:100352, 2048:49, 7:7, 7:1, requires_grad=1, device=cuda:0) = onnx::Conv[dilations=[1, 1], group=1, kernel_shape=[1, 1], pads=[0, 0, 0, 0], strides=[1, 1]](%488, %653, %654)\n",
      "  %491 : Float(32:100352, 2048:49, 7:7, 7:1, requires_grad=1, device=cuda:0) = onnx::Add(%652, %482)\n",
      "  %492 : Float(32:100352, 2048:49, 7:7, 7:1, requires_grad=1, device=cuda:0) = onnx::Relu(%491) # /home/zuppif/anaconda3/envs/dl/lib/python3.8/site-packages/torch/nn/functional.py:1134:0\n",
      "  %493 : Float(32:2048, 2048:1, 1:1, 1:1, requires_grad=1, device=cuda:0) = onnx::GlobalAveragePool(%492) # /home/zuppif/anaconda3/envs/dl/lib/python3.8/site-packages/torch/nn/functional.py:936:0\n",
      "  %494 : Float(32:2048, 2048:1, requires_grad=1, device=cuda:0) = onnx::Flatten[axis=1](%493) # /home/zuppif/anaconda3/envs/dl/lib/python3.8/site-packages/torch/nn/modules/flatten.py:40:0\n",
      "  %out : Float(32:1000, 1000:1, requires_grad=1, device=cuda:0) = onnx::Gemm[alpha=1., beta=1., transB=1](%494, %decoder.fc.weight, %decoder.fc.bias) # /home/zuppif/anaconda3/envs/dl/lib/python3.8/site-packages/torch/nn/functional.py:1690:0\n",
      "  return (%out)\n",
      "\n"
     ]
    }
   ],
   "source": [
    "from pathlib import Path\n",
    "\n",
    "model = ResNet.resnet50(pretrained=False)\n",
    "dummy_input = torch.randn(32,3,224,224)\n",
    "save_path = Path('/home/zuppif/Desktop/resnet.onnx')\n",
    "\n",
    "torch.onnx.export(model, dummy_input, str(save_path), verbose=True, input_names=['x'], output_names=['out'])"
   ]
  },
  {
   "cell_type": "code",
   "execution_count": 65,
   "metadata": {},
   "outputs": [],
   "source": [
    "import onnxruntime as ort\n",
    "\n",
    "ort_session = ort.InferenceSession(str(save_path))"
   ]
  },
  {
   "cell_type": "code",
   "execution_count": 66,
   "metadata": {
    "scrolled": true
   },
   "outputs": [
    {
     "name": "stdout",
     "output_type": "stream",
     "text": [
      "864 ms ± 146 ms per loop (mean ± std. dev. of 7 runs, 1 loop each)\n"
     ]
    }
   ],
   "source": [
    "%%timeit\n",
    "outputs = ort_session.run(None, {'x': np.random.randn(32, 3, 224, 224).astype(np.float32)})"
   ]
  },
  {
   "cell_type": "code",
   "execution_count": 67,
   "metadata": {},
   "outputs": [
    {
     "name": "stdout",
     "output_type": "stream",
     "text": [
      "51.3 ms ± 966 µs per loop (mean ± std. dev. of 7 runs, 10 loops each)\n"
     ]
    }
   ],
   "source": [
    "%%timeit\n",
    "model(dummy_input)"
   ]
  },
  {
   "cell_type": "code",
   "execution_count": null,
   "metadata": {},
   "outputs": [],
   "source": [
    "from glasses.nn.models.classification.resnet import *\n",
    "from glasses.nn.att import WithAtt, ECAModule, SpatialSE\n",
    "from functools import partial\n",
    "\n",
    "\n",
    "WithAtt(ResNetBottleneckBlock, att=SpatialSE)(32, 64)\n",
    "\n",
    "# model = ResNet.resnet26(stem=ResNetStemC, block=WithAtt(partial(ResNetBottleneckBlock, shortcut=ResNetShorcutD), se=ECAModule))"
   ]
  },
  {
   "cell_type": "code",
   "execution_count": null,
   "metadata": {},
   "outputs": [],
   "source": [
    "model.encoder.stem[0].conv"
   ]
  },
  {
   "cell_type": "code",
   "execution_count": null,
   "metadata": {},
   "outputs": [],
   "source": [
    "from transfer_weights import clone_model\n",
    "from benchmark import benchmark\n",
    "\n",
    "# tmp = ResNet.resnet50d()\n",
    "# tmp = clone_model(timm.create_model('resnet50d', pretrained=True), tmp)\n",
    "\n",
    "tmp = timm.create_model('ecaresnet50d', pretrained=True)\n",
    "benchmark(tmp.eval().cuda(), ResNet.configs['resnet50d'].transform, 128)"
   ]
  },
  {
   "cell_type": "code",
   "execution_count": null,
   "metadata": {
    "scrolled": true
   },
   "outputs": [],
   "source": [
    "from timm.models.resnet import resnet26d\n",
    "\n",
    "timm.create_model('resnet26d')"
   ]
  },
  {
   "cell_type": "code",
   "execution_count": null,
   "metadata": {
    "scrolled": true
   },
   "outputs": [],
   "source": [
    "ResNet.resnet50().summary()"
   ]
  },
  {
   "cell_type": "code",
   "execution_count": null,
   "metadata": {},
   "outputs": [],
   "source": [
    "class NormalizeInverse(Normalize):\n",
    "    \"\"\"\n",
    "    Undoes the normalization and returns the reconstructed images in the input domain.\n",
    "    \"\"\"\n",
    "\n",
    "    def __init__(self, mean, std):\n",
    "        mean = torch.Tensor(mean)\n",
    "        std = torch.Tensor(std)\n",
    "        std_inv = 1 / (std + 1e-7)\n",
    "        mean_inv = -mean * std_inv\n",
    "        super().__init__(mean=mean_inv, std=std_inv)\n",
    "\n",
    "    def __call__(self, tensor):\n",
    "        return super().__call__(tensor.clone())"
   ]
  },
  {
   "cell_type": "code",
   "execution_count": null,
   "metadata": {
    "scrolled": false
   },
   "outputs": [],
   "source": [
    "from glasses.interpretability import GradCam, SaliencyMap\n",
    "cfg = ResNet.configs['resnet18']\n",
    "\n",
    "transform = cfg.transform\n",
    "postprocessing = Normalize(-cfg.mean / cfg.std, (1.0 / cfg.std))\n",
    "\n",
    "x = transform(im).unsqueeze(0)\n",
    "model = ResNet.resnet18(pretrained=True)\n",
    "\n",
    "_ = model.interpret(x, using=SaliencyMap()).show()"
   ]
  },
  {
   "cell_type": "code",
   "execution_count": null,
   "metadata": {},
   "outputs": [],
   "source": [
    "def tensor2cam(image, cam):\n",
    "    image_with_heatmap = image2cam(image.permute(1, 2, 0).cpu().numpy(),\n",
    "                                   cam.detach().cpu().numpy())\n",
    "\n",
    "    return torch.from_numpy(image_with_heatmap)\n",
    "\n",
    "\n",
    "def image2cam(image, cam):\n",
    "    h, w, c = image.shape\n",
    "\n",
    "    cam -= np.min(cam)\n",
    "    cam /= np.max(cam)  # Normalize between 0-1\n",
    "    cam = cv2.resize(cam, (h, w))\n",
    "    cam = np.uint8(cam * 255.0)\n",
    "\n",
    "    img_with_cam = cv2.applyColorMap(cam, cv2.COLORMAP_JET)\n",
    "    img_with_cam = cv2.cvtColor(img_with_cam, cv2.COLOR_BGR2RGB)\n",
    "    img_with_cam = img_with_cam + (image * 255)\n",
    "    img_with_cam /= np.max(img_with_cam)\n",
    "\n",
    "    return img_with_cam"
   ]
  },
  {
   "cell_type": "code",
   "execution_count": null,
   "metadata": {
    "scrolled": true
   },
   "outputs": [],
   "source": [
    "model = ResNet.resnet18(pretrained=True).eval()\n",
    "conv = model.encoder.blocks[-1].block[-1].block.conv2\n",
    "\n",
    "weights_storage = ForwardModuleStorage(model, [conv])\n",
    "gradients_storage = BackwardModuleStorage([conv])\n",
    "\n",
    "cfg = ResNet.configs['resnet18']\n",
    "\n",
    "transform = cfg.transform\n",
    "\n",
    "im_tr = transform(im).unsqueeze(0)\n",
    "\n",
    "x = Variable(im_tr, requires_grad=True)\n",
    "\n",
    "out = model(x)\n",
    "\n",
    "cls = torch.argmax(torch.softmax(out, dim=1))\n",
    "\n",
    "target = torch.zeros(out.size())\n",
    "target[0][int(cls)] = 1\n",
    "        \n",
    "out.backward(gradient=target, retain_graph=True)"
   ]
  },
  {
   "cell_type": "code",
   "execution_count": null,
   "metadata": {},
   "outputs": [],
   "source": [
    "from torchvision.transforms import Normalize\n",
    "\n",
    "class NormalizeInverse(Normalize):\n",
    "    \"\"\"\n",
    "    Undoes the normalization and returns the reconstructed images in the input domain.\n",
    "    \"\"\"\n",
    "\n",
    "    def __init__(self, mean, std):\n",
    "        mean = torch.Tensor(mean)\n",
    "        std = torch.Tensor(std)\n",
    "        std_inv = 1 / (std + 1e-7)\n",
    "        mean_inv = -mean * std_inv\n",
    "        super().__init__(mean=mean_inv, std=std_inv)\n",
    "\n",
    "    def __call__(self, tensor):\n",
    "        return super().__call__(tensor.clone())\n"
   ]
  },
  {
   "cell_type": "code",
   "execution_count": null,
   "metadata": {},
   "outputs": [],
   "source": [
    "weights = weights_storage[conv][0]\n",
    "grads = gradients_storage[conv][0][0]\n",
    "\n",
    "post_processing = NormalizeInverse(cfg.mean, cfg.std)\n",
    "\n",
    "avg_channel_grad = F.adaptive_avg_pool2d(grads.data, 1)\n",
    "cam = F.relu(torch.sum(weights * avg_channel_grad, dim=1)).squeeze(0)\n",
    "image_with_heatmap = tensor2cam(post_processing(im_tr).squeeze(0), cam)\n"
   ]
  },
  {
   "cell_type": "code",
   "execution_count": null,
   "metadata": {},
   "outputs": [],
   "source": [
    "import matplotlib.pyplot as plt\n",
    "\n",
    "\n",
    "fig = plt.figure()\n",
    "\n",
    "plt.imshow(image_with_heatmap)"
   ]
  },
  {
   "cell_type": "markdown",
   "metadata": {},
   "source": [
    "## Get weights\n",
    "\n",
    "Proposed API\n",
    "\n",
    "```python\n",
    "ResNet.resnet50(pretrained=True, dataset='imagenet')\n",
    "\n",
    "ResNet.pretrained_models\n",
    "```\n",
    "\n"
   ]
  },
  {
   "cell_type": "code",
   "execution_count": null,
   "metadata": {
    "scrolled": true
   },
   "outputs": [],
   "source": [
    "from glasses.utils.PretrainedWeightsProvider import PretrainedWeightsProvider\n",
    "from pathlib import Path\n",
    "\n",
    "provider = PretrainedWeightsProvider()\n",
    "for key in provider.weights_zoo.keys():\n",
    "    provider[key]"
   ]
  },
  {
   "cell_type": "code",
   "execution_count": null,
   "metadata": {
    "scrolled": true
   },
   "outputs": [],
   "source": [
    "from glasses.nn.models import *\n",
    "\n",
    "\n",
    "# model = ResNetXt.resnext101_32x8d(pretrained=True)\n",
    "\n",
    "VGG.vgg13(pretrained=True).summary()"
   ]
  },
  {
   "cell_type": "code",
   "execution_count": null,
   "metadata": {
    "scrolled": true
   },
   "outputs": [],
   "source": [
    "import torch\n",
    "from glasses.nn.models import *\n",
    "x = torch.rand((1,3,224,224))\n",
    "\n",
    "\n",
    "FishNet.fishnet99()(x)"
   ]
  },
  {
   "cell_type": "code",
   "execution_count": null,
   "metadata": {},
   "outputs": [],
   "source": [
    "import torch\n",
    "from glasses.nn.models import *\n",
    "x = torch.rand((1,3,224,224))\n",
    "\n",
    "\n",
    "FishNet.fishnet99()(x)"
   ]
  },
  {
   "cell_type": "code",
   "execution_count": null,
   "metadata": {},
   "outputs": [],
   "source": [
    "torch.load('/home/zuppif/Desktop/test.pth')"
   ]
  },
  {
   "cell_type": "code",
   "execution_count": null,
   "metadata": {},
   "outputs": [],
   "source": [
    "from glasses.nn.blocks import Conv2dPad\n",
    "\n",
    "x = torch.rand((1,32,9,9))\n",
    "\n",
    "Conv2dPad(32, 64, kernel_size=9, mode = 'auto', padding=0)"
   ]
  },
  {
   "cell_type": "code",
   "execution_count": null,
   "metadata": {
    "scrolled": true
   },
   "outputs": [],
   "source": [
    "from glasses.nn.models import *\n",
    "\n",
    "model =  ResNetXt.resnet18(pretrained=True)"
   ]
  },
  {
   "cell_type": "code",
   "execution_count": null,
   "metadata": {},
   "outputs": [],
   "source": [
    "model.encoder.blocks[-1]"
   ]
  },
  {
   "cell_type": "code",
   "execution_count": null,
   "metadata": {},
   "outputs": [],
   "source": [
    "import timm\n",
    "\n",
    "timm.list_models('vgg')"
   ]
  },
  {
   "cell_type": "code",
   "execution_count": null,
   "metadata": {
    "scrolled": true
   },
   "outputs": [],
   "source": [
    "import timm\n",
    "m = timm.create_model('seresnet101', pretrained=True)\n",
    "m"
   ]
  },
  {
   "cell_type": "code",
   "execution_count": null,
   "metadata": {},
   "outputs": [],
   "source": [
    "from dataclasses import dataclass\n",
    "from typing import Tuple, List\n",
    "from pprint import pprint\n",
    "from benchmark import benchmark\n",
    "from glasses.utils.ModuleTransfer import ModuleTransfer\n",
    "from functools import partial\n",
    "from glasses.nn.models import *\n",
    "from torchvision.models import resnet18, resnet34, resnet50, resnet101, resnet152, resnext50_32x4d, resnext101_32x8d, wide_resnet50_2, wide_resnet101_2\n",
    "from tqdm.autonotebook import tqdm\n",
    "import torchvision.transforms as T\n",
    "import torch.nn as nn\n",
    "import torch\n",
    "from PIL import Image\n",
    "from glasses.utils.PretrainedWeightsProvider import Config\n",
    "\n",
    "\n",
    "models_weights = {\n",
    "    'seresnet50': Config(),\n",
    "#     'efficientnet_b4': Config(resize=380, input_size=380, interpolation='bicubic')\n",
    "}\n",
    "\n",
    "zoo_models_mapping = {\n",
    "    'seresnet50': [partial(timm.create_model, 'seresnet101',pretrained=True), SEResNet.cse_resnet34],\n",
    "   \n",
    "#   'efficientnet_b4': [partial(timm.create_model, 'tf_efficientnet_b4', pretrained=True), EfficientNet.efficientnet_b4]\n",
    "}\n",
    "\n",
    "\n",
    "\n",
    "# pprint(models_weights)"
   ]
  },
  {
   "cell_type": "code",
   "execution_count": null,
   "metadata": {},
   "outputs": [],
   "source": []
  },
  {
   "cell_type": "code",
   "execution_count": null,
   "metadata": {
    "scrolled": false
   },
   "outputs": [],
   "source": [
    "model"
   ]
  },
  {
   "cell_type": "code",
   "execution_count": null,
   "metadata": {
    "scrolled": true
   },
   "outputs": [],
   "source": [
    "model = EfficientNetPytorch.from_pretrained('efficientnet-b0')\n",
    "model.set_swish(False)\n",
    "summary(model.cuda(), (3, 224, 224))"
   ]
  }
 ],
 "metadata": {
  "kernelspec": {
   "display_name": "Python 3",
   "language": "python",
   "name": "python3"
  },
  "language_info": {
   "codemirror_mode": {
    "name": "ipython",
    "version": 3
   },
   "file_extension": ".py",
   "mimetype": "text/x-python",
   "name": "python",
   "nbconvert_exporter": "python",
   "pygments_lexer": "ipython3",
   "version": "3.8.2"
  }
 },
 "nbformat": 4,
 "nbformat_minor": 4
}
