{
 "cells": [
  {
   "cell_type": "code",
   "execution_count": 10,
   "metadata": {},
   "outputs": [
    {
     "name": "stdout",
     "output_type": "stream",
     "text": [
      "The autoreload extension is already loaded. To reload it, use:\n",
      "  %reload_ext autoreload\n"
     ]
    }
   ],
   "source": [
    "%load_ext autoreload\n",
    "%autoreload 2"
   ]
  },
  {
   "cell_type": "code",
   "execution_count": 1,
   "metadata": {},
   "outputs": [],
   "source": [
    "from glasses.nn.models.classification.fishnet import *\n",
    "from glasses.nn.models.classification.resnet import *\n",
    "from glasses.nn.models.classification.densenet import *\n",
    "from glasses.nn.models.classification.resnetxt import *\n",
    "\n",
    "from torchsummary import summary\n",
    "import torch\n",
    "import torch.nn as nn"
   ]
  },
  {
   "cell_type": "code",
   "execution_count": 7,
   "metadata": {
    "scrolled": true
   },
   "outputs": [
    {
     "name": "stdout",
     "output_type": "stream",
     "text": [
      "----------------------------------------------------------------\n",
      "        Layer (type)               Output Shape         Param #\n",
      "================================================================\n",
      "         Conv2dPad-1         [-1, 64, 112, 112]           9,408\n",
      "       BatchNorm2d-2         [-1, 64, 112, 112]             128\n",
      "              ReLU-3         [-1, 64, 112, 112]               0\n",
      "         MaxPool2d-4           [-1, 64, 56, 56]               0\n",
      "         Conv2dPad-5          [-1, 256, 56, 56]          16,384\n",
      "       BatchNorm2d-6          [-1, 256, 56, 56]             512\n",
      "              ReLU-7          [-1, 256, 56, 56]               0\n",
      "         Conv2dPad-8          [-1, 256, 28, 28]         589,824\n",
      "       BatchNorm2d-9          [-1, 256, 28, 28]             512\n",
      "             ReLU-10          [-1, 256, 28, 28]               0\n",
      "        Conv2dPad-11          [-1, 256, 28, 28]          65,536\n",
      "      BatchNorm2d-12          [-1, 256, 28, 28]             512\n",
      "        Conv2dPad-13          [-1, 256, 28, 28]          16,384\n",
      "      BatchNorm2d-14          [-1, 256, 28, 28]             512\n",
      "    ResNetShorcut-15          [-1, 256, 28, 28]               0\n",
      "      ResidualAdd-16          [-1, 256, 28, 28]               0\n",
      "             ReLU-17          [-1, 256, 28, 28]               0\n",
      "ResNetBottleneckBlock-18          [-1, 256, 28, 28]               0\n",
      "        Conv2dPad-19          [-1, 256, 28, 28]          65,536\n",
      "      BatchNorm2d-20          [-1, 256, 28, 28]             512\n",
      "             ReLU-21          [-1, 256, 28, 28]               0\n",
      "        Conv2dPad-22          [-1, 256, 28, 28]         589,824\n",
      "      BatchNorm2d-23          [-1, 256, 28, 28]             512\n",
      "             ReLU-24          [-1, 256, 28, 28]               0\n",
      "        Conv2dPad-25          [-1, 256, 28, 28]          65,536\n",
      "      BatchNorm2d-26          [-1, 256, 28, 28]             512\n",
      "      ResidualAdd-27          [-1, 256, 28, 28]               0\n",
      "             ReLU-28          [-1, 256, 28, 28]               0\n",
      "ResNetBottleneckBlock-29          [-1, 256, 28, 28]               0\n",
      "        Conv2dPad-30          [-1, 256, 28, 28]          65,536\n",
      "      BatchNorm2d-31          [-1, 256, 28, 28]             512\n",
      "             ReLU-32          [-1, 256, 28, 28]               0\n",
      "        Conv2dPad-33          [-1, 256, 28, 28]         589,824\n",
      "      BatchNorm2d-34          [-1, 256, 28, 28]             512\n",
      "             ReLU-35          [-1, 256, 28, 28]               0\n",
      "        Conv2dPad-36          [-1, 256, 28, 28]          65,536\n",
      "      BatchNorm2d-37          [-1, 256, 28, 28]             512\n",
      "      ResidualAdd-38          [-1, 256, 28, 28]               0\n",
      "             ReLU-39          [-1, 256, 28, 28]               0\n",
      "ResNetBottleneckBlock-40          [-1, 256, 28, 28]               0\n",
      "      ResNetLayer-41          [-1, 256, 28, 28]               0\n",
      "        Conv2dPad-42          [-1, 512, 28, 28]         131,072\n",
      "      BatchNorm2d-43          [-1, 512, 28, 28]           1,024\n",
      "             ReLU-44          [-1, 512, 28, 28]               0\n",
      "        Conv2dPad-45          [-1, 512, 14, 14]       2,359,296\n",
      "      BatchNorm2d-46          [-1, 512, 14, 14]           1,024\n",
      "             ReLU-47          [-1, 512, 14, 14]               0\n",
      "        Conv2dPad-48          [-1, 512, 14, 14]         262,144\n",
      "      BatchNorm2d-49          [-1, 512, 14, 14]           1,024\n",
      "        Conv2dPad-50          [-1, 512, 14, 14]         131,072\n",
      "      BatchNorm2d-51          [-1, 512, 14, 14]           1,024\n",
      "    ResNetShorcut-52          [-1, 512, 14, 14]               0\n",
      "      ResidualAdd-53          [-1, 512, 14, 14]               0\n",
      "             ReLU-54          [-1, 512, 14, 14]               0\n",
      "ResNetBottleneckBlock-55          [-1, 512, 14, 14]               0\n",
      "        Conv2dPad-56          [-1, 512, 14, 14]         262,144\n",
      "      BatchNorm2d-57          [-1, 512, 14, 14]           1,024\n",
      "             ReLU-58          [-1, 512, 14, 14]               0\n",
      "        Conv2dPad-59          [-1, 512, 14, 14]       2,359,296\n",
      "      BatchNorm2d-60          [-1, 512, 14, 14]           1,024\n",
      "             ReLU-61          [-1, 512, 14, 14]               0\n",
      "        Conv2dPad-62          [-1, 512, 14, 14]         262,144\n",
      "      BatchNorm2d-63          [-1, 512, 14, 14]           1,024\n",
      "      ResidualAdd-64          [-1, 512, 14, 14]               0\n",
      "             ReLU-65          [-1, 512, 14, 14]               0\n",
      "ResNetBottleneckBlock-66          [-1, 512, 14, 14]               0\n",
      "        Conv2dPad-67          [-1, 512, 14, 14]         262,144\n",
      "      BatchNorm2d-68          [-1, 512, 14, 14]           1,024\n",
      "             ReLU-69          [-1, 512, 14, 14]               0\n",
      "        Conv2dPad-70          [-1, 512, 14, 14]       2,359,296\n",
      "      BatchNorm2d-71          [-1, 512, 14, 14]           1,024\n",
      "             ReLU-72          [-1, 512, 14, 14]               0\n",
      "        Conv2dPad-73          [-1, 512, 14, 14]         262,144\n",
      "      BatchNorm2d-74          [-1, 512, 14, 14]           1,024\n",
      "      ResidualAdd-75          [-1, 512, 14, 14]               0\n",
      "             ReLU-76          [-1, 512, 14, 14]               0\n",
      "ResNetBottleneckBlock-77          [-1, 512, 14, 14]               0\n",
      "        Conv2dPad-78          [-1, 512, 14, 14]         262,144\n",
      "      BatchNorm2d-79          [-1, 512, 14, 14]           1,024\n",
      "             ReLU-80          [-1, 512, 14, 14]               0\n",
      "        Conv2dPad-81          [-1, 512, 14, 14]       2,359,296\n",
      "      BatchNorm2d-82          [-1, 512, 14, 14]           1,024\n",
      "             ReLU-83          [-1, 512, 14, 14]               0\n",
      "        Conv2dPad-84          [-1, 512, 14, 14]         262,144\n",
      "      BatchNorm2d-85          [-1, 512, 14, 14]           1,024\n",
      "      ResidualAdd-86          [-1, 512, 14, 14]               0\n",
      "             ReLU-87          [-1, 512, 14, 14]               0\n",
      "ResNetBottleneckBlock-88          [-1, 512, 14, 14]               0\n",
      "      ResNetLayer-89          [-1, 512, 14, 14]               0\n",
      "        Conv2dPad-90         [-1, 1024, 14, 14]         524,288\n",
      "      BatchNorm2d-91         [-1, 1024, 14, 14]           2,048\n",
      "             ReLU-92         [-1, 1024, 14, 14]               0\n",
      "        Conv2dPad-93           [-1, 1024, 7, 7]       9,437,184\n",
      "      BatchNorm2d-94           [-1, 1024, 7, 7]           2,048\n",
      "             ReLU-95           [-1, 1024, 7, 7]               0\n",
      "        Conv2dPad-96           [-1, 1024, 7, 7]       1,048,576\n",
      "      BatchNorm2d-97           [-1, 1024, 7, 7]           2,048\n",
      "        Conv2dPad-98           [-1, 1024, 7, 7]         524,288\n",
      "      BatchNorm2d-99           [-1, 1024, 7, 7]           2,048\n",
      "   ResNetShorcut-100           [-1, 1024, 7, 7]               0\n",
      "     ResidualAdd-101           [-1, 1024, 7, 7]               0\n",
      "            ReLU-102           [-1, 1024, 7, 7]               0\n",
      "ResNetBottleneckBlock-103           [-1, 1024, 7, 7]               0\n",
      "       Conv2dPad-104           [-1, 1024, 7, 7]       1,048,576\n",
      "     BatchNorm2d-105           [-1, 1024, 7, 7]           2,048\n",
      "            ReLU-106           [-1, 1024, 7, 7]               0\n",
      "       Conv2dPad-107           [-1, 1024, 7, 7]       9,437,184\n",
      "     BatchNorm2d-108           [-1, 1024, 7, 7]           2,048\n",
      "            ReLU-109           [-1, 1024, 7, 7]               0\n",
      "       Conv2dPad-110           [-1, 1024, 7, 7]       1,048,576\n",
      "     BatchNorm2d-111           [-1, 1024, 7, 7]           2,048\n",
      "     ResidualAdd-112           [-1, 1024, 7, 7]               0\n",
      "            ReLU-113           [-1, 1024, 7, 7]               0\n",
      "ResNetBottleneckBlock-114           [-1, 1024, 7, 7]               0\n",
      "       Conv2dPad-115           [-1, 1024, 7, 7]       1,048,576\n",
      "     BatchNorm2d-116           [-1, 1024, 7, 7]           2,048\n",
      "            ReLU-117           [-1, 1024, 7, 7]               0\n",
      "       Conv2dPad-118           [-1, 1024, 7, 7]       9,437,184\n",
      "     BatchNorm2d-119           [-1, 1024, 7, 7]           2,048\n",
      "            ReLU-120           [-1, 1024, 7, 7]               0\n",
      "       Conv2dPad-121           [-1, 1024, 7, 7]       1,048,576\n",
      "     BatchNorm2d-122           [-1, 1024, 7, 7]           2,048\n",
      "     ResidualAdd-123           [-1, 1024, 7, 7]               0\n",
      "            ReLU-124           [-1, 1024, 7, 7]               0\n",
      "ResNetBottleneckBlock-125           [-1, 1024, 7, 7]               0\n",
      "       Conv2dPad-126           [-1, 1024, 7, 7]       1,048,576\n",
      "     BatchNorm2d-127           [-1, 1024, 7, 7]           2,048\n",
      "            ReLU-128           [-1, 1024, 7, 7]               0\n",
      "       Conv2dPad-129           [-1, 1024, 7, 7]       9,437,184\n",
      "     BatchNorm2d-130           [-1, 1024, 7, 7]           2,048\n",
      "            ReLU-131           [-1, 1024, 7, 7]               0\n",
      "       Conv2dPad-132           [-1, 1024, 7, 7]       1,048,576\n",
      "     BatchNorm2d-133           [-1, 1024, 7, 7]           2,048\n",
      "     ResidualAdd-134           [-1, 1024, 7, 7]               0\n",
      "            ReLU-135           [-1, 1024, 7, 7]               0\n",
      "ResNetBottleneckBlock-136           [-1, 1024, 7, 7]               0\n",
      "       Conv2dPad-137           [-1, 1024, 7, 7]       1,048,576\n",
      "     BatchNorm2d-138           [-1, 1024, 7, 7]           2,048\n",
      "            ReLU-139           [-1, 1024, 7, 7]               0\n",
      "       Conv2dPad-140           [-1, 1024, 7, 7]       9,437,184\n",
      "     BatchNorm2d-141           [-1, 1024, 7, 7]           2,048\n",
      "            ReLU-142           [-1, 1024, 7, 7]               0\n",
      "       Conv2dPad-143           [-1, 1024, 7, 7]       1,048,576\n",
      "     BatchNorm2d-144           [-1, 1024, 7, 7]           2,048\n",
      "     ResidualAdd-145           [-1, 1024, 7, 7]               0\n",
      "            ReLU-146           [-1, 1024, 7, 7]               0\n",
      "ResNetBottleneckBlock-147           [-1, 1024, 7, 7]               0\n",
      "       Conv2dPad-148           [-1, 1024, 7, 7]       1,048,576\n",
      "     BatchNorm2d-149           [-1, 1024, 7, 7]           2,048\n",
      "            ReLU-150           [-1, 1024, 7, 7]               0\n",
      "       Conv2dPad-151           [-1, 1024, 7, 7]       9,437,184\n",
      "     BatchNorm2d-152           [-1, 1024, 7, 7]           2,048\n",
      "            ReLU-153           [-1, 1024, 7, 7]               0\n",
      "       Conv2dPad-154           [-1, 1024, 7, 7]       1,048,576\n",
      "     BatchNorm2d-155           [-1, 1024, 7, 7]           2,048\n",
      "     ResidualAdd-156           [-1, 1024, 7, 7]               0\n",
      "            ReLU-157           [-1, 1024, 7, 7]               0\n",
      "ResNetBottleneckBlock-158           [-1, 1024, 7, 7]               0\n",
      "     ResNetLayer-159           [-1, 1024, 7, 7]               0\n",
      "       Conv2dPad-160           [-1, 2048, 7, 7]       2,097,152\n",
      "     BatchNorm2d-161           [-1, 2048, 7, 7]           4,096\n",
      "            ReLU-162           [-1, 2048, 7, 7]               0\n",
      "       Conv2dPad-163           [-1, 2048, 4, 4]      37,748,736\n",
      "     BatchNorm2d-164           [-1, 2048, 4, 4]           4,096\n",
      "            ReLU-165           [-1, 2048, 4, 4]               0\n",
      "       Conv2dPad-166           [-1, 2048, 4, 4]       4,194,304\n",
      "     BatchNorm2d-167           [-1, 2048, 4, 4]           4,096\n",
      "       Conv2dPad-168           [-1, 2048, 4, 4]       2,097,152\n",
      "     BatchNorm2d-169           [-1, 2048, 4, 4]           4,096\n",
      "   ResNetShorcut-170           [-1, 2048, 4, 4]               0\n",
      "     ResidualAdd-171           [-1, 2048, 4, 4]               0\n",
      "            ReLU-172           [-1, 2048, 4, 4]               0\n",
      "ResNetBottleneckBlock-173           [-1, 2048, 4, 4]               0\n",
      "       Conv2dPad-174           [-1, 2048, 4, 4]       4,194,304\n",
      "     BatchNorm2d-175           [-1, 2048, 4, 4]           4,096\n",
      "            ReLU-176           [-1, 2048, 4, 4]               0\n",
      "       Conv2dPad-177           [-1, 2048, 4, 4]      37,748,736\n",
      "     BatchNorm2d-178           [-1, 2048, 4, 4]           4,096\n",
      "            ReLU-179           [-1, 2048, 4, 4]               0\n",
      "       Conv2dPad-180           [-1, 2048, 4, 4]       4,194,304\n",
      "     BatchNorm2d-181           [-1, 2048, 4, 4]           4,096\n",
      "     ResidualAdd-182           [-1, 2048, 4, 4]               0\n",
      "            ReLU-183           [-1, 2048, 4, 4]               0\n",
      "ResNetBottleneckBlock-184           [-1, 2048, 4, 4]               0\n",
      "       Conv2dPad-185           [-1, 2048, 4, 4]       4,194,304\n",
      "     BatchNorm2d-186           [-1, 2048, 4, 4]           4,096\n",
      "            ReLU-187           [-1, 2048, 4, 4]               0\n",
      "       Conv2dPad-188           [-1, 2048, 4, 4]      37,748,736\n",
      "     BatchNorm2d-189           [-1, 2048, 4, 4]           4,096\n",
      "            ReLU-190           [-1, 2048, 4, 4]               0\n",
      "       Conv2dPad-191           [-1, 2048, 4, 4]       4,194,304\n",
      "     BatchNorm2d-192           [-1, 2048, 4, 4]           4,096\n",
      "     ResidualAdd-193           [-1, 2048, 4, 4]               0\n",
      "            ReLU-194           [-1, 2048, 4, 4]               0\n",
      "ResNetBottleneckBlock-195           [-1, 2048, 4, 4]               0\n",
      "     ResNetLayer-196           [-1, 2048, 4, 4]               0\n",
      "   ResNetEncoder-197           [-1, 2048, 4, 4]               0\n",
      "AdaptiveAvgPool2d-198           [-1, 2048, 1, 1]               0\n",
      "         Flatten-199                 [-1, 2048]               0\n",
      "          Linear-200                 [-1, 1000]       2,049,000\n",
      "          ResNet-201                 [-1, 1000]               0\n",
      "================================================================\n",
      "Total params: 223,439,144\n",
      "Trainable params: 223,439,144\n",
      "Non-trainable params: 0\n",
      "----------------------------------------------------------------\n",
      "Input size (MB): 0.57\n",
      "Forward/backward pass size (MB): 175.32\n",
      "Params size (MB): 852.35\n",
      "Estimated Total Size (MB): 1028.25\n",
      "----------------------------------------------------------------\n",
      "\n"
     ]
    },
    {
     "data": {
      "text/plain": [
       "(tensor(223439144), tensor(223439144), tensor(852.3527), tensor(1028.2468))"
      ]
     },
     "execution_count": 7,
     "metadata": {},
     "output_type": "execute_result"
    }
   ],
   "source": [
    "summary(ResNet.resnet50(reduction=1).cuda(), (3, 224, 224))"
   ]
  },
  {
   "cell_type": "code",
   "execution_count": null,
   "metadata": {},
   "outputs": [],
   "source": [
    "ResNetBottleneckPreActBlock(64, 256, stride=2)"
   ]
  },
  {
   "cell_type": "code",
   "execution_count": null,
   "metadata": {},
   "outputs": [],
   "source": [
    "FishNetBottleNeck(32, 64)"
   ]
  },
  {
   "cell_type": "code",
   "execution_count": null,
   "metadata": {
    "scrolled": false
   },
   "outputs": [],
   "source": [
    "ResNetBottleneckPreActBlock(32, 256, shortcut=FishNetShortCut)"
   ]
  },
  {
   "cell_type": "code",
   "execution_count": null,
   "metadata": {},
   "outputs": [],
   "source": [
    "model = ResNet.resnet50()\n",
    "model"
   ]
  },
  {
   "cell_type": "code",
   "execution_count": null,
   "metadata": {
    "scrolled": true
   },
   "outputs": [],
   "source": [
    "model = ResNet.resnet50()\n",
    "\n",
    "summary(model.cuda(), (3,224,224))"
   ]
  },
  {
   "cell_type": "code",
   "execution_count": null,
   "metadata": {
    "scrolled": false
   },
   "outputs": [],
   "source": [
    "from torchvision.models import resnet50\n",
    "\n",
    "model = resnet50(False)\n",
    "\n",
    "summary(model.cuda(), (3,224,224))"
   ]
  },
  {
   "cell_type": "code",
   "execution_count": null,
   "metadata": {},
   "outputs": [],
   "source": [
    "list(map(lambda x: x* 4, [64, 128, 256, 512]))"
   ]
  },
  {
   "cell_type": "code",
   "execution_count": null,
   "metadata": {
    "scrolled": true
   },
   "outputs": [],
   "source": [
    "FishNet.fishnet99()"
   ]
  },
  {
   "cell_type": "code",
   "execution_count": null,
   "metadata": {},
   "outputs": [],
   "source": [
    "from glasses.nn.models.classification import SpatialSE\n",
    "\n",
    "block = lambda in_ch, out_ch: nn.Sequential(FishNetBottleNeck(in_ch, out_ch), SpatialSE(out_ch))\n",
    "\n",
    "block(32, 64)"
   ]
  },
  {
   "cell_type": "code",
   "execution_count": null,
   "metadata": {
    "scrolled": true
   },
   "outputs": [],
   "source": [
    "FishNet.fishnet99(activation = nn.SELU)\n",
    "# change number of classes (default is 1000 )\n",
    "FishNet.fishnet99(n_classes=100)\n",
    "# pass a different block\n",
    "block = lambda in_ch, out_ch, **kwargs: nn.Sequential(FishNetBottleNeck(in_ch, out_ch), SpatialSE(out_ch))\n",
    "FishNet.fishnet99(block=block)"
   ]
  },
  {
   "cell_type": "code",
   "execution_count": null,
   "metadata": {},
   "outputs": [],
   "source": []
  }
 ],
 "metadata": {
  "kernelspec": {
   "display_name": "Python 3",
   "language": "python",
   "name": "python3"
  },
  "language_info": {
   "codemirror_mode": {
    "name": "ipython",
    "version": 3
   },
   "file_extension": ".py",
   "mimetype": "text/x-python",
   "name": "python",
   "nbconvert_exporter": "python",
   "pygments_lexer": "ipython3",
   "version": "3.8.2"
  }
 },
 "nbformat": 4,
 "nbformat_minor": 4
}
