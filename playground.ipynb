{
 "cells": [
  {
   "cell_type": "code",
   "execution_count": 1,
   "metadata": {},
   "outputs": [],
   "source": [
    "%load_ext autoreload\n",
    "%autoreload 2"
   ]
  },
  {
   "cell_type": "code",
   "execution_count": 18,
   "metadata": {},
   "outputs": [],
   "source": [
    "import torch\n",
    "import torch.nn as nn\n",
    "import cv2\n",
    "from glasses.nn.models import *\n",
    "import torch.nn.functional as F\n",
    "from torch.autograd import Variable\n",
    "import numpy as np\n",
    "from glasses.utils.Storage import ForwardModuleStorage, BackwardModuleStorage\n",
    "from PIL import Image\n",
    "from io import BytesIO\n",
    "import requests\n",
    "from torchvision.transforms import Normalize\n",
    "import timm\n",
    "\n",
    "r = requests.get('https://i.insider.com/5df126b679d7570ad2044f3e?width=700&format=jpeg&auto=webp')\n",
    "im = Image.open(BytesIO(r.content))"
   ]
  },
  {
   "cell_type": "code",
   "execution_count": 34,
   "metadata": {},
   "outputs": [
    {
     "data": {
      "text/plain": [
       "ResNetBottleneckBlock(\n",
       "  (block): Sequential(\n",
       "    (conv1): Conv2dPad(32, 16, kernel_size=(1, 1), stride=(1, 1), bias=False)\n",
       "    (bn1): BatchNorm2d(16, eps=1e-05, momentum=0.1, affine=True, track_running_stats=True)\n",
       "    (act1): ReLU(inplace=True)\n",
       "    (conv2): Conv2dPad(16, 16, kernel_size=(3, 3), stride=(1, 1), padding=(1, 1), bias=False)\n",
       "    (bn2): BatchNorm2d(16, eps=1e-05, momentum=0.1, affine=True, track_running_stats=True)\n",
       "    (act2): ReLU(inplace=True)\n",
       "    (conv3): Conv2dPad(16, 64, kernel_size=(1, 1), stride=(1, 1), bias=False)\n",
       "    (bn3): BatchNorm2d(64, eps=1e-05, momentum=0.1, affine=True, track_running_stats=True)\n",
       "    (se): SpatialSE(\n",
       "      (avg_pool): AdaptiveAvgPool2d(output_size=1)\n",
       "      (att): Sequential(\n",
       "        (fc1): Linear(in_features=64, out_features=8, bias=False)\n",
       "        (act1): ReLU(inplace=True)\n",
       "        (fc2): Linear(in_features=8, out_features=64, bias=False)\n",
       "        (act2): Sigmoid()\n",
       "      )\n",
       "    )\n",
       "  )\n",
       "  (shortcut): ResNetShorcut(\n",
       "    (conv): Conv2dPad(32, 64, kernel_size=(1, 1), stride=(1, 1), bias=False)\n",
       "    (bn): BatchNorm2d(64, eps=1e-05, momentum=0.1, affine=True, track_running_stats=True)\n",
       "  )\n",
       "  (act): ReLU(inplace=True)\n",
       ")"
      ]
     },
     "execution_count": 34,
     "metadata": {},
     "output_type": "execute_result"
    }
   ],
   "source": [
    "from glasses.nn.models.classification.resnet import *\n",
    "from glasses.nn.att import WithAtt, ECAModule, SpatialSE\n",
    "from functools import partial\n",
    "\n",
    "\n",
    "WithAtt(ResNetBottleneckBlock, att=SpatialSE)(32, 64)\n",
    "\n",
    "# model = ResNet.resnet26(stem=ResNetStemC, block=WithAtt(partial(ResNetBottleneckBlock, shortcut=ResNetShorcutD), se=ECAModule))"
   ]
  },
  {
   "cell_type": "code",
   "execution_count": 4,
   "metadata": {},
   "outputs": [
    {
     "data": {
      "text/plain": [
       "Conv2dPad(3, 32, kernel_size=(3, 3), stride=(2, 2), padding=(1, 1), bias=False)"
      ]
     },
     "execution_count": 4,
     "metadata": {},
     "output_type": "execute_result"
    }
   ],
   "source": [
    "model.encoder.stem[0].conv"
   ]
  },
  {
   "cell_type": "code",
   "execution_count": 5,
   "metadata": {},
   "outputs": [
    {
     "data": {
      "application/vnd.jupyter.widget-view+json": {
       "model_id": "d526fee908244d9785adb3bef64e6418",
       "version_major": 2,
       "version_minor": 0
      },
      "text/plain": [
       "HBox(children=(FloatProgress(value=0.0, max=28.0), HTML(value='')))"
      ]
     },
     "metadata": {},
     "output_type": "display_data"
    },
    {
     "name": "stdout",
     "output_type": "stream",
     "text": [
      "\n",
      "                     top1     top5        time\n",
      "efficientnet_b3   0.82040  0.96044  233.534697\n",
      "cse_resnet50      0.80236  0.95070  103.796275\n",
      "efficientnet_b2   0.80110  0.95118  143.738871\n",
      "resnext101_32x8d  0.79312  0.94526  332.004827\n",
      "wide_resnet101_2  0.78848  0.94284  234.597026\n",
      "wide_resnet50_2   0.78468  0.94086  146.662350\n",
      "efficientnet_b1   0.78338  0.94078  109.462508\n",
      "resnet152         0.78312  0.94046  207.621832\n",
      "resnext50_32x4d   0.77618  0.93698  135.171660\n",
      "resnet101         0.77374  0.93546  151.992030\n",
      "efficientnet_b0   0.77364  0.93560   74.319493\n",
      "densenet161       0.77138  0.93560  201.173060\n",
      "densenet201       0.76896  0.93370  143.988424\n",
      "resnet50          0.76130  0.92862   92.407977\n",
      "densenet169       0.75600  0.92806  115.986181\n",
      "resnet26          0.75292  0.92570   65.222554\n",
      "resnet34          0.75112  0.92288   61.915614\n",
      "densenet121       0.74434  0.91972   95.509909\n",
      "vgg19_bn          0.74218  0.91842  172.342654\n",
      "vgg16_bn          0.73360  0.91516  152.662221\n",
      "vgg19             0.72376  0.90876  160.982097\n",
      "mobilenet_v2      0.71878  0.90286   53.323689\n",
      "vgg16             0.71592  0.90382  141.572090\n",
      "vgg13_bn          0.71586  0.90374  129.880061\n",
      "vgg11_bn          0.70370  0.89810   91.569898\n",
      "vgg13             0.69928  0.89246  119.630676\n",
      "resnet18          0.69758  0.89078   46.777830\n",
      "vgg11             0.69020  0.88628   84.943837\n",
      "Using downloaded and verified file: ./imagenet_val_targets.pkl\n"
     ]
    },
    {
     "data": {
      "application/vnd.jupyter.widget-view+json": {
       "model_id": "",
       "version_major": 2,
       "version_minor": 0
      },
      "text/plain": [
       "HBox(children=(FloatProgress(value=0.0, max=391.0), HTML(value='')))"
      ]
     },
     "metadata": {},
     "output_type": "display_data"
    },
    {
     "data": {
      "application/vnd.jupyter.widget-view+json": {
       "model_id": "52ad8fd46d4f40aaa4991ffc80816705",
       "version_major": 2,
       "version_minor": 0
      },
      "text/plain": [
       "HBox(children=(FloatProgress(value=0.0, max=50000.0), HTML(value='')))"
      ]
     },
     "metadata": {},
     "output_type": "display_data"
    },
    {
     "name": "stdout",
     "output_type": "stream",
     "text": [
      "\n"
     ]
    },
    {
     "name": "stderr",
     "output_type": "stream",
     "text": [
      "/home/zuppif/anaconda3/envs/dl/lib/python3.8/site-packages/torch/cuda/memory.py:231: FutureWarning: torch.cuda.reset_max_memory_allocated now calls torch.cuda.reset_peak_memory_stats, which resets /all/ peak memory stats.\n",
      "  warnings.warn(\n"
     ]
    },
    {
     "data": {
      "text/plain": [
       "(0.80614, 0.95314, 106.34580159187317)"
      ]
     },
     "execution_count": 5,
     "metadata": {},
     "output_type": "execute_result"
    }
   ],
   "source": [
    "from transfer_weights import clone_model\n",
    "from benchmark import benchmark\n",
    "\n",
    "# tmp = ResNet.resnet50d()\n",
    "# tmp = clone_model(timm.create_model('resnet50d', pretrained=True), tmp)\n",
    "\n",
    "tmp = timm.create_model('ecaresnet50d', pretrained=True)\n",
    "benchmark(tmp.eval().cuda(), ResNet.configs['resnet50d'].transform, 128)"
   ]
  },
  {
   "cell_type": "code",
   "execution_count": 6,
   "metadata": {
    "scrolled": true
   },
   "outputs": [
    {
     "data": {
      "text/plain": [
       "ResNet(\n",
       "  (conv1): Sequential(\n",
       "    (0): Conv2d(3, 32, kernel_size=(3, 3), stride=(2, 2), padding=(1, 1), bias=False)\n",
       "    (1): BatchNorm2d(32, eps=1e-05, momentum=0.1, affine=True, track_running_stats=True)\n",
       "    (2): ReLU(inplace=True)\n",
       "    (3): Conv2d(32, 32, kernel_size=(3, 3), stride=(1, 1), padding=(1, 1), bias=False)\n",
       "    (4): BatchNorm2d(32, eps=1e-05, momentum=0.1, affine=True, track_running_stats=True)\n",
       "    (5): ReLU(inplace=True)\n",
       "    (6): Conv2d(32, 64, kernel_size=(3, 3), stride=(1, 1), padding=(1, 1), bias=False)\n",
       "  )\n",
       "  (bn1): BatchNorm2d(64, eps=1e-05, momentum=0.1, affine=True, track_running_stats=True)\n",
       "  (act1): ReLU(inplace=True)\n",
       "  (maxpool): MaxPool2d(kernel_size=3, stride=2, padding=1, dilation=1, ceil_mode=False)\n",
       "  (layer1): Sequential(\n",
       "    (0): Bottleneck(\n",
       "      (conv1): Conv2d(64, 64, kernel_size=(1, 1), stride=(1, 1), bias=False)\n",
       "      (bn1): BatchNorm2d(64, eps=1e-05, momentum=0.1, affine=True, track_running_stats=True)\n",
       "      (act1): ReLU(inplace=True)\n",
       "      (conv2): Conv2d(64, 64, kernel_size=(3, 3), stride=(1, 1), padding=(1, 1), bias=False)\n",
       "      (bn2): BatchNorm2d(64, eps=1e-05, momentum=0.1, affine=True, track_running_stats=True)\n",
       "      (act2): ReLU(inplace=True)\n",
       "      (conv3): Conv2d(64, 256, kernel_size=(1, 1), stride=(1, 1), bias=False)\n",
       "      (bn3): BatchNorm2d(256, eps=1e-05, momentum=0.1, affine=True, track_running_stats=True)\n",
       "      (act3): ReLU(inplace=True)\n",
       "      (downsample): Sequential(\n",
       "        (0): Identity()\n",
       "        (1): Conv2d(64, 256, kernel_size=(1, 1), stride=(1, 1), bias=False)\n",
       "        (2): BatchNorm2d(256, eps=1e-05, momentum=0.1, affine=True, track_running_stats=True)\n",
       "      )\n",
       "    )\n",
       "    (1): Bottleneck(\n",
       "      (conv1): Conv2d(256, 64, kernel_size=(1, 1), stride=(1, 1), bias=False)\n",
       "      (bn1): BatchNorm2d(64, eps=1e-05, momentum=0.1, affine=True, track_running_stats=True)\n",
       "      (act1): ReLU(inplace=True)\n",
       "      (conv2): Conv2d(64, 64, kernel_size=(3, 3), stride=(1, 1), padding=(1, 1), bias=False)\n",
       "      (bn2): BatchNorm2d(64, eps=1e-05, momentum=0.1, affine=True, track_running_stats=True)\n",
       "      (act2): ReLU(inplace=True)\n",
       "      (conv3): Conv2d(64, 256, kernel_size=(1, 1), stride=(1, 1), bias=False)\n",
       "      (bn3): BatchNorm2d(256, eps=1e-05, momentum=0.1, affine=True, track_running_stats=True)\n",
       "      (act3): ReLU(inplace=True)\n",
       "    )\n",
       "  )\n",
       "  (layer2): Sequential(\n",
       "    (0): Bottleneck(\n",
       "      (conv1): Conv2d(256, 128, kernel_size=(1, 1), stride=(1, 1), bias=False)\n",
       "      (bn1): BatchNorm2d(128, eps=1e-05, momentum=0.1, affine=True, track_running_stats=True)\n",
       "      (act1): ReLU(inplace=True)\n",
       "      (conv2): Conv2d(128, 128, kernel_size=(3, 3), stride=(2, 2), padding=(1, 1), bias=False)\n",
       "      (bn2): BatchNorm2d(128, eps=1e-05, momentum=0.1, affine=True, track_running_stats=True)\n",
       "      (act2): ReLU(inplace=True)\n",
       "      (conv3): Conv2d(128, 512, kernel_size=(1, 1), stride=(1, 1), bias=False)\n",
       "      (bn3): BatchNorm2d(512, eps=1e-05, momentum=0.1, affine=True, track_running_stats=True)\n",
       "      (act3): ReLU(inplace=True)\n",
       "      (downsample): Sequential(\n",
       "        (0): AvgPool2d(kernel_size=2, stride=2, padding=0)\n",
       "        (1): Conv2d(256, 512, kernel_size=(1, 1), stride=(1, 1), bias=False)\n",
       "        (2): BatchNorm2d(512, eps=1e-05, momentum=0.1, affine=True, track_running_stats=True)\n",
       "      )\n",
       "    )\n",
       "    (1): Bottleneck(\n",
       "      (conv1): Conv2d(512, 128, kernel_size=(1, 1), stride=(1, 1), bias=False)\n",
       "      (bn1): BatchNorm2d(128, eps=1e-05, momentum=0.1, affine=True, track_running_stats=True)\n",
       "      (act1): ReLU(inplace=True)\n",
       "      (conv2): Conv2d(128, 128, kernel_size=(3, 3), stride=(1, 1), padding=(1, 1), bias=False)\n",
       "      (bn2): BatchNorm2d(128, eps=1e-05, momentum=0.1, affine=True, track_running_stats=True)\n",
       "      (act2): ReLU(inplace=True)\n",
       "      (conv3): Conv2d(128, 512, kernel_size=(1, 1), stride=(1, 1), bias=False)\n",
       "      (bn3): BatchNorm2d(512, eps=1e-05, momentum=0.1, affine=True, track_running_stats=True)\n",
       "      (act3): ReLU(inplace=True)\n",
       "    )\n",
       "  )\n",
       "  (layer3): Sequential(\n",
       "    (0): Bottleneck(\n",
       "      (conv1): Conv2d(512, 256, kernel_size=(1, 1), stride=(1, 1), bias=False)\n",
       "      (bn1): BatchNorm2d(256, eps=1e-05, momentum=0.1, affine=True, track_running_stats=True)\n",
       "      (act1): ReLU(inplace=True)\n",
       "      (conv2): Conv2d(256, 256, kernel_size=(3, 3), stride=(2, 2), padding=(1, 1), bias=False)\n",
       "      (bn2): BatchNorm2d(256, eps=1e-05, momentum=0.1, affine=True, track_running_stats=True)\n",
       "      (act2): ReLU(inplace=True)\n",
       "      (conv3): Conv2d(256, 1024, kernel_size=(1, 1), stride=(1, 1), bias=False)\n",
       "      (bn3): BatchNorm2d(1024, eps=1e-05, momentum=0.1, affine=True, track_running_stats=True)\n",
       "      (act3): ReLU(inplace=True)\n",
       "      (downsample): Sequential(\n",
       "        (0): AvgPool2d(kernel_size=2, stride=2, padding=0)\n",
       "        (1): Conv2d(512, 1024, kernel_size=(1, 1), stride=(1, 1), bias=False)\n",
       "        (2): BatchNorm2d(1024, eps=1e-05, momentum=0.1, affine=True, track_running_stats=True)\n",
       "      )\n",
       "    )\n",
       "    (1): Bottleneck(\n",
       "      (conv1): Conv2d(1024, 256, kernel_size=(1, 1), stride=(1, 1), bias=False)\n",
       "      (bn1): BatchNorm2d(256, eps=1e-05, momentum=0.1, affine=True, track_running_stats=True)\n",
       "      (act1): ReLU(inplace=True)\n",
       "      (conv2): Conv2d(256, 256, kernel_size=(3, 3), stride=(1, 1), padding=(1, 1), bias=False)\n",
       "      (bn2): BatchNorm2d(256, eps=1e-05, momentum=0.1, affine=True, track_running_stats=True)\n",
       "      (act2): ReLU(inplace=True)\n",
       "      (conv3): Conv2d(256, 1024, kernel_size=(1, 1), stride=(1, 1), bias=False)\n",
       "      (bn3): BatchNorm2d(1024, eps=1e-05, momentum=0.1, affine=True, track_running_stats=True)\n",
       "      (act3): ReLU(inplace=True)\n",
       "    )\n",
       "  )\n",
       "  (layer4): Sequential(\n",
       "    (0): Bottleneck(\n",
       "      (conv1): Conv2d(1024, 512, kernel_size=(1, 1), stride=(1, 1), bias=False)\n",
       "      (bn1): BatchNorm2d(512, eps=1e-05, momentum=0.1, affine=True, track_running_stats=True)\n",
       "      (act1): ReLU(inplace=True)\n",
       "      (conv2): Conv2d(512, 512, kernel_size=(3, 3), stride=(2, 2), padding=(1, 1), bias=False)\n",
       "      (bn2): BatchNorm2d(512, eps=1e-05, momentum=0.1, affine=True, track_running_stats=True)\n",
       "      (act2): ReLU(inplace=True)\n",
       "      (conv3): Conv2d(512, 2048, kernel_size=(1, 1), stride=(1, 1), bias=False)\n",
       "      (bn3): BatchNorm2d(2048, eps=1e-05, momentum=0.1, affine=True, track_running_stats=True)\n",
       "      (act3): ReLU(inplace=True)\n",
       "      (downsample): Sequential(\n",
       "        (0): AvgPool2d(kernel_size=2, stride=2, padding=0)\n",
       "        (1): Conv2d(1024, 2048, kernel_size=(1, 1), stride=(1, 1), bias=False)\n",
       "        (2): BatchNorm2d(2048, eps=1e-05, momentum=0.1, affine=True, track_running_stats=True)\n",
       "      )\n",
       "    )\n",
       "    (1): Bottleneck(\n",
       "      (conv1): Conv2d(2048, 512, kernel_size=(1, 1), stride=(1, 1), bias=False)\n",
       "      (bn1): BatchNorm2d(512, eps=1e-05, momentum=0.1, affine=True, track_running_stats=True)\n",
       "      (act1): ReLU(inplace=True)\n",
       "      (conv2): Conv2d(512, 512, kernel_size=(3, 3), stride=(1, 1), padding=(1, 1), bias=False)\n",
       "      (bn2): BatchNorm2d(512, eps=1e-05, momentum=0.1, affine=True, track_running_stats=True)\n",
       "      (act2): ReLU(inplace=True)\n",
       "      (conv3): Conv2d(512, 2048, kernel_size=(1, 1), stride=(1, 1), bias=False)\n",
       "      (bn3): BatchNorm2d(2048, eps=1e-05, momentum=0.1, affine=True, track_running_stats=True)\n",
       "      (act3): ReLU(inplace=True)\n",
       "    )\n",
       "  )\n",
       "  (global_pool): SelectAdaptivePool2d (pool_type=avg, flatten=True)\n",
       "  (fc): Linear(in_features=2048, out_features=1000, bias=True)\n",
       ")"
      ]
     },
     "execution_count": 6,
     "metadata": {},
     "output_type": "execute_result"
    }
   ],
   "source": [
    "from timm.models.resnet import resnet26d\n",
    "\n",
    "timm.create_model('resnet26d')"
   ]
  },
  {
   "cell_type": "code",
   "execution_count": 7,
   "metadata": {
    "scrolled": true
   },
   "outputs": [
    {
     "name": "stdout",
     "output_type": "stream",
     "text": [
      "----------------------------------------------------------------\n",
      "        Layer (type)               Output Shape         Param #\n",
      "================================================================\n",
      "         Conv2dPad-1         [-1, 64, 112, 112]           9,408\n",
      "       BatchNorm2d-2         [-1, 64, 112, 112]             128\n",
      "              ReLU-3         [-1, 64, 112, 112]               0\n",
      "         MaxPool2d-4           [-1, 64, 56, 56]               0\n",
      "         Conv2dPad-5           [-1, 64, 56, 56]           4,096\n",
      "       BatchNorm2d-6           [-1, 64, 56, 56]             128\n",
      "              ReLU-7           [-1, 64, 56, 56]               0\n",
      "         Conv2dPad-8           [-1, 64, 56, 56]          36,864\n",
      "       BatchNorm2d-9           [-1, 64, 56, 56]             128\n",
      "             ReLU-10           [-1, 64, 56, 56]               0\n",
      "        Conv2dPad-11          [-1, 256, 56, 56]          16,384\n",
      "      BatchNorm2d-12          [-1, 256, 56, 56]             512\n",
      "        Conv2dPad-13          [-1, 256, 56, 56]          16,384\n",
      "      BatchNorm2d-14          [-1, 256, 56, 56]             512\n",
      "    ResNetShorcut-15          [-1, 256, 56, 56]               0\n",
      "             ReLU-16          [-1, 256, 56, 56]               0\n",
      "ResNetBottleneckBlock-17          [-1, 256, 56, 56]               0\n",
      "        Conv2dPad-18           [-1, 64, 56, 56]          16,384\n",
      "      BatchNorm2d-19           [-1, 64, 56, 56]             128\n",
      "             ReLU-20           [-1, 64, 56, 56]               0\n",
      "        Conv2dPad-21           [-1, 64, 56, 56]          36,864\n",
      "      BatchNorm2d-22           [-1, 64, 56, 56]             128\n",
      "             ReLU-23           [-1, 64, 56, 56]               0\n",
      "        Conv2dPad-24          [-1, 256, 56, 56]          16,384\n",
      "      BatchNorm2d-25          [-1, 256, 56, 56]             512\n",
      "         Identity-26          [-1, 256, 56, 56]               0\n",
      "             ReLU-27          [-1, 256, 56, 56]               0\n",
      "ResNetBottleneckBlock-28          [-1, 256, 56, 56]               0\n",
      "        Conv2dPad-29           [-1, 64, 56, 56]          16,384\n",
      "      BatchNorm2d-30           [-1, 64, 56, 56]             128\n",
      "             ReLU-31           [-1, 64, 56, 56]               0\n",
      "        Conv2dPad-32           [-1, 64, 56, 56]          36,864\n",
      "      BatchNorm2d-33           [-1, 64, 56, 56]             128\n",
      "             ReLU-34           [-1, 64, 56, 56]               0\n",
      "        Conv2dPad-35          [-1, 256, 56, 56]          16,384\n",
      "      BatchNorm2d-36          [-1, 256, 56, 56]             512\n",
      "         Identity-37          [-1, 256, 56, 56]               0\n",
      "             ReLU-38          [-1, 256, 56, 56]               0\n",
      "ResNetBottleneckBlock-39          [-1, 256, 56, 56]               0\n",
      "      ResNetLayer-40          [-1, 256, 56, 56]               0\n",
      "        Conv2dPad-41          [-1, 128, 56, 56]          32,768\n",
      "      BatchNorm2d-42          [-1, 128, 56, 56]             256\n",
      "             ReLU-43          [-1, 128, 56, 56]               0\n",
      "        Conv2dPad-44          [-1, 128, 28, 28]         147,456\n",
      "      BatchNorm2d-45          [-1, 128, 28, 28]             256\n",
      "             ReLU-46          [-1, 128, 28, 28]               0\n",
      "        Conv2dPad-47          [-1, 512, 28, 28]          65,536\n",
      "      BatchNorm2d-48          [-1, 512, 28, 28]           1,024\n",
      "        Conv2dPad-49          [-1, 512, 28, 28]         131,072\n",
      "      BatchNorm2d-50          [-1, 512, 28, 28]           1,024\n",
      "    ResNetShorcut-51          [-1, 512, 28, 28]               0\n",
      "             ReLU-52          [-1, 512, 28, 28]               0\n",
      "ResNetBottleneckBlock-53          [-1, 512, 28, 28]               0\n",
      "        Conv2dPad-54          [-1, 128, 28, 28]          65,536\n",
      "      BatchNorm2d-55          [-1, 128, 28, 28]             256\n",
      "             ReLU-56          [-1, 128, 28, 28]               0\n",
      "        Conv2dPad-57          [-1, 128, 28, 28]         147,456\n",
      "      BatchNorm2d-58          [-1, 128, 28, 28]             256\n",
      "             ReLU-59          [-1, 128, 28, 28]               0\n",
      "        Conv2dPad-60          [-1, 512, 28, 28]          65,536\n",
      "      BatchNorm2d-61          [-1, 512, 28, 28]           1,024\n",
      "         Identity-62          [-1, 512, 28, 28]               0\n",
      "             ReLU-63          [-1, 512, 28, 28]               0\n",
      "ResNetBottleneckBlock-64          [-1, 512, 28, 28]               0\n",
      "        Conv2dPad-65          [-1, 128, 28, 28]          65,536\n",
      "      BatchNorm2d-66          [-1, 128, 28, 28]             256\n",
      "             ReLU-67          [-1, 128, 28, 28]               0\n",
      "        Conv2dPad-68          [-1, 128, 28, 28]         147,456\n",
      "      BatchNorm2d-69          [-1, 128, 28, 28]             256\n",
      "             ReLU-70          [-1, 128, 28, 28]               0\n",
      "        Conv2dPad-71          [-1, 512, 28, 28]          65,536\n",
      "      BatchNorm2d-72          [-1, 512, 28, 28]           1,024\n",
      "         Identity-73          [-1, 512, 28, 28]               0\n",
      "             ReLU-74          [-1, 512, 28, 28]               0\n",
      "ResNetBottleneckBlock-75          [-1, 512, 28, 28]               0\n",
      "        Conv2dPad-76          [-1, 128, 28, 28]          65,536\n",
      "      BatchNorm2d-77          [-1, 128, 28, 28]             256\n",
      "             ReLU-78          [-1, 128, 28, 28]               0\n",
      "        Conv2dPad-79          [-1, 128, 28, 28]         147,456\n",
      "      BatchNorm2d-80          [-1, 128, 28, 28]             256\n",
      "             ReLU-81          [-1, 128, 28, 28]               0\n",
      "        Conv2dPad-82          [-1, 512, 28, 28]          65,536\n",
      "      BatchNorm2d-83          [-1, 512, 28, 28]           1,024\n",
      "         Identity-84          [-1, 512, 28, 28]               0\n",
      "             ReLU-85          [-1, 512, 28, 28]               0\n",
      "ResNetBottleneckBlock-86          [-1, 512, 28, 28]               0\n",
      "      ResNetLayer-87          [-1, 512, 28, 28]               0\n",
      "        Conv2dPad-88          [-1, 256, 28, 28]         131,072\n",
      "      BatchNorm2d-89          [-1, 256, 28, 28]             512\n",
      "             ReLU-90          [-1, 256, 28, 28]               0\n",
      "        Conv2dPad-91          [-1, 256, 14, 14]         589,824\n",
      "      BatchNorm2d-92          [-1, 256, 14, 14]             512\n",
      "             ReLU-93          [-1, 256, 14, 14]               0\n",
      "        Conv2dPad-94         [-1, 1024, 14, 14]         262,144\n",
      "      BatchNorm2d-95         [-1, 1024, 14, 14]           2,048\n",
      "        Conv2dPad-96         [-1, 1024, 14, 14]         524,288\n",
      "      BatchNorm2d-97         [-1, 1024, 14, 14]           2,048\n",
      "    ResNetShorcut-98         [-1, 1024, 14, 14]               0\n",
      "             ReLU-99         [-1, 1024, 14, 14]               0\n",
      "ResNetBottleneckBlock-100         [-1, 1024, 14, 14]               0\n",
      "       Conv2dPad-101          [-1, 256, 14, 14]         262,144\n",
      "     BatchNorm2d-102          [-1, 256, 14, 14]             512\n",
      "            ReLU-103          [-1, 256, 14, 14]               0\n",
      "       Conv2dPad-104          [-1, 256, 14, 14]         589,824\n",
      "     BatchNorm2d-105          [-1, 256, 14, 14]             512\n",
      "            ReLU-106          [-1, 256, 14, 14]               0\n",
      "       Conv2dPad-107         [-1, 1024, 14, 14]         262,144\n",
      "     BatchNorm2d-108         [-1, 1024, 14, 14]           2,048\n",
      "        Identity-109         [-1, 1024, 14, 14]               0\n",
      "            ReLU-110         [-1, 1024, 14, 14]               0\n",
      "ResNetBottleneckBlock-111         [-1, 1024, 14, 14]               0\n",
      "       Conv2dPad-112          [-1, 256, 14, 14]         262,144\n",
      "     BatchNorm2d-113          [-1, 256, 14, 14]             512\n",
      "            ReLU-114          [-1, 256, 14, 14]               0\n",
      "       Conv2dPad-115          [-1, 256, 14, 14]         589,824\n",
      "     BatchNorm2d-116          [-1, 256, 14, 14]             512\n",
      "            ReLU-117          [-1, 256, 14, 14]               0\n",
      "       Conv2dPad-118         [-1, 1024, 14, 14]         262,144\n",
      "     BatchNorm2d-119         [-1, 1024, 14, 14]           2,048\n",
      "        Identity-120         [-1, 1024, 14, 14]               0\n",
      "            ReLU-121         [-1, 1024, 14, 14]               0\n",
      "ResNetBottleneckBlock-122         [-1, 1024, 14, 14]               0\n",
      "       Conv2dPad-123          [-1, 256, 14, 14]         262,144\n",
      "     BatchNorm2d-124          [-1, 256, 14, 14]             512\n",
      "            ReLU-125          [-1, 256, 14, 14]               0\n",
      "       Conv2dPad-126          [-1, 256, 14, 14]         589,824\n",
      "     BatchNorm2d-127          [-1, 256, 14, 14]             512\n",
      "            ReLU-128          [-1, 256, 14, 14]               0\n",
      "       Conv2dPad-129         [-1, 1024, 14, 14]         262,144\n",
      "     BatchNorm2d-130         [-1, 1024, 14, 14]           2,048\n",
      "        Identity-131         [-1, 1024, 14, 14]               0\n",
      "            ReLU-132         [-1, 1024, 14, 14]               0\n",
      "ResNetBottleneckBlock-133         [-1, 1024, 14, 14]               0\n",
      "       Conv2dPad-134          [-1, 256, 14, 14]         262,144\n",
      "     BatchNorm2d-135          [-1, 256, 14, 14]             512\n",
      "            ReLU-136          [-1, 256, 14, 14]               0\n",
      "       Conv2dPad-137          [-1, 256, 14, 14]         589,824\n",
      "     BatchNorm2d-138          [-1, 256, 14, 14]             512\n",
      "            ReLU-139          [-1, 256, 14, 14]               0\n",
      "       Conv2dPad-140         [-1, 1024, 14, 14]         262,144\n",
      "     BatchNorm2d-141         [-1, 1024, 14, 14]           2,048\n",
      "        Identity-142         [-1, 1024, 14, 14]               0\n",
      "            ReLU-143         [-1, 1024, 14, 14]               0\n",
      "ResNetBottleneckBlock-144         [-1, 1024, 14, 14]               0\n",
      "       Conv2dPad-145          [-1, 256, 14, 14]         262,144\n",
      "     BatchNorm2d-146          [-1, 256, 14, 14]             512\n",
      "            ReLU-147          [-1, 256, 14, 14]               0\n",
      "       Conv2dPad-148          [-1, 256, 14, 14]         589,824\n",
      "     BatchNorm2d-149          [-1, 256, 14, 14]             512\n",
      "            ReLU-150          [-1, 256, 14, 14]               0\n",
      "       Conv2dPad-151         [-1, 1024, 14, 14]         262,144\n",
      "     BatchNorm2d-152         [-1, 1024, 14, 14]           2,048\n",
      "        Identity-153         [-1, 1024, 14, 14]               0\n",
      "            ReLU-154         [-1, 1024, 14, 14]               0\n",
      "ResNetBottleneckBlock-155         [-1, 1024, 14, 14]               0\n",
      "     ResNetLayer-156         [-1, 1024, 14, 14]               0\n",
      "       Conv2dPad-157          [-1, 512, 14, 14]         524,288\n",
      "     BatchNorm2d-158          [-1, 512, 14, 14]           1,024\n",
      "            ReLU-159          [-1, 512, 14, 14]               0\n",
      "       Conv2dPad-160            [-1, 512, 7, 7]       2,359,296\n",
      "     BatchNorm2d-161            [-1, 512, 7, 7]           1,024\n",
      "            ReLU-162            [-1, 512, 7, 7]               0\n",
      "       Conv2dPad-163           [-1, 2048, 7, 7]       1,048,576\n",
      "     BatchNorm2d-164           [-1, 2048, 7, 7]           4,096\n",
      "       Conv2dPad-165           [-1, 2048, 7, 7]       2,097,152\n",
      "     BatchNorm2d-166           [-1, 2048, 7, 7]           4,096\n",
      "   ResNetShorcut-167           [-1, 2048, 7, 7]               0\n",
      "            ReLU-168           [-1, 2048, 7, 7]               0\n",
      "ResNetBottleneckBlock-169           [-1, 2048, 7, 7]               0\n",
      "       Conv2dPad-170            [-1, 512, 7, 7]       1,048,576\n",
      "     BatchNorm2d-171            [-1, 512, 7, 7]           1,024\n",
      "            ReLU-172            [-1, 512, 7, 7]               0\n",
      "       Conv2dPad-173            [-1, 512, 7, 7]       2,359,296\n",
      "     BatchNorm2d-174            [-1, 512, 7, 7]           1,024\n",
      "            ReLU-175            [-1, 512, 7, 7]               0\n",
      "       Conv2dPad-176           [-1, 2048, 7, 7]       1,048,576\n",
      "     BatchNorm2d-177           [-1, 2048, 7, 7]           4,096\n",
      "        Identity-178           [-1, 2048, 7, 7]               0\n",
      "            ReLU-179           [-1, 2048, 7, 7]               0\n",
      "ResNetBottleneckBlock-180           [-1, 2048, 7, 7]               0\n",
      "       Conv2dPad-181            [-1, 512, 7, 7]       1,048,576\n",
      "     BatchNorm2d-182            [-1, 512, 7, 7]           1,024\n",
      "            ReLU-183            [-1, 512, 7, 7]               0\n",
      "       Conv2dPad-184            [-1, 512, 7, 7]       2,359,296\n",
      "     BatchNorm2d-185            [-1, 512, 7, 7]           1,024\n",
      "            ReLU-186            [-1, 512, 7, 7]               0\n",
      "       Conv2dPad-187           [-1, 2048, 7, 7]       1,048,576\n",
      "     BatchNorm2d-188           [-1, 2048, 7, 7]           4,096\n",
      "        Identity-189           [-1, 2048, 7, 7]               0\n",
      "            ReLU-190           [-1, 2048, 7, 7]               0\n",
      "ResNetBottleneckBlock-191           [-1, 2048, 7, 7]               0\n",
      "     ResNetLayer-192           [-1, 2048, 7, 7]               0\n",
      "   ResNetEncoder-193           [-1, 2048, 7, 7]               0\n",
      "AdaptiveAvgPool2d-194           [-1, 2048, 1, 1]               0\n",
      "         Flatten-195                 [-1, 2048]               0\n",
      "          Linear-196                 [-1, 1000]       2,049,000\n",
      "          ResNet-197                 [-1, 1000]               0\n",
      "================================================================\n",
      "Total params: 25,557,032\n",
      "Trainable params: 25,557,032\n",
      "Non-trainable params: 0\n",
      "----------------------------------------------------------------\n",
      "Input size (MB): 0.57\n",
      "Forward/backward pass size (MB): 340.94\n",
      "Params size (MB): 97.49\n",
      "Estimated Total Size (MB): 439.01\n",
      "----------------------------------------------------------------\n",
      "\n"
     ]
    },
    {
     "data": {
      "text/plain": [
       "(tensor(25557032), tensor(25557032), tensor(97.4923), tensor(439.0076))"
      ]
     },
     "execution_count": 7,
     "metadata": {},
     "output_type": "execute_result"
    }
   ],
   "source": [
    "ResNet.resnet50().summary()"
   ]
  },
  {
   "cell_type": "code",
   "execution_count": 8,
   "metadata": {},
   "outputs": [],
   "source": [
    "class NormalizeInverse(Normalize):\n",
    "    \"\"\"\n",
    "    Undoes the normalization and returns the reconstructed images in the input domain.\n",
    "    \"\"\"\n",
    "\n",
    "    def __init__(self, mean, std):\n",
    "        mean = torch.Tensor(mean)\n",
    "        std = torch.Tensor(std)\n",
    "        std_inv = 1 / (std + 1e-7)\n",
    "        mean_inv = -mean * std_inv\n",
    "        super().__init__(mean=mean_inv, std=std_inv)\n",
    "\n",
    "    def __call__(self, tensor):\n",
    "        return super().__call__(tensor.clone())"
   ]
  },
  {
   "cell_type": "code",
   "execution_count": 9,
   "metadata": {
    "scrolled": false
   },
   "outputs": [
    {
     "name": "stderr",
     "output_type": "stream",
     "text": [
      "INFO:root:Loaded resnet18 pretrained weights.\n"
     ]
    },
    {
     "ename": "RuntimeError",
     "evalue": "Error(s) in loading state_dict for ResNet:\n\tMissing key(s) in state_dict: \"encoder.stem.0.conv.weight\", \"encoder.stem.0.bn.weight\", \"encoder.stem.0.bn.bias\", \"encoder.stem.0.bn.running_mean\", \"encoder.stem.0.bn.running_var\". \n\tUnexpected key(s) in state_dict: \"encoder.gate.conv.weight\", \"encoder.gate.bn.weight\", \"encoder.gate.bn.bias\", \"encoder.gate.bn.running_mean\", \"encoder.gate.bn.running_var\", \"encoder.gate.bn.num_batches_tracked\". ",
     "output_type": "error",
     "traceback": [
      "\u001b[0;31m---------------------------------------------------------------------------\u001b[0m",
      "\u001b[0;31mRuntimeError\u001b[0m                              Traceback (most recent call last)",
      "\u001b[0;32m<ipython-input-9-d2c86fdadab1>\u001b[0m in \u001b[0;36m<module>\u001b[0;34m\u001b[0m\n\u001b[1;32m      6\u001b[0m \u001b[0;34m\u001b[0m\u001b[0m\n\u001b[1;32m      7\u001b[0m \u001b[0mx\u001b[0m \u001b[0;34m=\u001b[0m \u001b[0mtransform\u001b[0m\u001b[0;34m(\u001b[0m\u001b[0mim\u001b[0m\u001b[0;34m)\u001b[0m\u001b[0;34m.\u001b[0m\u001b[0munsqueeze\u001b[0m\u001b[0;34m(\u001b[0m\u001b[0;36m0\u001b[0m\u001b[0;34m)\u001b[0m\u001b[0;34m\u001b[0m\u001b[0;34m\u001b[0m\u001b[0m\n\u001b[0;32m----> 8\u001b[0;31m \u001b[0mmodel\u001b[0m \u001b[0;34m=\u001b[0m \u001b[0mResNet\u001b[0m\u001b[0;34m.\u001b[0m\u001b[0mresnet18\u001b[0m\u001b[0;34m(\u001b[0m\u001b[0mpretrained\u001b[0m\u001b[0;34m=\u001b[0m\u001b[0;32mTrue\u001b[0m\u001b[0;34m)\u001b[0m\u001b[0;34m\u001b[0m\u001b[0;34m\u001b[0m\u001b[0m\n\u001b[0m\u001b[1;32m      9\u001b[0m \u001b[0;34m\u001b[0m\u001b[0m\n\u001b[1;32m     10\u001b[0m \u001b[0m_\u001b[0m \u001b[0;34m=\u001b[0m \u001b[0mmodel\u001b[0m\u001b[0;34m.\u001b[0m\u001b[0minterpret\u001b[0m\u001b[0;34m(\u001b[0m\u001b[0mx\u001b[0m\u001b[0;34m,\u001b[0m \u001b[0musing\u001b[0m\u001b[0;34m=\u001b[0m\u001b[0mSaliencyMap\u001b[0m\u001b[0;34m(\u001b[0m\u001b[0;34m)\u001b[0m\u001b[0;34m)\u001b[0m\u001b[0;34m.\u001b[0m\u001b[0mshow\u001b[0m\u001b[0;34m(\u001b[0m\u001b[0;34m)\u001b[0m\u001b[0;34m\u001b[0m\u001b[0;34m\u001b[0m\u001b[0m\n",
      "\u001b[0;32m~/Documents/torcheyes/glasses/utils/PretrainedWeightsProvider.py\u001b[0m in \u001b[0;36mwrapper\u001b[0;34m(pretrained, *args, **kwargs)\u001b[0m\n\u001b[1;32m     73\u001b[0m             \u001b[0mmodel\u001b[0m \u001b[0;34m=\u001b[0m \u001b[0mfunc\u001b[0m\u001b[0;34m(\u001b[0m\u001b[0;34m*\u001b[0m\u001b[0margs\u001b[0m\u001b[0;34m,\u001b[0m \u001b[0;34m**\u001b[0m\u001b[0mkwargs\u001b[0m\u001b[0;34m)\u001b[0m\u001b[0;34m\u001b[0m\u001b[0;34m\u001b[0m\u001b[0m\n\u001b[1;32m     74\u001b[0m             \u001b[0;32mif\u001b[0m \u001b[0mpretrained\u001b[0m\u001b[0;34m:\u001b[0m\u001b[0;34m\u001b[0m\u001b[0;34m\u001b[0m\u001b[0m\n\u001b[0;32m---> 75\u001b[0;31m                 \u001b[0mmodel\u001b[0m\u001b[0;34m.\u001b[0m\u001b[0mload_state_dict\u001b[0m\u001b[0;34m(\u001b[0m\u001b[0mprovider\u001b[0m\u001b[0;34m[\u001b[0m\u001b[0mname\u001b[0m\u001b[0;34m]\u001b[0m\u001b[0;34m)\u001b[0m\u001b[0;34m\u001b[0m\u001b[0;34m\u001b[0m\u001b[0m\n\u001b[0m\u001b[1;32m     76\u001b[0m                 \u001b[0mmodel\u001b[0m\u001b[0;34m.\u001b[0m\u001b[0meval\u001b[0m\u001b[0;34m(\u001b[0m\u001b[0;34m)\u001b[0m\u001b[0;34m\u001b[0m\u001b[0;34m\u001b[0m\u001b[0m\n\u001b[1;32m     77\u001b[0m             \u001b[0;32mreturn\u001b[0m \u001b[0mmodel\u001b[0m\u001b[0;34m\u001b[0m\u001b[0;34m\u001b[0m\u001b[0m\n",
      "\u001b[0;32m~/anaconda3/envs/dl/lib/python3.8/site-packages/torch/nn/modules/module.py\u001b[0m in \u001b[0;36mload_state_dict\u001b[0;34m(self, state_dict, strict)\u001b[0m\n\u001b[1;32m   1049\u001b[0m \u001b[0;34m\u001b[0m\u001b[0m\n\u001b[1;32m   1050\u001b[0m         \u001b[0;32mif\u001b[0m \u001b[0mlen\u001b[0m\u001b[0;34m(\u001b[0m\u001b[0merror_msgs\u001b[0m\u001b[0;34m)\u001b[0m \u001b[0;34m>\u001b[0m \u001b[0;36m0\u001b[0m\u001b[0;34m:\u001b[0m\u001b[0;34m\u001b[0m\u001b[0;34m\u001b[0m\u001b[0m\n\u001b[0;32m-> 1051\u001b[0;31m             raise RuntimeError('Error(s) in loading state_dict for {}:\\n\\t{}'.format(\n\u001b[0m\u001b[1;32m   1052\u001b[0m                                self.__class__.__name__, \"\\n\\t\".join(error_msgs)))\n\u001b[1;32m   1053\u001b[0m         \u001b[0;32mreturn\u001b[0m \u001b[0m_IncompatibleKeys\u001b[0m\u001b[0;34m(\u001b[0m\u001b[0mmissing_keys\u001b[0m\u001b[0;34m,\u001b[0m \u001b[0munexpected_keys\u001b[0m\u001b[0;34m)\u001b[0m\u001b[0;34m\u001b[0m\u001b[0;34m\u001b[0m\u001b[0m\n",
      "\u001b[0;31mRuntimeError\u001b[0m: Error(s) in loading state_dict for ResNet:\n\tMissing key(s) in state_dict: \"encoder.stem.0.conv.weight\", \"encoder.stem.0.bn.weight\", \"encoder.stem.0.bn.bias\", \"encoder.stem.0.bn.running_mean\", \"encoder.stem.0.bn.running_var\". \n\tUnexpected key(s) in state_dict: \"encoder.gate.conv.weight\", \"encoder.gate.bn.weight\", \"encoder.gate.bn.bias\", \"encoder.gate.bn.running_mean\", \"encoder.gate.bn.running_var\", \"encoder.gate.bn.num_batches_tracked\". "
     ]
    }
   ],
   "source": [
    "from glasses.interpretability import GradCam, SaliencyMap\n",
    "cfg = ResNet.configs['resnet18']\n",
    "\n",
    "transform = cfg.transform\n",
    "postprocessing = Normalize(-cfg.mean / cfg.std, (1.0 / cfg.std))\n",
    "\n",
    "x = transform(im).unsqueeze(0)\n",
    "model = ResNet.resnet18(pretrained=True)\n",
    "\n",
    "_ = model.interpret(x, using=SaliencyMap()).show()"
   ]
  },
  {
   "cell_type": "code",
   "execution_count": null,
   "metadata": {},
   "outputs": [],
   "source": [
    "def tensor2cam(image, cam):\n",
    "    image_with_heatmap = image2cam(image.permute(1, 2, 0).cpu().numpy(),\n",
    "                                   cam.detach().cpu().numpy())\n",
    "\n",
    "    return torch.from_numpy(image_with_heatmap)\n",
    "\n",
    "\n",
    "def image2cam(image, cam):\n",
    "    h, w, c = image.shape\n",
    "\n",
    "    cam -= np.min(cam)\n",
    "    cam /= np.max(cam)  # Normalize between 0-1\n",
    "    cam = cv2.resize(cam, (h, w))\n",
    "    cam = np.uint8(cam * 255.0)\n",
    "\n",
    "    img_with_cam = cv2.applyColorMap(cam, cv2.COLORMAP_JET)\n",
    "    img_with_cam = cv2.cvtColor(img_with_cam, cv2.COLOR_BGR2RGB)\n",
    "    img_with_cam = img_with_cam + (image * 255)\n",
    "    img_with_cam /= np.max(img_with_cam)\n",
    "\n",
    "    return img_with_cam"
   ]
  },
  {
   "cell_type": "code",
   "execution_count": null,
   "metadata": {
    "scrolled": true
   },
   "outputs": [],
   "source": [
    "model = ResNet.resnet18(pretrained=True).eval()\n",
    "conv = model.encoder.blocks[-1].block[-1].block.conv2\n",
    "\n",
    "weights_storage = ForwardModuleStorage(model, [conv])\n",
    "gradients_storage = BackwardModuleStorage([conv])\n",
    "\n",
    "cfg = ResNet.configs['resnet18']\n",
    "\n",
    "transform = cfg.transform\n",
    "\n",
    "im_tr = transform(im).unsqueeze(0)\n",
    "\n",
    "x = Variable(im_tr, requires_grad=True)\n",
    "\n",
    "out = model(x)\n",
    "\n",
    "cls = torch.argmax(torch.softmax(out, dim=1))\n",
    "\n",
    "target = torch.zeros(out.size())\n",
    "target[0][int(cls)] = 1\n",
    "        \n",
    "out.backward(gradient=target, retain_graph=True)"
   ]
  },
  {
   "cell_type": "code",
   "execution_count": null,
   "metadata": {},
   "outputs": [],
   "source": [
    "from torchvision.transforms import Normalize\n",
    "\n",
    "class NormalizeInverse(Normalize):\n",
    "    \"\"\"\n",
    "    Undoes the normalization and returns the reconstructed images in the input domain.\n",
    "    \"\"\"\n",
    "\n",
    "    def __init__(self, mean, std):\n",
    "        mean = torch.Tensor(mean)\n",
    "        std = torch.Tensor(std)\n",
    "        std_inv = 1 / (std + 1e-7)\n",
    "        mean_inv = -mean * std_inv\n",
    "        super().__init__(mean=mean_inv, std=std_inv)\n",
    "\n",
    "    def __call__(self, tensor):\n",
    "        return super().__call__(tensor.clone())\n"
   ]
  },
  {
   "cell_type": "code",
   "execution_count": null,
   "metadata": {},
   "outputs": [],
   "source": [
    "weights = weights_storage[conv][0]\n",
    "grads = gradients_storage[conv][0][0]\n",
    "\n",
    "post_processing = NormalizeInverse(cfg.mean, cfg.std)\n",
    "\n",
    "avg_channel_grad = F.adaptive_avg_pool2d(grads.data, 1)\n",
    "cam = F.relu(torch.sum(weights * avg_channel_grad, dim=1)).squeeze(0)\n",
    "image_with_heatmap = tensor2cam(post_processing(im_tr).squeeze(0), cam)\n"
   ]
  },
  {
   "cell_type": "code",
   "execution_count": null,
   "metadata": {},
   "outputs": [],
   "source": [
    "import matplotlib.pyplot as plt\n",
    "\n",
    "\n",
    "fig = plt.figure()\n",
    "\n",
    "plt.imshow(image_with_heatmap)"
   ]
  },
  {
   "cell_type": "markdown",
   "metadata": {},
   "source": [
    "## Get weights\n",
    "\n",
    "Proposed API\n",
    "\n",
    "```python\n",
    "ResNet.resnet50(pretrained=True, dataset='imagenet')\n",
    "\n",
    "ResNet.pretrained_models\n",
    "```\n",
    "\n"
   ]
  },
  {
   "cell_type": "code",
   "execution_count": null,
   "metadata": {
    "scrolled": true
   },
   "outputs": [],
   "source": [
    "from glasses.utils.PretrainedWeightsProvider import PretrainedWeightsProvider\n",
    "from pathlib import Path\n",
    "\n",
    "provider = PretrainedWeightsProvider()\n",
    "for key in provider.weights_zoo.keys():\n",
    "    provider[key]"
   ]
  },
  {
   "cell_type": "code",
   "execution_count": null,
   "metadata": {
    "scrolled": true
   },
   "outputs": [],
   "source": [
    "from glasses.nn.models import *\n",
    "\n",
    "\n",
    "# model = ResNetXt.resnext101_32x8d(pretrained=True)\n",
    "\n",
    "VGG.vgg13(pretrained=True).summary()"
   ]
  },
  {
   "cell_type": "code",
   "execution_count": null,
   "metadata": {
    "scrolled": true
   },
   "outputs": [],
   "source": [
    "import torch\n",
    "from glasses.nn.models import *\n",
    "x = torch.rand((1,3,224,224))\n",
    "\n",
    "\n",
    "FishNet.fishnet99()(x)"
   ]
  },
  {
   "cell_type": "code",
   "execution_count": null,
   "metadata": {},
   "outputs": [],
   "source": [
    "import torch\n",
    "from glasses.nn.models import *\n",
    "x = torch.rand((1,3,224,224))\n",
    "\n",
    "\n",
    "FishNet.fishnet99()(x)"
   ]
  },
  {
   "cell_type": "code",
   "execution_count": null,
   "metadata": {},
   "outputs": [],
   "source": [
    "torch.load('/home/zuppif/Desktop/test.pth')"
   ]
  },
  {
   "cell_type": "code",
   "execution_count": null,
   "metadata": {},
   "outputs": [],
   "source": [
    "from glasses.nn.blocks import Conv2dPad\n",
    "\n",
    "x = torch.rand((1,32,9,9))\n",
    "\n",
    "Conv2dPad(32, 64, kernel_size=9, mode = 'auto', padding=0)"
   ]
  },
  {
   "cell_type": "code",
   "execution_count": null,
   "metadata": {
    "scrolled": true
   },
   "outputs": [],
   "source": [
    "from glasses.nn.models import *\n",
    "\n",
    "model =  ResNetXt.resnet18(pretrained=True)"
   ]
  },
  {
   "cell_type": "code",
   "execution_count": null,
   "metadata": {},
   "outputs": [],
   "source": [
    "model.encoder.blocks[-1]"
   ]
  },
  {
   "cell_type": "code",
   "execution_count": null,
   "metadata": {},
   "outputs": [],
   "source": [
    "import timm\n",
    "\n",
    "timm.list_models('vgg')"
   ]
  },
  {
   "cell_type": "code",
   "execution_count": null,
   "metadata": {
    "scrolled": true
   },
   "outputs": [],
   "source": [
    "import timm\n",
    "m = timm.create_model('seresnet101', pretrained=True)\n",
    "m"
   ]
  },
  {
   "cell_type": "code",
   "execution_count": null,
   "metadata": {},
   "outputs": [],
   "source": [
    "from dataclasses import dataclass\n",
    "from typing import Tuple, List\n",
    "from pprint import pprint\n",
    "from benchmark import benchmark\n",
    "from glasses.utils.ModuleTransfer import ModuleTransfer\n",
    "from functools import partial\n",
    "from glasses.nn.models import *\n",
    "from torchvision.models import resnet18, resnet34, resnet50, resnet101, resnet152, resnext50_32x4d, resnext101_32x8d, wide_resnet50_2, wide_resnet101_2\n",
    "from tqdm.autonotebook import tqdm\n",
    "import torchvision.transforms as T\n",
    "import torch.nn as nn\n",
    "import torch\n",
    "from PIL import Image\n",
    "from glasses.utils.PretrainedWeightsProvider import Config\n",
    "\n",
    "\n",
    "models_weights = {\n",
    "    'seresnet50': Config(),\n",
    "#     'efficientnet_b4': Config(resize=380, input_size=380, interpolation='bicubic')\n",
    "}\n",
    "\n",
    "zoo_models_mapping = {\n",
    "    'seresnet50': [partial(timm.create_model, 'seresnet101',pretrained=True), SEResNet.cse_resnet34],\n",
    "   \n",
    "#   'efficientnet_b4': [partial(timm.create_model, 'tf_efficientnet_b4', pretrained=True), EfficientNet.efficientnet_b4]\n",
    "}\n",
    "\n",
    "\n",
    "\n",
    "# pprint(models_weights)"
   ]
  },
  {
   "cell_type": "code",
   "execution_count": null,
   "metadata": {},
   "outputs": [],
   "source": []
  },
  {
   "cell_type": "code",
   "execution_count": null,
   "metadata": {
    "scrolled": false
   },
   "outputs": [],
   "source": [
    "model"
   ]
  },
  {
   "cell_type": "code",
   "execution_count": null,
   "metadata": {
    "scrolled": true
   },
   "outputs": [],
   "source": [
    "model = EfficientNetPytorch.from_pretrained('efficientnet-b0')\n",
    "model.set_swish(False)\n",
    "summary(model.cuda(), (3, 224, 224))"
   ]
  }
 ],
 "metadata": {
  "kernelspec": {
   "display_name": "Python 3",
   "language": "python",
   "name": "python3"
  },
  "language_info": {
   "codemirror_mode": {
    "name": "ipython",
    "version": 3
   },
   "file_extension": ".py",
   "mimetype": "text/x-python",
   "name": "python",
   "nbconvert_exporter": "python",
   "pygments_lexer": "ipython3",
   "version": "3.8.2"
  }
 },
 "nbformat": 4,
 "nbformat_minor": 4
}
