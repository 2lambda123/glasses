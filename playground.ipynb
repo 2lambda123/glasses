{
 "cells": [
  {
   "cell_type": "code",
   "execution_count": 1,
   "metadata": {},
   "outputs": [],
   "source": [
    "%load_ext autoreload\n",
    "%autoreload 2"
   ]
  },
  {
   "cell_type": "code",
   "execution_count": 1,
   "metadata": {},
   "outputs": [],
   "source": [
    "import torch\n",
    "import torch.nn as nn"
   ]
  },
  {
   "cell_type": "markdown",
   "metadata": {},
   "source": [
    "## Get weights\n",
    "\n",
    "Proposed API\n",
    "\n",
    "```python\n",
    "ResNet.resnet50(pretrained=True, dataset='imagenet')\n",
    "\n",
    "ResNet.pretrained_models\n",
    "```\n",
    "\n"
   ]
  },
  {
   "cell_type": "code",
   "execution_count": 2,
   "metadata": {},
   "outputs": [],
   "source": [
    "import requests\n",
    "\n",
    "def download_file_from_google_drive(id, destination):\n",
    "    URL = \"https://docs.google.com/uc?export=download\"\n",
    "\n",
    "    session = requests.Session()\n",
    "\n",
    "    response = session.get(URL, params = { 'id' : id }, stream = True)\n",
    "    token = get_confirm_token(response)\n",
    "\n",
    "    if token:\n",
    "        params = { 'id' : id, 'confirm' : token }\n",
    "        response = session.get(URL, params = params, stream = True)\n",
    "\n",
    "    save_response_content(response, destination)    \n",
    "\n",
    "def get_confirm_token(response):\n",
    "    for key, value in response.cookies.items():\n",
    "        if key.startswith('download_warning'):\n",
    "            return value\n",
    "\n",
    "    return None\n",
    "\n",
    "def save_response_content(response, destination):\n",
    "    CHUNK_SIZE = 1024\n",
    "\n",
    "    with open(destination, \"wb\") as f:\n",
    "        for chunk in response.iter_content(CHUNK_SIZE):\n",
    "            if chunk: # filter out keep-alive new chunks\n",
    "                f.write(chunk)"
   ]
  },
  {
   "cell_type": "code",
   "execution_count": 3,
   "metadata": {},
   "outputs": [],
   "source": [
    "download_file_from_google_drive('1CMyib_ACsWUIbXa7KjX3NXKkfAQyNnLd', '/home/zuppif/Desktop/test.pth')"
   ]
  },
  {
   "cell_type": "code",
   "execution_count": 7,
   "metadata": {},
   "outputs": [
    {
     "name": "stderr",
     "output_type": "stream",
     "text": [
      "INFO:root:Loaded resnet18 pretrained weights.\n"
     ]
    }
   ],
   "source": [
    "from glasses.nn.models import *\n",
    "\n",
    "\n",
    "model = ResNet.resnet18(pretrained=True)\n",
    "\n"
   ]
  },
  {
   "cell_type": "code",
   "execution_count": null,
   "metadata": {
    "scrolled": true
   },
   "outputs": [],
   "source": [
    "import torch\n",
    "from glasses.nn.models import *\n",
    "x = torch.rand((1,3,224,224))\n",
    "\n",
    "\n",
    "FishNet.fishnet99()(x)"
   ]
  },
  {
   "cell_type": "code",
   "execution_count": null,
   "metadata": {},
   "outputs": [],
   "source": [
    "import torch\n",
    "from glasses.nn.models import *\n",
    "x = torch.rand((1,3,224,224))\n",
    "\n",
    "\n",
    "FishNet.fishnet99()(x)"
   ]
  },
  {
   "cell_type": "code",
   "execution_count": null,
   "metadata": {},
   "outputs": [],
   "source": [
    "from glasses.nn.blocks import Conv2dPad\n",
    "\n",
    "x = torch.rand((1,32,9,9))\n",
    "\n",
    "Conv2dPad(32, 64, kernel_size=9, mode = 'auto', padding=0)"
   ]
  },
  {
   "cell_type": "code",
   "execution_count": null,
   "metadata": {
    "scrolled": true
   },
   "outputs": [],
   "source": [
    "from glasses.nn.models import *\n",
    "\n",
    "model =  ResNetXt.resnet18(pretrained=True)"
   ]
  },
  {
   "cell_type": "code",
   "execution_count": null,
   "metadata": {},
   "outputs": [],
   "source": [
    "model.encoder.blocks[-1]"
   ]
  },
  {
   "cell_type": "code",
   "execution_count": null,
   "metadata": {},
   "outputs": [],
   "source": [
    "import timm\n",
    "\n",
    "timm.list_models('vgg')"
   ]
  },
  {
   "cell_type": "code",
   "execution_count": null,
   "metadata": {
    "scrolled": true
   },
   "outputs": [],
   "source": [
    "import timm\n",
    "m = timm.create_model('seresnet101', pretrained=True)\n",
    "m"
   ]
  },
  {
   "cell_type": "code",
   "execution_count": null,
   "metadata": {},
   "outputs": [],
   "source": [
    "from dataclasses import dataclass\n",
    "from typing import Tuple, List\n",
    "from pprint import pprint\n",
    "from benchmark import benchmark\n",
    "from glasses.utils.ModuleTransfer import ModuleTransfer\n",
    "from functools import partial\n",
    "from glasses.nn.models import *\n",
    "from torchvision.models import resnet18, resnet34, resnet50, resnet101, resnet152, resnext50_32x4d, resnext101_32x8d, wide_resnet50_2, wide_resnet101_2\n",
    "from tqdm.autonotebook import tqdm\n",
    "import torchvision.transforms as T\n",
    "import torch.nn as nn\n",
    "import torch\n",
    "from PIL import Image\n",
    "from glasses.utils.PretrainedWeightsProvider import Config\n",
    "\n",
    "\n",
    "models_weights = {\n",
    "    'seresnet50': Config(),\n",
    "#     'efficientnet_b4': Config(resize=380, input_size=380, interpolation='bicubic')\n",
    "}\n",
    "\n",
    "zoo_models_mapping = {\n",
    "    'seresnet50': [partial(timm.create_model, 'seresnet101',pretrained=True), SEResNet.cse_resnet34],\n",
    "   \n",
    "#   'efficientnet_b4': [partial(timm.create_model, 'tf_efficientnet_b4', pretrained=True), EfficientNet.efficientnet_b4]\n",
    "}\n",
    "\n",
    "\n",
    "\n",
    "# pprint(models_weights)"
   ]
  },
  {
   "cell_type": "code",
   "execution_count": null,
   "metadata": {},
   "outputs": [],
   "source": [
    "def clone_model(src: nn.Module, dst: nn.Module) -> nn.Module:\n",
    "    src = src.eval()\n",
    "    dst = dst.eval()\n",
    "\n",
    "    x = torch.rand((1, 3, 224, 224))\n",
    "    a = src(x)\n",
    "    b = dst(x)\n",
    "\n",
    "    # assert not torch.equal(a, b)\n",
    "\n",
    "    ModuleTransfer(src, dst)(x)\n",
    "\n",
    "    # a = src(x)\n",
    "    # b = dst(x)\n",
    "\n",
    "    # assert torch.equal(a, b)\n",
    "\n",
    "    return dst\n"
   ]
  },
  {
   "cell_type": "code",
   "execution_count": null,
   "metadata": {
    "scrolled": false
   },
   "outputs": [],
   "source": [
    "bar = tqdm(zoo_models_mapping.items())\n",
    "\n",
    "for name, mapping in bar:\n",
    "    \n",
    "    src, dst = mapping[0](), mapping[1]()\n",
    "    tr = models_weights[name].transform\n",
    "    print(tr)\n",
    "    clone_model(src, dst)\n",
    "    bar.set_description(name)\n",
    "    res = benchmark(dst.cuda(), tr)\n",
    "    print(name, res)\n",
    "    \n",
    "    res = benchmark(src.cuda(), tr)\n",
    "    print(name, res)"
   ]
  },
  {
   "cell_type": "code",
   "execution_count": null,
   "metadata": {},
   "outputs": [],
   "source": [
    "[{'original_time': 84.83511066436768,████████████████████████████████████████████████████████████████████████████████████████████████████████████████████████▌| 49866/50000 [00:05<00:00, 9220.38it/s]\n",
    "  'original_top1': 0.74654,\n",
    "  'original_top5': 0.91924},\n",
    " {'original_time': 122.87314462661743,\n",
    "  'original_top1': 0.74602,\n",
    "  'original_top5': 0.9159},\n",
    " {'original_time': 168.03247451782227,\n",
    "  'original_top1': 0.79398,\n",
    "  'original_top5': 0.94576},\n",
    " {'original_time': 281.6872932910919,\n",
    "  'original_top1': 0.81218,\n",
    "  'original_top5': 0.95528},\n",
    " {'original_time': 588.1660254001617,\n",
    "  'original_top1': 0.8279,\n",
    "  'original_top5': 0.96234},\n",
    " {'original_time': 1126.7628757953644,\n",
    "  'original_top1': 0.8346,\n",
    "  'original_top5': 0.96624}]"
   ]
  },
  {
   "cell_type": "code",
   "execution_count": null,
   "metadata": {},
   "outputs": [],
   "source": [
    "EfficientNet.b0()"
   ]
  },
  {
   "cell_type": "code",
   "execution_count": null,
   "metadata": {
    "scrolled": true
   },
   "outputs": [],
   "source": [
    "from efficientnet_pytorch import EfficientNet as EfficientNetPytorch\n",
    "from glasses.nn.models import  EfficientNet\n",
    "from torchsummary import summary\n",
    "\n",
    "\n",
    "\n",
    "summary(EfficientNet.b0().cuda(), (3, 224, 224))"
   ]
  },
  {
   "cell_type": "code",
   "execution_count": null,
   "metadata": {
    "scrolled": true
   },
   "outputs": [],
   "source": [
    "model = EfficientNetPytorch.from_pretrained('efficientnet-b0')\n",
    "model.set_swish(False)\n",
    "summary(model.cuda(), (3, 224, 224))"
   ]
  },
  {
   "cell_type": "code",
   "execution_count": null,
   "metadata": {
    "scrolled": false
   },
   "outputs": [],
   "source": [
    "model"
   ]
  },
  {
   "cell_type": "code",
   "execution_count": null,
   "metadata": {},
   "outputs": [],
   "source": []
  }
 ],
 "metadata": {
  "kernelspec": {
   "display_name": "Python 3",
   "language": "python",
   "name": "python3"
  },
  "language_info": {
   "codemirror_mode": {
    "name": "ipython",
    "version": 3
   },
   "file_extension": ".py",
   "mimetype": "text/x-python",
   "name": "python",
   "nbconvert_exporter": "python",
   "pygments_lexer": "ipython3",
   "version": "3.8.2"
  }
 },
 "nbformat": 4,
 "nbformat_minor": 4
}
