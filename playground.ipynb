{
 "cells": [
  {
   "cell_type": "code",
   "execution_count": 1,
   "metadata": {},
   "outputs": [],
   "source": [
    "%load_ext autoreload\n",
    "%autoreload 2"
   ]
  },
  {
   "cell_type": "code",
   "execution_count": 2,
   "metadata": {
    "scrolled": true
   },
   "outputs": [
    {
     "data": {
      "text/plain": [
       "torch.Size([1, 1000])"
      ]
     },
     "execution_count": 2,
     "metadata": {},
     "output_type": "execute_result"
    }
   ],
   "source": [
    "from glasses.nn.models.classification.efficientnet import *\n",
    "\n",
    "x = torch.randn(1,3,224,224)\n",
    "EfficientNetLite.efficientnet_lite0(mode='same')(x).shape"
   ]
  },
  {
   "cell_type": "code",
   "execution_count": 3,
   "metadata": {},
   "outputs": [
    {
     "data": {
      "text/plain": [
       "ResNetLayer(\n",
       "  (block): Sequential(\n",
       "    (0): EfficientNetBasicBlock(\n",
       "      (block): Sequential(\n",
       "        (exp): ConvBnAct(\n",
       "          (conv): Conv2dPad(32, 192, kernel_size=(1, 1), stride=(1, 1), bias=False)\n",
       "          (bn): BatchNorm2d(192, eps=1e-05, momentum=0.1, affine=True, track_running_stats=True)\n",
       "          (act): SiLU()\n",
       "        )\n",
       "        (depth): ConvBnAct(\n",
       "          (conv): Conv2dPad(192, 192, kernel_size=(3, 3), stride=(2, 2), padding=(1, 1), groups=192, bias=False)\n",
       "          (bn): BatchNorm2d(192, eps=1e-05, momentum=0.1, affine=True, track_running_stats=True)\n",
       "          (act): SiLU()\n",
       "        )\n",
       "        (att): ChannelSE(\n",
       "          (avg_pool): AdaptiveAvgPool2d(output_size=1)\n",
       "          (att): Sequential(\n",
       "            (conv1): Conv2d(192, 8, kernel_size=(1, 1), stride=(1, 1))\n",
       "            (act1): SiLU()\n",
       "            (conv2): Conv2d(8, 192, kernel_size=(1, 1), stride=(1, 1))\n",
       "            (act2): Sigmoid()\n",
       "          )\n",
       "        )\n",
       "        (point): Sequential(\n",
       "          (0): ConvBnAct(\n",
       "            (conv): Conv2dPad(192, 64, kernel_size=(1, 1), stride=(1, 1), bias=False)\n",
       "            (bn): BatchNorm2d(64, eps=1e-05, momentum=0.1, affine=True, track_running_stats=True)\n",
       "          )\n",
       "        )\n",
       "        (drop): Identity()\n",
       "      )\n",
       "    )\n",
       "  )\n",
       ")"
      ]
     },
     "execution_count": 3,
     "metadata": {},
     "output_type": "execute_result"
    }
   ],
   "source": [
    "EfficientNetLayer(32, 64)"
   ]
  },
  {
   "cell_type": "code",
   "execution_count": 13,
   "metadata": {
    "scrolled": true
   },
   "outputs": [
    {
     "name": "stdout",
     "output_type": "stream",
     "text": [
      "----------------------------------------------------------------\n",
      "        Layer (type)               Output Shape         Param #\n",
      "================================================================\n",
      "         Conv2dPad-1         [-1, 64, 112, 112]           3,136\n",
      "       BatchNorm2d-2         [-1, 64, 112, 112]             128\n",
      "              ReLU-3         [-1, 64, 112, 112]               0\n",
      "         MaxPool2d-4           [-1, 64, 56, 56]               0\n",
      "         Conv2dPad-5           [-1, 64, 56, 56]           4,096\n",
      "       BatchNorm2d-6           [-1, 64, 56, 56]             128\n",
      "              ReLU-7           [-1, 64, 56, 56]               0\n",
      "         Conv2dPad-8           [-1, 64, 56, 56]          36,864\n",
      "       BatchNorm2d-9           [-1, 64, 56, 56]             128\n",
      "             ReLU-10           [-1, 64, 56, 56]               0\n",
      "        Conv2dPad-11          [-1, 256, 56, 56]          16,384\n",
      "      BatchNorm2d-12          [-1, 256, 56, 56]             512\n",
      "        Conv2dPad-13          [-1, 256, 56, 56]          16,384\n",
      "      BatchNorm2d-14          [-1, 256, 56, 56]             512\n",
      "    ResNetShorcut-15          [-1, 256, 56, 56]               0\n",
      "             ReLU-16          [-1, 256, 56, 56]               0\n",
      "ResNetBottleneckBlock-17          [-1, 256, 56, 56]               0\n",
      "        Conv2dPad-18           [-1, 64, 56, 56]          16,384\n",
      "      BatchNorm2d-19           [-1, 64, 56, 56]             128\n",
      "             ReLU-20           [-1, 64, 56, 56]               0\n",
      "        Conv2dPad-21           [-1, 64, 56, 56]          36,864\n",
      "      BatchNorm2d-22           [-1, 64, 56, 56]             128\n",
      "             ReLU-23           [-1, 64, 56, 56]               0\n",
      "        Conv2dPad-24          [-1, 256, 56, 56]          16,384\n",
      "      BatchNorm2d-25          [-1, 256, 56, 56]             512\n",
      "         Identity-26          [-1, 256, 56, 56]               0\n",
      "             ReLU-27          [-1, 256, 56, 56]               0\n",
      "ResNetBottleneckBlock-28          [-1, 256, 56, 56]               0\n",
      "      ResNetLayer-29          [-1, 256, 56, 56]               0\n",
      "        Conv2dPad-30          [-1, 128, 56, 56]          32,768\n",
      "      BatchNorm2d-31          [-1, 128, 56, 56]             256\n",
      "             ReLU-32          [-1, 128, 56, 56]               0\n",
      "        Conv2dPad-33          [-1, 128, 28, 28]         147,456\n",
      "      BatchNorm2d-34          [-1, 128, 28, 28]             256\n",
      "             ReLU-35          [-1, 128, 28, 28]               0\n",
      "        Conv2dPad-36          [-1, 512, 28, 28]          65,536\n",
      "      BatchNorm2d-37          [-1, 512, 28, 28]           1,024\n",
      "        Conv2dPad-38          [-1, 512, 28, 28]         131,072\n",
      "      BatchNorm2d-39          [-1, 512, 28, 28]           1,024\n",
      "    ResNetShorcut-40          [-1, 512, 28, 28]               0\n",
      "             ReLU-41          [-1, 512, 28, 28]               0\n",
      "ResNetBottleneckBlock-42          [-1, 512, 28, 28]               0\n",
      "        Conv2dPad-43          [-1, 128, 28, 28]          65,536\n",
      "      BatchNorm2d-44          [-1, 128, 28, 28]             256\n",
      "             ReLU-45          [-1, 128, 28, 28]               0\n",
      "        Conv2dPad-46          [-1, 128, 28, 28]         147,456\n",
      "      BatchNorm2d-47          [-1, 128, 28, 28]             256\n",
      "             ReLU-48          [-1, 128, 28, 28]               0\n",
      "        Conv2dPad-49          [-1, 512, 28, 28]          65,536\n",
      "      BatchNorm2d-50          [-1, 512, 28, 28]           1,024\n",
      "         Identity-51          [-1, 512, 28, 28]               0\n",
      "             ReLU-52          [-1, 512, 28, 28]               0\n",
      "ResNetBottleneckBlock-53          [-1, 512, 28, 28]               0\n",
      "      ResNetLayer-54          [-1, 512, 28, 28]               0\n",
      "        Conv2dPad-55          [-1, 256, 28, 28]         131,072\n",
      "      BatchNorm2d-56          [-1, 256, 28, 28]             512\n",
      "             ReLU-57          [-1, 256, 28, 28]               0\n",
      "        Conv2dPad-58          [-1, 256, 14, 14]         589,824\n",
      "      BatchNorm2d-59          [-1, 256, 14, 14]             512\n",
      "             ReLU-60          [-1, 256, 14, 14]               0\n",
      "        Conv2dPad-61         [-1, 1024, 14, 14]         262,144\n",
      "      BatchNorm2d-62         [-1, 1024, 14, 14]           2,048\n",
      "        Conv2dPad-63         [-1, 1024, 14, 14]         524,288\n",
      "      BatchNorm2d-64         [-1, 1024, 14, 14]           2,048\n",
      "    ResNetShorcut-65         [-1, 1024, 14, 14]               0\n",
      "             ReLU-66         [-1, 1024, 14, 14]               0\n",
      "ResNetBottleneckBlock-67         [-1, 1024, 14, 14]               0\n",
      "        Conv2dPad-68          [-1, 256, 14, 14]         262,144\n",
      "      BatchNorm2d-69          [-1, 256, 14, 14]             512\n",
      "             ReLU-70          [-1, 256, 14, 14]               0\n",
      "        Conv2dPad-71          [-1, 256, 14, 14]         589,824\n",
      "      BatchNorm2d-72          [-1, 256, 14, 14]             512\n",
      "             ReLU-73          [-1, 256, 14, 14]               0\n",
      "        Conv2dPad-74         [-1, 1024, 14, 14]         262,144\n",
      "      BatchNorm2d-75         [-1, 1024, 14, 14]           2,048\n",
      "         Identity-76         [-1, 1024, 14, 14]               0\n",
      "             ReLU-77         [-1, 1024, 14, 14]               0\n",
      "ResNetBottleneckBlock-78         [-1, 1024, 14, 14]               0\n",
      "      ResNetLayer-79         [-1, 1024, 14, 14]               0\n",
      "        Conv2dPad-80          [-1, 512, 14, 14]         524,288\n",
      "      BatchNorm2d-81          [-1, 512, 14, 14]           1,024\n",
      "             ReLU-82          [-1, 512, 14, 14]               0\n",
      "        Conv2dPad-83            [-1, 512, 7, 7]       2,359,296\n",
      "      BatchNorm2d-84            [-1, 512, 7, 7]           1,024\n",
      "             ReLU-85            [-1, 512, 7, 7]               0\n",
      "        Conv2dPad-86           [-1, 2048, 7, 7]       1,048,576\n",
      "      BatchNorm2d-87           [-1, 2048, 7, 7]           4,096\n",
      "        Conv2dPad-88           [-1, 2048, 7, 7]       2,097,152\n",
      "      BatchNorm2d-89           [-1, 2048, 7, 7]           4,096\n",
      "    ResNetShorcut-90           [-1, 2048, 7, 7]               0\n",
      "             ReLU-91           [-1, 2048, 7, 7]               0\n",
      "ResNetBottleneckBlock-92           [-1, 2048, 7, 7]               0\n",
      "        Conv2dPad-93            [-1, 512, 7, 7]       1,048,576\n",
      "      BatchNorm2d-94            [-1, 512, 7, 7]           1,024\n",
      "             ReLU-95            [-1, 512, 7, 7]               0\n",
      "        Conv2dPad-96            [-1, 512, 7, 7]       2,359,296\n",
      "      BatchNorm2d-97            [-1, 512, 7, 7]           1,024\n",
      "             ReLU-98            [-1, 512, 7, 7]               0\n",
      "        Conv2dPad-99           [-1, 2048, 7, 7]       1,048,576\n",
      "     BatchNorm2d-100           [-1, 2048, 7, 7]           4,096\n",
      "        Identity-101           [-1, 2048, 7, 7]               0\n",
      "            ReLU-102           [-1, 2048, 7, 7]               0\n",
      "ResNetBottleneckBlock-103           [-1, 2048, 7, 7]               0\n",
      "     ResNetLayer-104           [-1, 2048, 7, 7]               0\n",
      " ConvTranspose2d-105         [-1, 1024, 14, 14]       8,389,632\n",
      "       Conv2dPad-106         [-1, 1024, 14, 14]      18,874,368\n",
      "     BatchNorm2d-107         [-1, 1024, 14, 14]           2,048\n",
      "            ReLU-108         [-1, 1024, 14, 14]               0\n",
      "       Conv2dPad-109         [-1, 1024, 14, 14]       9,437,184\n",
      "     BatchNorm2d-110         [-1, 1024, 14, 14]           2,048\n",
      "            ReLU-111         [-1, 1024, 14, 14]               0\n",
      "  UNetBasicBlock-112         [-1, 1024, 14, 14]               0\n",
      "         UpLayer-113         [-1, 1024, 14, 14]               0\n",
      " ConvTranspose2d-114          [-1, 512, 28, 28]       2,097,664\n",
      "       Conv2dPad-115          [-1, 512, 28, 28]       4,718,592\n",
      "     BatchNorm2d-116          [-1, 512, 28, 28]           1,024\n",
      "            ReLU-117          [-1, 512, 28, 28]               0\n",
      "       Conv2dPad-118          [-1, 512, 28, 28]       2,359,296\n",
      "     BatchNorm2d-119          [-1, 512, 28, 28]           1,024\n",
      "            ReLU-120          [-1, 512, 28, 28]               0\n",
      "  UNetBasicBlock-121          [-1, 512, 28, 28]               0\n",
      "         UpLayer-122          [-1, 512, 28, 28]               0\n",
      " ConvTranspose2d-123          [-1, 256, 56, 56]         524,544\n",
      "       Conv2dPad-124          [-1, 256, 56, 56]       1,179,648\n",
      "     BatchNorm2d-125          [-1, 256, 56, 56]             512\n",
      "            ReLU-126          [-1, 256, 56, 56]               0\n",
      "       Conv2dPad-127          [-1, 256, 56, 56]         589,824\n",
      "     BatchNorm2d-128          [-1, 256, 56, 56]             512\n",
      "            ReLU-129          [-1, 256, 56, 56]               0\n",
      "  UNetBasicBlock-130          [-1, 256, 56, 56]               0\n",
      "         UpLayer-131          [-1, 256, 56, 56]               0\n",
      "          Conv2d-132            [-1, 2, 56, 56]             514\n",
      "            UNet-133            [-1, 2, 56, 56]               0\n",
      "================================================================\n",
      "Total params: 62,118,338\n",
      "Trainable params: 62,118,338\n",
      "Non-trainable params: 0\n",
      "----------------------------------------------------------------\n",
      "Input size (MB): 0.19\n",
      "Forward/backward pass size (MB): 312.28\n",
      "Params size (MB): 236.96\n",
      "Estimated Total Size (MB): 549.43\n",
      "----------------------------------------------------------------\n",
      "\n"
     ]
    },
    {
     "data": {
      "text/plain": [
       "(tensor(62118338), tensor(62118338), tensor(236.9626), tensor(549.4333))"
      ]
     },
     "execution_count": 13,
     "metadata": {},
     "output_type": "execute_result"
    }
   ],
   "source": [
    "from glasses.nn.models import UNet\n",
    "from glasses.nn.models.classification.resnet import ResNetEncoder, ResNet\n",
    "\n",
    "UNet(encoder=lambda x: ResNet.resnet26(in_channels=1).encoder).summary((1,224,224))"
   ]
  },
  {
   "cell_type": "markdown",
   "metadata": {},
   "source": [
    "# Benchmark"
   ]
  },
  {
   "cell_type": "code",
   "execution_count": null,
   "metadata": {},
   "outputs": [],
   "source": [
    "from glasses.nn.models.classification.efficientnet import *\n",
    "import timm\n",
    "\n",
    "from transfer_weights import clone_model\n",
    "from benchmark import benchmark\n",
    "\n",
    "src = timm.create_model('tf_efficientnet_lite1', pretrained='True')\n",
    "dst = EfficientNetLite.efficientnet_lite1(mode='same')"
   ]
  },
  {
   "cell_type": "code",
   "execution_count": null,
   "metadata": {},
   "outputs": [],
   "source": [
    "dst = clone_model(src, dst)"
   ]
  },
  {
   "cell_type": "code",
   "execution_count": null,
   "metadata": {},
   "outputs": [],
   "source": [
    "dst.summary()"
   ]
  },
  {
   "cell_type": "code",
   "execution_count": null,
   "metadata": {},
   "outputs": [],
   "source": [
    "dst"
   ]
  },
  {
   "cell_type": "code",
   "execution_count": null,
   "metadata": {
    "scrolled": false
   },
   "outputs": [],
   "source": [
    "import torch\n",
    "\n",
    "transform = dst.configs['efficientnet_lite1'].transform\n",
    "\n",
    "benchmark(dst.cuda(), transform)"
   ]
  },
  {
   "cell_type": "code",
   "execution_count": null,
   "metadata": {
    "scrolled": true
   },
   "outputs": [],
   "source": [
    "benchmark(src.cuda(), transform)"
   ]
  },
  {
   "cell_type": "code",
   "execution_count": null,
   "metadata": {
    "scrolled": true
   },
   "outputs": [],
   "source": [
    "src = timm.create_model('efficientnet_b0', pretrained='True')\n",
    "src"
   ]
  },
  {
   "cell_type": "code",
   "execution_count": null,
   "metadata": {
    "scrolled": true
   },
   "outputs": [],
   "source": [
    "dst.summary()"
   ]
  },
  {
   "cell_type": "code",
   "execution_count": null,
   "metadata": {},
   "outputs": [],
   "source": []
  }
 ],
 "metadata": {
  "kernelspec": {
   "display_name": "Python 3",
   "language": "python",
   "name": "python3"
  },
  "language_info": {
   "codemirror_mode": {
    "name": "ipython",
    "version": 3
   },
   "file_extension": ".py",
   "mimetype": "text/x-python",
   "name": "python",
   "nbconvert_exporter": "python",
   "pygments_lexer": "ipython3",
   "version": "3.8.2"
  }
 },
 "nbformat": 4,
 "nbformat_minor": 4
}
